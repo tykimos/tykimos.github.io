{
  "nbformat": 4,
  "nbformat_minor": 0,
  "metadata": {
    "colab": {
      "name": "mnist_val_training_monitoring.ipynb",
      "provenance": [],
      "collapsed_sections": [],
      "authorship_tag": "ABX9TyMsJgW78IY8BEWgSV19b2zE",
      "include_colab_link": true
    },
    "kernelspec": {
      "name": "python3",
      "display_name": "Python 3"
    }
  },
  "cells": [
    {
      "cell_type": "markdown",
      "metadata": {
        "id": "view-in-github",
        "colab_type": "text"
      },
      "source": [
        "<a href=\"https://colab.research.google.com/github/tykimos/tykimos.github.io/blob/master/mnist_val_training_monitoring.ipynb\" target=\"_parent\"><img src=\"https://colab.research.google.com/assets/colab-badge.svg\" alt=\"Open In Colab\"/></a>"
      ]
    },
    {
      "cell_type": "code",
      "metadata": {
        "id": "QsF8xEuU9Tel",
        "colab_type": "code",
        "colab": {
          "base_uri": "https://localhost:8080/",
          "height": 1000
        },
        "outputId": "5dac34cb-fcf0-4e48-d2f2-842ed9c36f30"
      },
      "source": [
        "# 0. 사용할 패키지 불러오기\n",
        "from keras.utils import np_utils\n",
        "from keras.datasets import mnist\n",
        "from keras.models import Sequential\n",
        "from keras.layers import Dense, Activation\n",
        "\n",
        "# 1. 데이터셋 생성하기\n",
        "(x_train, y_train), (x_test, y_test) = mnist.load_data()\n",
        "\n",
        "###\n",
        "x_val = x_train[50000:60000] # 10000 개\n",
        "y_val = y_train[50000:60000] # 10000 개\n",
        "x_train = x_train[:50000]\n",
        "y_train = y_train[:50000]\n",
        "###\n",
        "\n",
        "x_train = x_train.reshape(50000, 784).astype('float32') / 255.0\n",
        "x_val = x_val.reshape(10000, 784).astype('float32') / 255.0\n",
        "x_test = x_test.reshape(10000, 784).astype('float32') / 255.0\n",
        "y_train = np_utils.to_categorical(y_train)\n",
        "y_val = np_utils.to_categorical(y_val)\n",
        "y_test = np_utils.to_categorical(y_test)\n",
        "\n",
        "# 2. 모델 구성하기\n",
        "model = Sequential()\n",
        "model.add(Dense(units=64, input_dim=28*28, activation='relu'))\n",
        "model.add(Dense(units=10, activation='softmax'))\n",
        "\n",
        "# 3. 모델 학습과정 설정하기\n",
        "model.compile(loss='categorical_crossentropy', optimizer='sgd', metrics=['accuracy'])\n",
        "\n",
        "# 4. 모델 학습시키기\n",
        "hist = model.fit(x_train, y_train, epochs=200, batch_size=32, validation_data=(x_val, y_val))\n",
        "\n",
        "# 5. 학습과정 살펴보기\n",
        "print('## training loss and accuracy ##')\n",
        "print(hist.history['loss'])\n",
        "print(hist.history['accuracy'])\n",
        "print(hist.history['val_loss'])\n",
        "print(hist.history['val_accuracy'])\n",
        "\n",
        "# 6. 모델 평가하기\n",
        "loss_and_metrics = model.evaluate(x_test, y_test, batch_size=32)\n",
        "print('## evaluation loss and_metrics ##')\n",
        "print(loss_and_metrics)\n",
        "\n",
        "# 7. 모델 사용하기\n",
        "xhat = x_test[0:1]\n",
        "yhat = model.predict(xhat)\n",
        "print('## yhat ##')\n",
        "print(yhat)"
      ],
      "execution_count": null,
      "outputs": [
        {
          "output_type": "stream",
          "text": [
            "Train on 50000 samples, validate on 10000 samples\n",
            "Epoch 1/200\n",
            "50000/50000 [==============================] - 2s 48us/step - loss: 0.7576 - accuracy: 0.8041 - val_loss: 0.3753 - val_accuracy: 0.9018\n",
            "Epoch 2/200\n",
            "50000/50000 [==============================] - 2s 47us/step - loss: 0.3659 - accuracy: 0.8993 - val_loss: 0.3051 - val_accuracy: 0.9180\n",
            "Epoch 3/200\n",
            "50000/50000 [==============================] - 2s 47us/step - loss: 0.3143 - accuracy: 0.9116 - val_loss: 0.2745 - val_accuracy: 0.9229\n",
            "Epoch 4/200\n",
            "50000/50000 [==============================] - 2s 47us/step - loss: 0.2848 - accuracy: 0.9200 - val_loss: 0.2535 - val_accuracy: 0.9305\n",
            "Epoch 5/200\n",
            "50000/50000 [==============================] - 2s 48us/step - loss: 0.2627 - accuracy: 0.9265 - val_loss: 0.2375 - val_accuracy: 0.9355\n",
            "Epoch 6/200\n",
            "50000/50000 [==============================] - 2s 48us/step - loss: 0.2446 - accuracy: 0.9317 - val_loss: 0.2226 - val_accuracy: 0.9408\n",
            "Epoch 7/200\n",
            "50000/50000 [==============================] - 2s 47us/step - loss: 0.2297 - accuracy: 0.9349 - val_loss: 0.2147 - val_accuracy: 0.9415\n",
            "Epoch 8/200\n",
            "50000/50000 [==============================] - 2s 47us/step - loss: 0.2173 - accuracy: 0.9392 - val_loss: 0.2031 - val_accuracy: 0.9435\n",
            "Epoch 9/200\n",
            "50000/50000 [==============================] - 2s 47us/step - loss: 0.2061 - accuracy: 0.9422 - val_loss: 0.1940 - val_accuracy: 0.9477\n",
            "Epoch 10/200\n",
            "50000/50000 [==============================] - 2s 47us/step - loss: 0.1963 - accuracy: 0.9453 - val_loss: 0.1868 - val_accuracy: 0.9501\n",
            "Epoch 11/200\n",
            "50000/50000 [==============================] - 2s 47us/step - loss: 0.1875 - accuracy: 0.9481 - val_loss: 0.1830 - val_accuracy: 0.9504\n",
            "Epoch 12/200\n",
            "50000/50000 [==============================] - 2s 47us/step - loss: 0.1796 - accuracy: 0.9503 - val_loss: 0.1743 - val_accuracy: 0.9523\n",
            "Epoch 13/200\n",
            "50000/50000 [==============================] - 2s 46us/step - loss: 0.1724 - accuracy: 0.9513 - val_loss: 0.1698 - val_accuracy: 0.9540\n",
            "Epoch 14/200\n",
            "50000/50000 [==============================] - 2s 48us/step - loss: 0.1656 - accuracy: 0.9537 - val_loss: 0.1642 - val_accuracy: 0.9550\n",
            "Epoch 15/200\n",
            "50000/50000 [==============================] - 2s 49us/step - loss: 0.1593 - accuracy: 0.9550 - val_loss: 0.1603 - val_accuracy: 0.9562\n",
            "Epoch 16/200\n",
            "50000/50000 [==============================] - 2s 47us/step - loss: 0.1536 - accuracy: 0.9569 - val_loss: 0.1558 - val_accuracy: 0.9570\n",
            "Epoch 17/200\n",
            "50000/50000 [==============================] - 2s 49us/step - loss: 0.1483 - accuracy: 0.9594 - val_loss: 0.1528 - val_accuracy: 0.9590\n",
            "Epoch 18/200\n",
            "50000/50000 [==============================] - 3s 51us/step - loss: 0.1435 - accuracy: 0.9602 - val_loss: 0.1505 - val_accuracy: 0.9596\n",
            "Epoch 19/200\n",
            "50000/50000 [==============================] - 3s 50us/step - loss: 0.1388 - accuracy: 0.9621 - val_loss: 0.1471 - val_accuracy: 0.9601\n",
            "Epoch 20/200\n",
            "50000/50000 [==============================] - 3s 51us/step - loss: 0.1345 - accuracy: 0.9627 - val_loss: 0.1432 - val_accuracy: 0.9616\n",
            "Epoch 21/200\n",
            "50000/50000 [==============================] - 2s 47us/step - loss: 0.1302 - accuracy: 0.9642 - val_loss: 0.1428 - val_accuracy: 0.9609\n",
            "Epoch 22/200\n",
            "50000/50000 [==============================] - 2s 49us/step - loss: 0.1267 - accuracy: 0.9650 - val_loss: 0.1383 - val_accuracy: 0.9629\n",
            "Epoch 23/200\n",
            "50000/50000 [==============================] - 2s 47us/step - loss: 0.1229 - accuracy: 0.9662 - val_loss: 0.1363 - val_accuracy: 0.9631\n",
            "Epoch 24/200\n",
            "50000/50000 [==============================] - 2s 49us/step - loss: 0.1197 - accuracy: 0.9668 - val_loss: 0.1349 - val_accuracy: 0.9629\n",
            "Epoch 25/200\n",
            "50000/50000 [==============================] - 2s 47us/step - loss: 0.1165 - accuracy: 0.9677 - val_loss: 0.1317 - val_accuracy: 0.9641\n",
            "Epoch 26/200\n",
            "50000/50000 [==============================] - 2s 47us/step - loss: 0.1134 - accuracy: 0.9684 - val_loss: 0.1295 - val_accuracy: 0.9643\n",
            "Epoch 27/200\n",
            "50000/50000 [==============================] - 2s 47us/step - loss: 0.1104 - accuracy: 0.9698 - val_loss: 0.1283 - val_accuracy: 0.9642\n",
            "Epoch 28/200\n",
            "50000/50000 [==============================] - 2s 47us/step - loss: 0.1076 - accuracy: 0.9701 - val_loss: 0.1270 - val_accuracy: 0.9650\n",
            "Epoch 29/200\n",
            "50000/50000 [==============================] - 2s 47us/step - loss: 0.1051 - accuracy: 0.9712 - val_loss: 0.1245 - val_accuracy: 0.9648\n",
            "Epoch 30/200\n",
            "50000/50000 [==============================] - 2s 47us/step - loss: 0.1025 - accuracy: 0.9718 - val_loss: 0.1255 - val_accuracy: 0.9664\n",
            "Epoch 31/200\n",
            "50000/50000 [==============================] - 2s 48us/step - loss: 0.1000 - accuracy: 0.9726 - val_loss: 0.1226 - val_accuracy: 0.9660\n",
            "Epoch 32/200\n",
            "50000/50000 [==============================] - 2s 48us/step - loss: 0.0977 - accuracy: 0.9731 - val_loss: 0.1210 - val_accuracy: 0.9665\n",
            "Epoch 33/200\n",
            "50000/50000 [==============================] - 2s 47us/step - loss: 0.0955 - accuracy: 0.9738 - val_loss: 0.1194 - val_accuracy: 0.9665\n",
            "Epoch 34/200\n",
            "47584/50000 [===========================>..] - ETA: 0s - loss: 0.0938 - accuracy: 0.9740"
          ],
          "name": "stdout"
        }
      ]
    },
    {
      "cell_type": "code",
      "metadata": {
        "id": "ebR_Ae38-F7E",
        "colab_type": "code",
        "colab": {
          "base_uri": "https://localhost:8080/",
          "height": 279
        },
        "outputId": "419fbff2-9847-4394-f39e-a60fdf025f50"
      },
      "source": [
        "%matplotlib inline\n",
        "import matplotlib.pyplot as plt\n",
        "\n",
        "fig, loss_ax = plt.subplots()\n",
        "\n",
        "acc_ax = loss_ax.twinx()\n",
        "\n",
        "loss_ax.plot(hist.history['loss'], 'y', label='train loss')\n",
        "loss_ax.plot(hist.history['val_loss'], 'r', label='val loss')\n",
        "acc_ax.plot(hist.history['accuracy'], 'b', label='train acc')\n",
        "acc_ax.plot(hist.history['val_accuracy'], 'g', label='vall acc')\n",
        "\n",
        "loss_ax.set_xlabel('epoch')\n",
        "loss_ax.set_ylabel('loss')\n",
        "acc_ax.set_ylabel('accuracy')\n",
        "\n",
        "loss_ax.legend(loc='upper left')\n",
        "acc_ax.legend(loc='lower left')\n",
        "\n",
        "plt.show()"
      ],
      "execution_count": 15,
      "outputs": [
        {
          "output_type": "display_data",
          "data": {
            "image/png": "[encoded data removed]",
            "text/plain": [
              "<Figure size 432x288 with 2 Axes>"
            ]
          },
          "metadata": {
            "tags": [],
            "needs_background": "light"
          }
        }
      ]
    },
    {
      "cell_type": "code",
      "metadata": {
        "id": "-KpGftIj9UOO",
        "colab_type": "code",
        "colab": {
          "base_uri": "https://localhost:8080/",
          "height": 763
        },
        "outputId": "fa5d3960-4278-4034-b131-a9da7c6b8683"
      },
      "source": [
        "hist = model.fit(x_train, y_train, epochs=20, batch_size=32, validation_data=(x_val, y_val))"
      ],
      "execution_count": 14,
      "outputs": [
        {
          "output_type": "stream",
          "text": [
            "Train on 50000 samples, validate on 10000 samples\n",
            "Epoch 1/20\n",
            "50000/50000 [==============================] - 2s 47us/step - loss: 0.1331 - accuracy: 0.9626 - val_loss: 0.1396 - val_accuracy: 0.9610\n",
            "Epoch 2/20\n",
            "50000/50000 [==============================] - 2s 49us/step - loss: 0.1293 - accuracy: 0.9640 - val_loss: 0.1389 - val_accuracy: 0.9606\n",
            "Epoch 3/20\n",
            "50000/50000 [==============================] - 2s 47us/step - loss: 0.1260 - accuracy: 0.9648 - val_loss: 0.1344 - val_accuracy: 0.9620\n",
            "Epoch 4/20\n",
            "50000/50000 [==============================] - 2s 46us/step - loss: 0.1227 - accuracy: 0.9655 - val_loss: 0.1324 - val_accuracy: 0.9629\n",
            "Epoch 5/20\n",
            "50000/50000 [==============================] - 2s 50us/step - loss: 0.1191 - accuracy: 0.9665 - val_loss: 0.1291 - val_accuracy: 0.9642\n",
            "Epoch 6/20\n",
            "50000/50000 [==============================] - 2s 49us/step - loss: 0.1162 - accuracy: 0.9680 - val_loss: 0.1279 - val_accuracy: 0.9630\n",
            "Epoch 7/20\n",
            "50000/50000 [==============================] - 2s 48us/step - loss: 0.1130 - accuracy: 0.9683 - val_loss: 0.1257 - val_accuracy: 0.9632\n",
            "Epoch 8/20\n",
            "50000/50000 [==============================] - 2s 47us/step - loss: 0.1104 - accuracy: 0.9688 - val_loss: 0.1254 - val_accuracy: 0.9648\n",
            "Epoch 9/20\n",
            "50000/50000 [==============================] - 2s 48us/step - loss: 0.1077 - accuracy: 0.9699 - val_loss: 0.1218 - val_accuracy: 0.9658\n",
            "Epoch 10/20\n",
            "50000/50000 [==============================] - 2s 47us/step - loss: 0.1051 - accuracy: 0.9706 - val_loss: 0.1211 - val_accuracy: 0.9652\n",
            "Epoch 11/20\n",
            "50000/50000 [==============================] - 2s 47us/step - loss: 0.1024 - accuracy: 0.9716 - val_loss: 0.1196 - val_accuracy: 0.9656\n",
            "Epoch 12/20\n",
            "50000/50000 [==============================] - 2s 47us/step - loss: 0.1003 - accuracy: 0.9721 - val_loss: 0.1181 - val_accuracy: 0.9656\n",
            "Epoch 13/20\n",
            "50000/50000 [==============================] - 2s 48us/step - loss: 0.0980 - accuracy: 0.9731 - val_loss: 0.1157 - val_accuracy: 0.9663\n",
            "Epoch 14/20\n",
            "50000/50000 [==============================] - 2s 47us/step - loss: 0.0958 - accuracy: 0.9733 - val_loss: 0.1143 - val_accuracy: 0.9682\n",
            "Epoch 15/20\n",
            "50000/50000 [==============================] - 2s 47us/step - loss: 0.0938 - accuracy: 0.9737 - val_loss: 0.1128 - val_accuracy: 0.9671\n",
            "Epoch 16/20\n",
            "50000/50000 [==============================] - 2s 47us/step - loss: 0.0917 - accuracy: 0.9742 - val_loss: 0.1116 - val_accuracy: 0.9690\n",
            "Epoch 17/20\n",
            "50000/50000 [==============================] - 2s 47us/step - loss: 0.0895 - accuracy: 0.9753 - val_loss: 0.1114 - val_accuracy: 0.9678\n",
            "Epoch 18/20\n",
            "50000/50000 [==============================] - 2s 47us/step - loss: 0.0879 - accuracy: 0.9754 - val_loss: 0.1085 - val_accuracy: 0.9690\n",
            "Epoch 19/20\n",
            "50000/50000 [==============================] - 2s 47us/step - loss: 0.0858 - accuracy: 0.9762 - val_loss: 0.1089 - val_accuracy: 0.9689\n",
            "Epoch 20/20\n",
            "50000/50000 [==============================] - 2s 49us/step - loss: 0.0842 - accuracy: 0.9766 - val_loss: 0.1076 - val_accuracy: 0.9698\n"
          ],
          "name": "stdout"
        }
      ]
    },
    {
      "cell_type": "code",
      "metadata": {
        "id": "yk5RnoW0B4pW",
        "colab_type": "code",
        "colab": {}
      },
      "source": [
        ""
      ],
      "execution_count": null,
      "outputs": []
    }
  ]
}
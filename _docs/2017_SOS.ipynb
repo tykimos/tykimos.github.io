{
 "cells": [
  {
   "cell_type": "markdown",
   "metadata": {},
   "source": [
    "# 제안사 소개"
   ]
  },
  {
   "cell_type": "markdown",
   "metadata": {
    "slideshow": {
     "slide_type": "slide"
    }
   },
   "source": [
    "## 제안사의 특장점\n",
    "\n",
    "* 관제 시스템 통합을 위한 분석/설계 및 가상화 연구\n",
    "    * **임무관제 가상화 시스템 시험운영 (2012, KARI)**\n",
    "    * 스케쥴링기반 K3(아리랑위성 3호) 일상 임무계획 모듈 자동화 프로토타입 개발 (2015, KARI)\n",
    "    * 아리랑3호 임무계획 및 명령계획 자동화 소프트웨어 제작 (2016, KARI)\n",
    "    * **아리랑위성 통합임무계획시스템 개발 용역 (2017, KARI)**\n",
    "    * 다목적실용위성 운영관리 시스템 개발 (2013, KARI)\n",
    "    * Kompsat Visualization Tool 용역 (2014, KARI)\n",
    "    * 종합관제실 교신지원모듈 및 궤도작업스케줄러 시제품 (2016, KARI)    \n",
    "    * 과학기술위성3호 위성운용 (2014~, 인공위성연구센터)    \n",
    "\n",
    "* CAS500-1 프레임워크 설계 및 핵심 미들웨어 개발\n",
    "    * **CAS500-1 지상시스템 Software 프레임워크 개발방안 설계 조사 분석 (2016, KARI)**\n",
    "    * 저궤도 위성 작업 지시서 관리 시스템 개발 (2012, KARI)\n",
    "    * 위성자료관리 서브시스템 개발 (2015~, ETRI)    "
   ]
  },
  {
   "cell_type": "markdown",
   "metadata": {
    "slideshow": {
     "slide_type": "subslide"
    }
   },
   "source": [
    "* 다수의 통합 시스템 개발 경험\n",
    "    * 다목적실용위성 2호,3호,5호 극지수신용 통합 전처리 시스템 업그레이드 (2013, KARI)\n",
    "    * 기상위성 정보(LRIT/HRIT/UHRIT) 통합 수신처리 시스템 개발 (2013~2015, R&D)\n",
    "    * 고부가 위성정보 DB 관리시스템 개발 (2013, KARI)\n",
    "    * 위성영상 수신 및 처리결과 통합관리 시스템 개발 (2014, KARI)\n",
    "    * 다목적실용위성 3A호 위성자료 저장관리 시스템 기능개선 (2015, KARI)\n",
    "* 타 기관 위성 지상국 인프라/시스템 구축\n",
    "    * 환경위성 지상국 상세기술 분석 (2013, 국립환경과학원)\n",
    "    * 국가환경위성센터 효율적 관리방안 (2015, 국립환경과학원)\n",
    "    * 정지궤도 환경위성 지상국 시스템 구축 방안 수립 (2016, 국립환경과학원)\n",
    "    * 재난전조감지를 위한 위성센서 개발 및 실험동 운용을 위한 기획연구 (2014, 국립재난안전연구원)    \n",
    "    * 위성영상 수신처리시스템 인프라구축 (2015, 한국수자원공사)\n",
    "* 병렬분산/빅데이터/딥러닝 전문 기업\n",
    "    * 고해상도 위성영상 고속 암호 및 압축 모듈 연구 개발(2012, KARI)\n",
    "    * 다형영상 빅데이터 수집 SW모듈 시제품 제작 (2014, ETRI)\n",
    "    * 클러스터 컴퓨팅 기반의 대용량 위성영상 분석 이용자 환경 개발 (2015, KISTI)\n",
    "    * **다차원 빅데이터 분석 기술 이용자 환경 구현 (2017, KISTI)**  \n",
    "    * 서울시·KAIST, 양재 R&CD 혁신지구 AI 센터 입주 선정 (국내 최고 수준의 인공지능 기술 집약)"
   ]
  },
  {
   "cell_type": "markdown",
   "metadata": {
    "collapsed": true,
    "slideshow": {
     "slide_type": "slide"
    }
   },
   "source": [
    "# 제안개요"
   ]
  },
  {
   "cell_type": "markdown",
   "metadata": {
    "slideshow": {
     "slide_type": "slide"
    }
   },
   "source": [
    "## 추진전략\n",
    "\n",
    "* 차세대중형위성 위성운용시스템 프레임워크 정의\n",
    "    * CAS500-1 지상시스템 Software 프레임워크 활용\n",
    "    * 4대환경 (실행환경, 개발환경, 관리환경, 운영환경) 구축\n",
    "    * 공통컴포넌트 개발\n",
    "    \n",
    "* 프레임워크 핵심 요소인 자사 개발 미들웨어 제공\n",
    "    * 컴포넌트 프레임워크 (Component Framework)\n",
    "    * 서비스 통합 플랫폼 (Service Integration Platform)\n",
    "    * 통신 및 데이터 분배 (Communication and Data Distribution)\n",
    "    * 시스템 런타임 관리 (System Run-Time Management)\n",
    "\n",
    "* 통합 및 자동화 방안 제시\n",
    "    * 시스템 통합 가이드라인 제시\n",
    "    * 업무 자동화 가이드라인 제시"
   ]
  },
  {
   "cell_type": "markdown",
   "metadata": {
    "slideshow": {
     "slide_type": "subslide"
    }
   },
   "source": [
    "시스템 통합 가이드\n",
    "\n",
    "---\n",
    "\n",
    "|레벨|상황|가이드|\n",
    "|:-:|:-:|:-:|\n",
    "|Level 0|차이점 없음|공통 컴포넌트|\n",
    "|Level 1|환경 설정 상이|환경설정 도출|\n",
    "|Level 2|로직 상이|스크립트 도출|\n",
    "|Level 3|인터페이스 상이|래퍼 개발|"
   ]
  },
  {
   "cell_type": "markdown",
   "metadata": {},
   "source": [
    "![img](2017_SOS_002.png)"
   ]
  },
  {
   "cell_type": "markdown",
   "metadata": {
    "slideshow": {
     "slide_type": "subslide"
    }
   },
   "source": [
    "업무 자동화 가이드\n",
    "\n",
    "---\n",
    "\n",
    "|업무|가이드|\n",
    "|:-:|:-:|\n",
    "|절차 업무 자동화|로직/프로시져 구성|\n",
    "|타이밍 업무|작업 스케줄링|\n",
    "|모니터링 업무|알고리즘 개발 (패턴인식/딥러닝 적용)|"
   ]
  },
  {
   "cell_type": "markdown",
   "metadata": {
    "slideshow": {
     "slide_type": "subslide"
    }
   },
   "source": [
    "* WBS, 번다운 차트를 이용한 체계적이고 투명한 과제 관리 (자사 전체 프로젝트 관리)\n",
    "\n",
    "![img](2017_SOS_001.png)"
   ]
  },
  {
   "cell_type": "markdown",
   "metadata": {},
   "source": [
    "# 분석 및 프레임워크 방안"
   ]
  },
  {
   "cell_type": "markdown",
   "metadata": {},
   "source": [
    "## 기존시스템 진단분석\n",
    "\n",
    "* 위성임무관제 가상화 선행연구\n",
    "* 분석흐름 1 \n",
    "* 해외사례 1\n",
    "* MPS 1"
   ]
  },
  {
   "cell_type": "markdown",
   "metadata": {
    "slideshow": {
     "slide_type": "subslide"
    }
   },
   "source": [
    "### 위성임무관제 가상화 선행연구\n",
    "\n",
    "![img](2017_SOS_003.png)"
   ]
  },
  {
   "cell_type": "markdown",
   "metadata": {},
   "source": [
    "### 기존시스템 분석흐름"
   ]
  },
  {
   "cell_type": "markdown",
   "metadata": {},
   "source": [
    "### 해외사례"
   ]
  },
  {
   "cell_type": "markdown",
   "metadata": {},
   "source": [
    "##  프레임워크 설계 (20)\n",
    "\n"
   ]
  },
  {
   "cell_type": "code",
   "execution_count": null,
   "metadata": {
    "collapsed": true
   },
   "outputs": [],
   "source": [
    "### 메시지 1\n",
    "### 컴포넌트 프레임워크 1"
   ]
  }
 ],
 "metadata": {
  "celltoolbar": "Slideshow",
  "kernelspec": {
   "display_name": "Python 2",
   "language": "python",
   "name": "python2"
  },
  "language_info": {
   "codemirror_mode": {
    "name": "ipython",
    "version": 2
   },
   "file_extension": ".py",
   "mimetype": "text/x-python",
   "name": "python",
   "nbconvert_exporter": "python",
   "pygments_lexer": "ipython2",
   "version": "2.7.10"
  }
 },
 "nbformat": 4,
 "nbformat_minor": 2
}

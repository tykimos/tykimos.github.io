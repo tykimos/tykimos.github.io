{
 "cells": [
  {
   "cell_type": "raw",
   "metadata": {},
   "source": [
    "---\n",
    "layout: post\n",
    "title:  \"컨볼루션 신경망 모델 만들어보기\"\n",
    "author: 김태영\n",
    "date:   2017-03-08 23:00:00\n",
    "categories: Lecture\n",
    "comments: true\n",
    "image: http://tykimos.github.io/warehouse/2017-3-8_CNN_Getting_Started_4.png\n",
    "---"
   ]
  },
  {
   "cell_type": "markdown",
   "metadata": {},
   "source": [
    "간단한 컨볼루션 신경망 모델을 만들어봅니다. 다음과 같은 순서로 진행하겠습니다.\n",
    "\n",
    "1. 문제 정의하기\n",
    "1. 데이터 준비하기\n",
    "1. 데이터셋 생성하기\n",
    "1. 모델 구성하기\n",
    "1. 모델 학습과정 설정하기\n",
    "1. 모델 학습시키기\n",
    "1. 모델 평가하기"
   ]
  },
  {
   "cell_type": "markdown",
   "metadata": {},
   "source": [
    "---\n",
    "\n",
    "### 문제 정의하기\n",
    "\n",
    "좋은 예제와 그와 관련된 데이터셋도 공개된 것이 많이 있지만, 직접 문제를 정의하고 데이터를 만들어보는 것도 처럼 딥러닝을 접하시는 분들에게는 크게 도움이 될 것 같습니다. 컨볼루션 신경망 모델에 적합한 문제는 이미지 기반의 분류입니다. 따라서 우리는 직접 손으로 삼각형, 사각형, 원을 그려 이미지로 저장한 다음 이를 분류해보는 모델을 만들어보겠습니다. 문제 형태와 입출력을 다음과 같이 정의해봅니다.\n",
    "* 문제 형태 : 다중 클래스 분류\n",
    "* 입력 : 손으로 그린 삼각형, 사각형, 원 이미지\n",
    "* 출력 : 삼각형, 사각형, 원일 확률을 나타내는 벡터"
   ]
  },
  {
   "cell_type": "markdown",
   "metadata": {},
   "source": [
    "가장 처음 필요한 패키지를 불러오고, 매번 실행 시마다 결과가 달라지지 않도록 랜덤 시드를 명시적으로 지정합니다. "
   ]
  },
  {
   "cell_type": "code",
   "execution_count": 1,
   "metadata": {
    "collapsed": false
   },
   "outputs": [
    {
     "name": "stderr",
     "output_type": "stream",
     "text": [
      "Using Theano backend.\n"
     ]
    }
   ],
   "source": [
    "import numpy as np\n",
    "from keras.models import Sequential\n",
    "from keras.layers import Dense\n",
    "from keras.layers import Flatten\n",
    "from keras.layers.convolutional import Conv2D\n",
    "from keras.layers.convolutional import MaxPooling2D\n",
    "from keras.preprocessing.image import ImageDataGenerator\n",
    "\n",
    "# 랜덤시드 고정시키기\n",
    "np.random.seed(3)"
   ]
  },
  {
   "cell_type": "markdown",
   "metadata": {},
   "source": [
    "---\n",
    "\n",
    "### 데이터 준비하기\n",
    "\n",
    "손으로 그린 삼각형, 사각형, 원 이미지를 만들기 위해서는 여러가지 방법이 있을 수 있겠네요. 테블릿을 이용할 수도 있고, 종이에 그려서 사진으로 찍을 수도 있습니다. 저는 그림 그리는 툴을 이용해서 만들어봤습니다. 이미지 사이즈는 24 x 24 정도로 해봤습니다. \n",
    "\n",
    "![data](http://tykimos.github.io/warehouse/2017-3-8_CNN_Getting_Started_1.png)\n",
    "\n",
    "모양별로 20개 정도를 만들어서 15개를 훈련에 사용하고, 5개를 테스트에 사용해보겠습니다. 이미지는 png나 jpg로 저장합니다. 실제로 데이터셋이 어떻게 구성되어 있는 지 모른 체 튜토리얼을 따라하거나 예제 코드를 실행시키다보면 결과는 잘 나오지만 막상 실제 문제에 적용할 때 막막해질 때가 있습니다. 간단한 예제로 직접 데이터셋을 만들어봄으로써 실제 문제에 접근할 때 시행착오를 줄이는 것이 중요합니다.\n",
    "\n",
    "데이터 폴더는 다음과 같이 구성했습니다.\n",
    "\n",
    "- train\n",
    " - circle\n",
    " - rectangle\n",
    " - triangle\n",
    "- test\n",
    " - circle\n",
    " - rectangle\n",
    " - triangle\n",
    " \n",
    "![data](http://tykimos.github.io/warehouse/2017-3-8_CNN_Getting_Started_2.png)\n",
    "\n",
    "직접 그려보시는 것을 권장하시만 아래 링크에서 다운로드를 받으실 수 있습니다.\n",
    "\n",
    "[http://tykimos.github.io/warehouse/2017-3-8_CNN_Getting_Started_handwriting_shape.zip](http://tykimos.github.io/warehouse/2017-3-8_CNN_Getting_Started_handwriting_shape.zip)"
   ]
  },
  {
   "cell_type": "markdown",
   "metadata": {},
   "source": [
    "---\n",
    "\n",
    "### 데이터셋 생성하기\n",
    "\n",
    "케라스에서는 이미지 파일을 쉽게 학습시킬 수 있도록 ImageDataGenerator 클래스를 제공합니다. ImageDataGenerator 클래스는 데이터 증강 (data augmentation)을 위해 막강한 기능을 제공하는 데, 이 기능들은 다른 강좌에세 다루기로 하고, 본 강좌에서는 특정 폴더에 이미지를 분류 해놓았을 때 이를 학습시키기 위한 데이터셋으로 만들어주는 기능을 사용해보겠습니다.\n",
    "\n",
    "먼저 ImageDataGenerator 클래스를 이용하여 객체를 생성한 뒤 flow_from_directory() 함수를 호출하여 제네레이터(generator)를 생성합니다. flow_from_directory() 함수의 주요인자는 다음과 같습니다.\n",
    "\n",
    "- 첫번재 인자 : 이미지 경로를 지정합니다.\n",
    "- target_size : 패치 이미지 크기를 지정합니다. 폴더에 있는 원본 이미지 크기가 다르더라도 target_size에 지정된 크기로 자동 조절됩니다.\n",
    "- batch_size : 배치 크기를 지정합니다.\n",
    "- class_mode : 분류 방식에 대해서 지정합니다.\n",
    "    - categorical : 2D one-hot 부호화된 라벨이 반환됩니다.\n",
    "    - binary : 1D 이진 라벨이 반환됩니다.\n",
    "    - sparse : 1D 정수 라벨이 반환됩니다.\n",
    "    - None : 라벨이 반환되지 않습니다.\n",
    "\n",
    "본 예제에서는 패치 이미지 크기를 24 x 24로 하였으니 target_size도 (24, 24)로 셋팅하였습니다. 훈련 데이터 수가 클래스당 15개이니 배치 크기를 3으로 지정하여 총 5번 배치를 수행하면 하나의 epoch가 수행될 수 있도록 하였습니다. 다중 클래스 문제이므로 class_mode는 'categorical'로 지정하였습니다. 그리고 제네레이터는 훈련용과 검증용으로 두 개를 만들었습니다. "
   ]
  },
  {
   "cell_type": "code",
   "execution_count": 2,
   "metadata": {
    "collapsed": false
   },
   "outputs": [
    {
     "name": "stdout",
     "output_type": "stream",
     "text": [
      "Found 45 images belonging to 3 classes.\n",
      "Found 15 images belonging to 3 classes.\n"
     ]
    }
   ],
   "source": [
    "train_datagen = ImageDataGenerator(rescale=1./255)\n",
    "\n",
    "train_generator = train_datagen.flow_from_directory(\n",
    "        'warehouse/handwriting_shape/train',\n",
    "        target_size=(24, 24),\n",
    "        batch_size=3,\n",
    "        class_mode='categorical')\n",
    "\n",
    "test_datagen = ImageDataGenerator(rescale=1./255)\n",
    "\n",
    "test_generator = test_datagen.flow_from_directory(\n",
    "        'warehouse/handwriting_shape/test',\n",
    "        target_size=(24, 24),    \n",
    "        batch_size=3,\n",
    "        class_mode='categorical')"
   ]
  },
  {
   "cell_type": "markdown",
   "metadata": {},
   "source": [
    "---\n",
    "\n",
    "### 모델 구성하기\n",
    "\n",
    "영상 분류에 높은 성능을 보이고 있는 컨볼루션 신경망 모델을 구성해보겠습니다. 각 레이어들은 이전 강좌에서 살펴보았으므로 크게 어려움없이 구성할 수 있습니다.\n",
    "\n",
    "* 컨볼루션 레이어 : 입력 이미지 크기 24 x 24, 입력 이미지 채널 3개, 필터 크기 3 x 3, 필터 수 32개, 활성화 함수 'relu'\n",
    "* 컨볼루션 레이어 : 필터 크기 3 x 3, 필터 수 64개, 활성화 함수 'relu'\n",
    "* 맥스풀링 레이어 : 풀 크기 2 x 2\n",
    "* 플래튼 레이어\n",
    "* 댄스 레이어 : 출력 뉴런 수 128개, 활성화 함수 'relu'\n",
    "* 댄스 레이어 : 출력 뉴런 수 3개, 활성화 함수 'softmax'"
   ]
  },
  {
   "cell_type": "code",
   "execution_count": 3,
   "metadata": {
    "collapsed": true
   },
   "outputs": [],
   "source": [
    "model = Sequential()\n",
    "model.add(Conv2D(32, kernel_size=(3, 3),\n",
    "                 activation='relu',\n",
    "                 input_shape=(24,24,3)))\n",
    "model.add(Conv2D(64, (3, 3), activation='relu'))\n",
    "model.add(MaxPooling2D(pool_size=(2, 2)))\n",
    "model.add(Flatten())\n",
    "model.add(Dense(128, activation='relu'))\n",
    "model.add(Dense(3, activation='softmax'))"
   ]
  },
  {
   "cell_type": "markdown",
   "metadata": {},
   "source": [
    "구성한 모델을 가시화하면 다음과 같습니다."
   ]
  },
  {
   "cell_type": "code",
   "execution_count": 4,
   "metadata": {
    "collapsed": false
   },
   "outputs": [
    {
     "data": {
      "image/svg+xml": [
       "<svg height=\"539pt\" viewBox=\"0.00 0.00 393.93 539.00\" width=\"394pt\" xmlns=\"http://www.w3.org/2000/svg\" xmlns:xlink=\"http://www.w3.org/1999/xlink\">\n",
       "<g class=\"graph\" id=\"graph0\" transform=\"scale(1 1) rotate(0) translate(4 535)\">\n",
       "<title>G</title>\n",
       "<polygon fill=\"#ffffff\" points=\"-4,4 -4,-535 389.9277,-535 389.9277,4 -4,4\" stroke=\"transparent\"/>\n",
       "<!-- 4613641744 -->\n",
       "<g class=\"node\" id=\"node1\">\n",
       "<title>4613641744</title>\n",
       "<polygon fill=\"none\" points=\"21.0171,-486.5 21.0171,-530.5 364.9106,-530.5 364.9106,-486.5 21.0171,-486.5\" stroke=\"#000000\"/>\n",
       "<text fill=\"#000000\" font-family=\"Times,serif\" font-size=\"14.00\" text-anchor=\"middle\" x=\"109.3052\" y=\"-504.3\">conv2d_1_input: InputLayer</text>\n",
       "<polyline fill=\"none\" points=\"197.5933,-486.5 197.5933,-530.5 \" stroke=\"#000000\"/>\n",
       "<text fill=\"#000000\" font-family=\"Times,serif\" font-size=\"14.00\" text-anchor=\"middle\" x=\"225.4277\" y=\"-515.3\">input:</text>\n",
       "<polyline fill=\"none\" points=\"197.5933,-508.5 253.2622,-508.5 \" stroke=\"#000000\"/>\n",
       "<text fill=\"#000000\" font-family=\"Times,serif\" font-size=\"14.00\" text-anchor=\"middle\" x=\"225.4277\" y=\"-493.3\">output:</text>\n",
       "<polyline fill=\"none\" points=\"253.2622,-486.5 253.2622,-530.5 \" stroke=\"#000000\"/>\n",
       "<text fill=\"#000000\" font-family=\"Times,serif\" font-size=\"14.00\" text-anchor=\"middle\" x=\"309.0864\" y=\"-515.3\">(None, 24, 24, 3)</text>\n",
       "<polyline fill=\"none\" points=\"253.2622,-508.5 364.9106,-508.5 \" stroke=\"#000000\"/>\n",
       "<text fill=\"#000000\" font-family=\"Times,serif\" font-size=\"14.00\" text-anchor=\"middle\" x=\"309.0864\" y=\"-493.3\">(None, 24, 24, 3)</text>\n",
       "</g>\n",
       "<!-- 4613641424 -->\n",
       "<g class=\"node\" id=\"node2\">\n",
       "<title>4613641424</title>\n",
       "<polygon fill=\"none\" points=\"42.7793,-405.5 42.7793,-449.5 343.1484,-449.5 343.1484,-405.5 42.7793,-405.5\" stroke=\"#000000\"/>\n",
       "<text fill=\"#000000\" font-family=\"Times,serif\" font-size=\"14.00\" text-anchor=\"middle\" x=\"105.8052\" y=\"-423.3\">conv2d_1: Conv2D</text>\n",
       "<polyline fill=\"none\" points=\"168.8311,-405.5 168.8311,-449.5 \" stroke=\"#000000\"/>\n",
       "<text fill=\"#000000\" font-family=\"Times,serif\" font-size=\"14.00\" text-anchor=\"middle\" x=\"196.6655\" y=\"-434.3\">input:</text>\n",
       "<polyline fill=\"none\" points=\"168.8311,-427.5 224.5,-427.5 \" stroke=\"#000000\"/>\n",
       "<text fill=\"#000000\" font-family=\"Times,serif\" font-size=\"14.00\" text-anchor=\"middle\" x=\"196.6655\" y=\"-412.3\">output:</text>\n",
       "<polyline fill=\"none\" points=\"224.5,-405.5 224.5,-449.5 \" stroke=\"#000000\"/>\n",
       "<text fill=\"#000000\" font-family=\"Times,serif\" font-size=\"14.00\" text-anchor=\"middle\" x=\"283.8242\" y=\"-434.3\">(None, 24, 24, 3)</text>\n",
       "<polyline fill=\"none\" points=\"224.5,-427.5 343.1484,-427.5 \" stroke=\"#000000\"/>\n",
       "<text fill=\"#000000\" font-family=\"Times,serif\" font-size=\"14.00\" text-anchor=\"middle\" x=\"283.8242\" y=\"-412.3\">(None, 22, 22, 32)</text>\n",
       "</g>\n",
       "<!-- 4613641744&#45;&gt;4613641424 -->\n",
       "<g class=\"edge\" id=\"edge1\">\n",
       "<title>4613641744-&gt;4613641424</title>\n",
       "<path d=\"M192.9639,-486.3664C192.9639,-478.1516 192.9639,-468.6579 192.9639,-459.7252\" fill=\"none\" stroke=\"#000000\"/>\n",
       "<polygon fill=\"#000000\" points=\"196.464,-459.6068 192.9639,-449.6068 189.464,-459.6069 196.464,-459.6068\" stroke=\"#000000\"/>\n",
       "</g>\n",
       "<!-- 4613641552 -->\n",
       "<g class=\"node\" id=\"node3\">\n",
       "<title>4613641552</title>\n",
       "<polygon fill=\"none\" points=\"42.7793,-324.5 42.7793,-368.5 343.1484,-368.5 343.1484,-324.5 42.7793,-324.5\" stroke=\"#000000\"/>\n",
       "<text fill=\"#000000\" font-family=\"Times,serif\" font-size=\"14.00\" text-anchor=\"middle\" x=\"105.8052\" y=\"-342.3\">conv2d_2: Conv2D</text>\n",
       "<polyline fill=\"none\" points=\"168.8311,-324.5 168.8311,-368.5 \" stroke=\"#000000\"/>\n",
       "<text fill=\"#000000\" font-family=\"Times,serif\" font-size=\"14.00\" text-anchor=\"middle\" x=\"196.6655\" y=\"-353.3\">input:</text>\n",
       "<polyline fill=\"none\" points=\"168.8311,-346.5 224.5,-346.5 \" stroke=\"#000000\"/>\n",
       "<text fill=\"#000000\" font-family=\"Times,serif\" font-size=\"14.00\" text-anchor=\"middle\" x=\"196.6655\" y=\"-331.3\">output:</text>\n",
       "<polyline fill=\"none\" points=\"224.5,-324.5 224.5,-368.5 \" stroke=\"#000000\"/>\n",
       "<text fill=\"#000000\" font-family=\"Times,serif\" font-size=\"14.00\" text-anchor=\"middle\" x=\"283.8242\" y=\"-353.3\">(None, 22, 22, 32)</text>\n",
       "<polyline fill=\"none\" points=\"224.5,-346.5 343.1484,-346.5 \" stroke=\"#000000\"/>\n",
       "<text fill=\"#000000\" font-family=\"Times,serif\" font-size=\"14.00\" text-anchor=\"middle\" x=\"283.8242\" y=\"-331.3\">(None, 20, 20, 64)</text>\n",
       "</g>\n",
       "<!-- 4613641424&#45;&gt;4613641552 -->\n",
       "<g class=\"edge\" id=\"edge2\">\n",
       "<title>4613641424-&gt;4613641552</title>\n",
       "<path d=\"M192.9639,-405.3664C192.9639,-397.1516 192.9639,-387.6579 192.9639,-378.7252\" fill=\"none\" stroke=\"#000000\"/>\n",
       "<polygon fill=\"#000000\" points=\"196.464,-378.6068 192.9639,-368.6068 189.464,-378.6069 196.464,-378.6068\" stroke=\"#000000\"/>\n",
       "</g>\n",
       "<!-- 4623249680 -->\n",
       "<g class=\"node\" id=\"node4\">\n",
       "<title>4623249680</title>\n",
       "<polygon fill=\"none\" points=\"0,-243.5 0,-287.5 385.9277,-287.5 385.9277,-243.5 0,-243.5\" stroke=\"#000000\"/>\n",
       "<text fill=\"#000000\" font-family=\"Times,serif\" font-size=\"14.00\" text-anchor=\"middle\" x=\"105.8052\" y=\"-261.3\">max_pooling2d_1: MaxPooling2D</text>\n",
       "<polyline fill=\"none\" points=\"211.6104,-243.5 211.6104,-287.5 \" stroke=\"#000000\"/>\n",
       "<text fill=\"#000000\" font-family=\"Times,serif\" font-size=\"14.00\" text-anchor=\"middle\" x=\"239.4448\" y=\"-272.3\">input:</text>\n",
       "<polyline fill=\"none\" points=\"211.6104,-265.5 267.2793,-265.5 \" stroke=\"#000000\"/>\n",
       "<text fill=\"#000000\" font-family=\"Times,serif\" font-size=\"14.00\" text-anchor=\"middle\" x=\"239.4448\" y=\"-250.3\">output:</text>\n",
       "<polyline fill=\"none\" points=\"267.2793,-243.5 267.2793,-287.5 \" stroke=\"#000000\"/>\n",
       "<text fill=\"#000000\" font-family=\"Times,serif\" font-size=\"14.00\" text-anchor=\"middle\" x=\"326.6035\" y=\"-272.3\">(None, 20, 20, 64)</text>\n",
       "<polyline fill=\"none\" points=\"267.2793,-265.5 385.9277,-265.5 \" stroke=\"#000000\"/>\n",
       "<text fill=\"#000000\" font-family=\"Times,serif\" font-size=\"14.00\" text-anchor=\"middle\" x=\"326.6035\" y=\"-250.3\">(None, 10, 10, 64)</text>\n",
       "</g>\n",
       "<!-- 4613641552&#45;&gt;4623249680 -->\n",
       "<g class=\"edge\" id=\"edge3\">\n",
       "<title>4613641552-&gt;4623249680</title>\n",
       "<path d=\"M192.9639,-324.3664C192.9639,-316.1516 192.9639,-306.6579 192.9639,-297.7252\" fill=\"none\" stroke=\"#000000\"/>\n",
       "<polygon fill=\"#000000\" points=\"196.464,-297.6068 192.9639,-287.6068 189.464,-297.6069 196.464,-297.6068\" stroke=\"#000000\"/>\n",
       "</g>\n",
       "<!-- 4622687888 -->\n",
       "<g class=\"node\" id=\"node5\">\n",
       "<title>4622687888</title>\n",
       "<polygon fill=\"none\" points=\"50.1724,-162.5 50.1724,-206.5 335.7554,-206.5 335.7554,-162.5 50.1724,-162.5\" stroke=\"#000000\"/>\n",
       "<text fill=\"#000000\" font-family=\"Times,serif\" font-size=\"14.00\" text-anchor=\"middle\" x=\"105.8052\" y=\"-180.3\">flatten_1: Flatten</text>\n",
       "<polyline fill=\"none\" points=\"161.438,-162.5 161.438,-206.5 \" stroke=\"#000000\"/>\n",
       "<text fill=\"#000000\" font-family=\"Times,serif\" font-size=\"14.00\" text-anchor=\"middle\" x=\"189.2725\" y=\"-191.3\">input:</text>\n",
       "<polyline fill=\"none\" points=\"161.438,-184.5 217.1069,-184.5 \" stroke=\"#000000\"/>\n",
       "<text fill=\"#000000\" font-family=\"Times,serif\" font-size=\"14.00\" text-anchor=\"middle\" x=\"189.2725\" y=\"-169.3\">output:</text>\n",
       "<polyline fill=\"none\" points=\"217.1069,-162.5 217.1069,-206.5 \" stroke=\"#000000\"/>\n",
       "<text fill=\"#000000\" font-family=\"Times,serif\" font-size=\"14.00\" text-anchor=\"middle\" x=\"276.4312\" y=\"-191.3\">(None, 10, 10, 64)</text>\n",
       "<polyline fill=\"none\" points=\"217.1069,-184.5 335.7554,-184.5 \" stroke=\"#000000\"/>\n",
       "<text fill=\"#000000\" font-family=\"Times,serif\" font-size=\"14.00\" text-anchor=\"middle\" x=\"276.4312\" y=\"-169.3\">(None, 6400)</text>\n",
       "</g>\n",
       "<!-- 4623249680&#45;&gt;4622687888 -->\n",
       "<g class=\"edge\" id=\"edge4\">\n",
       "<title>4623249680-&gt;4622687888</title>\n",
       "<path d=\"M192.9639,-243.3664C192.9639,-235.1516 192.9639,-225.6579 192.9639,-216.7252\" fill=\"none\" stroke=\"#000000\"/>\n",
       "<polygon fill=\"#000000\" points=\"196.464,-216.6068 192.9639,-206.6068 189.464,-216.6069 196.464,-216.6068\" stroke=\"#000000\"/>\n",
       "</g>\n",
       "<!-- 4623497488 -->\n",
       "<g class=\"node\" id=\"node6\">\n",
       "<title>4623497488</title>\n",
       "<polygon fill=\"none\" points=\"67.6792,-81.5 67.6792,-125.5 318.2485,-125.5 318.2485,-81.5 67.6792,-81.5\" stroke=\"#000000\"/>\n",
       "<text fill=\"#000000\" font-family=\"Times,serif\" font-size=\"14.00\" text-anchor=\"middle\" x=\"119.8052\" y=\"-99.3\">dense_1: Dense</text>\n",
       "<polyline fill=\"none\" points=\"171.9312,-81.5 171.9312,-125.5 \" stroke=\"#000000\"/>\n",
       "<text fill=\"#000000\" font-family=\"Times,serif\" font-size=\"14.00\" text-anchor=\"middle\" x=\"199.7656\" y=\"-110.3\">input:</text>\n",
       "<polyline fill=\"none\" points=\"171.9312,-103.5 227.6001,-103.5 \" stroke=\"#000000\"/>\n",
       "<text fill=\"#000000\" font-family=\"Times,serif\" font-size=\"14.00\" text-anchor=\"middle\" x=\"199.7656\" y=\"-88.3\">output:</text>\n",
       "<polyline fill=\"none\" points=\"227.6001,-81.5 227.6001,-125.5 \" stroke=\"#000000\"/>\n",
       "<text fill=\"#000000\" font-family=\"Times,serif\" font-size=\"14.00\" text-anchor=\"middle\" x=\"272.9243\" y=\"-110.3\">(None, 6400)</text>\n",
       "<polyline fill=\"none\" points=\"227.6001,-103.5 318.2485,-103.5 \" stroke=\"#000000\"/>\n",
       "<text fill=\"#000000\" font-family=\"Times,serif\" font-size=\"14.00\" text-anchor=\"middle\" x=\"272.9243\" y=\"-88.3\">(None, 128)</text>\n",
       "</g>\n",
       "<!-- 4622687888&#45;&gt;4623497488 -->\n",
       "<g class=\"edge\" id=\"edge5\">\n",
       "<title>4622687888-&gt;4623497488</title>\n",
       "<path d=\"M192.9639,-162.3664C192.9639,-154.1516 192.9639,-144.6579 192.9639,-135.7252\" fill=\"none\" stroke=\"#000000\"/>\n",
       "<polygon fill=\"#000000\" points=\"196.464,-135.6068 192.9639,-125.6068 189.464,-135.6069 196.464,-135.6068\" stroke=\"#000000\"/>\n",
       "</g>\n",
       "<!-- 4623497552 -->\n",
       "<g class=\"node\" id=\"node7\">\n",
       "<title>4623497552</title>\n",
       "<polygon fill=\"none\" points=\"71.1792,-.5 71.1792,-44.5 314.7485,-44.5 314.7485,-.5 71.1792,-.5\" stroke=\"#000000\"/>\n",
       "<text fill=\"#000000\" font-family=\"Times,serif\" font-size=\"14.00\" text-anchor=\"middle\" x=\"123.3052\" y=\"-18.3\">dense_2: Dense</text>\n",
       "<polyline fill=\"none\" points=\"175.4312,-.5 175.4312,-44.5 \" stroke=\"#000000\"/>\n",
       "<text fill=\"#000000\" font-family=\"Times,serif\" font-size=\"14.00\" text-anchor=\"middle\" x=\"203.2656\" y=\"-29.3\">input:</text>\n",
       "<polyline fill=\"none\" points=\"175.4312,-22.5 231.1001,-22.5 \" stroke=\"#000000\"/>\n",
       "<text fill=\"#000000\" font-family=\"Times,serif\" font-size=\"14.00\" text-anchor=\"middle\" x=\"203.2656\" y=\"-7.3\">output:</text>\n",
       "<polyline fill=\"none\" points=\"231.1001,-.5 231.1001,-44.5 \" stroke=\"#000000\"/>\n",
       "<text fill=\"#000000\" font-family=\"Times,serif\" font-size=\"14.00\" text-anchor=\"middle\" x=\"272.9243\" y=\"-29.3\">(None, 128)</text>\n",
       "<polyline fill=\"none\" points=\"231.1001,-22.5 314.7485,-22.5 \" stroke=\"#000000\"/>\n",
       "<text fill=\"#000000\" font-family=\"Times,serif\" font-size=\"14.00\" text-anchor=\"middle\" x=\"272.9243\" y=\"-7.3\">(None, 3)</text>\n",
       "</g>\n",
       "<!-- 4623497488&#45;&gt;4623497552 -->\n",
       "<g class=\"edge\" id=\"edge6\">\n",
       "<title>4623497488-&gt;4623497552</title>\n",
       "<path d=\"M192.9639,-81.3664C192.9639,-73.1516 192.9639,-63.6579 192.9639,-54.7252\" fill=\"none\" stroke=\"#000000\"/>\n",
       "<polygon fill=\"#000000\" points=\"196.464,-54.6068 192.9639,-44.6068 189.464,-54.6069 196.464,-54.6068\" stroke=\"#000000\"/>\n",
       "</g>\n",
       "</g>\n",
       "</svg>"
      ],
      "text/plain": [
       "<IPython.core.display.SVG object>"
      ]
     },
     "execution_count": 4,
     "metadata": {},
     "output_type": "execute_result"
    }
   ],
   "source": [
    "from IPython.display import SVG\n",
    "from keras.utils.vis_utils import model_to_dot\n",
    "\n",
    "%matplotlib inline\n",
    "\n",
    "SVG(model_to_dot(model, show_shapes=True).create(prog='dot', format='svg'))"
   ]
  },
  {
   "cell_type": "markdown",
   "metadata": {},
   "source": [
    "![model](http://tykimos.github.io/warehouse/2017-3-8_CNN_Getting_Started_3.svg)"
   ]
  },
  {
   "cell_type": "markdown",
   "metadata": {},
   "source": [
    "---\n",
    "\n",
    "### 모델 학습과정 설정하기\n",
    "\n",
    "모델을 정의했다면 모델을 손실함수와 최적화 알고리즘으로 엮어봅니다. \n",
    "- loss : 현재 가중치 세트를 평가하는 데 사용한 손실 함수 입니다. 다중 클래스 문제이므로 'categorical_crossentropy'으로 지정합니다.\n",
    "- optimizer : 최적의 가중치를 검색하는 데 사용되는 최적화 알고리즘으로 효율적인 경사 하강법 알고리즘 중 하나인 'adam'을 사용합니다.\n",
    "- metrics : 평가 척도를 나타내며 분류 문제에서는 일반적으로 'accuracy'으로 지정합니다."
   ]
  },
  {
   "cell_type": "code",
   "execution_count": 7,
   "metadata": {
    "collapsed": true
   },
   "outputs": [],
   "source": [
    "model.compile(loss='categorical_crossentropy', optimizer='adam', metrics=['accuracy'])"
   ]
  },
  {
   "cell_type": "markdown",
   "metadata": {},
   "source": [
    "### 모델 학습시키기\n",
    "\n",
    "케라스에서는 모델을 학습시킬 때 주로 fit() 함수를 사용하지만 제네레이터로 생성된 배치로 학습시킬 경우에는 fit_generator() 함수를 사용합니다. 본 예제에서는 ImageDataGenerator라는 제네레이터로 이미지를 담고 있는 배치로 학습시키기 때문에 fit_generator() 함수를 사용하겠습니다.\n",
    "\n",
    "- 첫번째 인자 : 훈련데이터셋을 제공할 제네레이터를 지정합니다. 본 예제에서는 앞서 생성한 train_generator으로 지정합니다.\n",
    "- steps_per_epoch : 한 epoch에 사용한 스텝 수를 지정합니다. 총 45개의 훈련 샘플이 있고 배치사이즈가 3이므로 15 스텝으로 지정합니다.\n",
    "- epochs : 전체 훈련 데이터셋에 대해 학습 반복 횟수를 지정합니다. 100번을 반복적으로 학습시켜 보겠습니다.\n",
    "- validation_data : 검증데이터셋을 제공할 제네레이터를 지정합니다. 본 예제에서는 앞서 생성한 validation_generator으로 지정합니다.\n",
    "- validation_steps : 한 epoch 종료 시 마다 검증할 때 사용되는 검증 스텝 수를 지정합니다. 홍 15개의 검증 샘플이 있고 배치사이즈가 3이므로 5 스텝으로 지정합니다."
   ]
  },
  {
   "cell_type": "code",
   "execution_count": 8,
   "metadata": {
    "collapsed": false
   },
   "outputs": [
    {
     "name": "stdout",
     "output_type": "stream",
     "text": [
      "Epoch 1/50\n",
      "15/15 [==============================] - 0s - loss: 0.8595 - acc: 0.5778 - val_loss: 0.5781 - val_acc: 1.0000\n",
      "Epoch 2/50\n",
      "15/15 [==============================] - 0s - loss: 0.1930 - acc: 0.9778 - val_loss: 0.1103 - val_acc: 1.0000\n",
      "Epoch 3/50\n",
      "15/15 [==============================] - 0s - loss: 0.0187 - acc: 1.0000 - val_loss: 0.2022 - val_acc: 0.9333\n",
      "Epoch 4/50\n",
      "15/15 [==============================] - 0s - loss: 0.0085 - acc: 1.0000 - val_loss: 0.0048 - val_acc: 1.0000\n",
      "Epoch 5/50\n",
      "15/15 [==============================] - 0s - loss: 9.9647e-04 - acc: 1.0000 - val_loss: 0.1262 - val_acc: 0.9333\n",
      "Epoch 6/50\n",
      "15/15 [==============================] - 0s - loss: 6.5874e-04 - acc: 1.0000 - val_loss: 0.1199 - val_acc: 0.9333\n",
      "Epoch 7/50\n",
      "15/15 [==============================] - 0s - loss: 2.1507e-04 - acc: 1.0000 - val_loss: 3.2747e-04 - val_acc: 1.0000\n",
      "Epoch 8/50\n",
      "15/15 [==============================] - 0s - loss: 7.6801e-05 - acc: 1.0000 - val_loss: 0.1388 - val_acc: 0.8667\n",
      "Epoch 9/50\n",
      "15/15 [==============================] - 0s - loss: 8.9381e-05 - acc: 1.0000 - val_loss: 0.0538 - val_acc: 1.0000\n",
      "Epoch 10/50\n",
      "15/15 [==============================] - 0s - loss: 4.0590e-05 - acc: 1.0000 - val_loss: 6.2304e-04 - val_acc: 1.0000\n",
      "Epoch 11/50\n",
      "15/15 [==============================] - 0s - loss: 3.9693e-05 - acc: 1.0000 - val_loss: 0.1161 - val_acc: 0.9333\n",
      "Epoch 12/50\n",
      "15/15 [==============================] - 0s - loss: 3.1931e-05 - acc: 1.0000 - val_loss: 0.0549 - val_acc: 1.0000\n",
      "Epoch 13/50\n",
      "15/15 [==============================] - 0s - loss: 2.0335e-05 - acc: 1.0000 - val_loss: 0.1398 - val_acc: 0.8667\n",
      "Epoch 14/50\n",
      "15/15 [==============================] - 0s - loss: 1.9815e-05 - acc: 1.0000 - val_loss: 0.0803 - val_acc: 0.9333\n",
      "Epoch 15/50\n",
      "15/15 [==============================] - 0s - loss: 1.0484e-05 - acc: 1.0000 - val_loss: 4.6849e-04 - val_acc: 1.0000\n",
      "Epoch 16/50\n",
      "15/15 [==============================] - 0s - loss: 1.7160e-05 - acc: 1.0000 - val_loss: 0.0656 - val_acc: 0.9333\n",
      "Epoch 17/50\n",
      "15/15 [==============================] - 0s - loss: 1.3917e-05 - acc: 1.0000 - val_loss: 0.0803 - val_acc: 0.9333\n",
      "Epoch 18/50\n",
      "15/15 [==============================] - 0s - loss: 8.7249e-06 - acc: 1.0000 - val_loss: 0.0727 - val_acc: 0.9333\n",
      "Epoch 19/50\n",
      "15/15 [==============================] - 0s - loss: 8.4786e-06 - acc: 1.0000 - val_loss: 4.9874e-04 - val_acc: 1.0000\n",
      "Epoch 20/50\n",
      "15/15 [==============================] - 0s - loss: 7.7023e-06 - acc: 1.0000 - val_loss: 3.2175e-04 - val_acc: 1.0000\n",
      "Epoch 21/50\n",
      "15/15 [==============================] - 0s - loss: 6.8546e-06 - acc: 1.0000 - val_loss: 3.6161e-04 - val_acc: 1.0000\n",
      "Epoch 22/50\n",
      "15/15 [==============================] - 0s - loss: 5.3949e-06 - acc: 1.0000 - val_loss: 0.0735 - val_acc: 0.9333\n",
      "Epoch 23/50\n",
      "15/15 [==============================] - 0s - loss: 4.6956e-06 - acc: 1.0000 - val_loss: 0.0772 - val_acc: 0.9333\n",
      "Epoch 24/50\n",
      "15/15 [==============================] - 0s - loss: 5.3141e-06 - acc: 1.0000 - val_loss: 0.1353 - val_acc: 0.8667\n",
      "Epoch 25/50\n",
      "15/15 [==============================] - 0s - loss: 4.2373e-06 - acc: 1.0000 - val_loss: 0.0606 - val_acc: 1.0000\n",
      "Epoch 26/50\n",
      "15/15 [==============================] - 0s - loss: 3.4359e-06 - acc: 1.0000 - val_loss: 0.1544 - val_acc: 0.8667\n",
      "Epoch 27/50\n",
      "15/15 [==============================] - 0s - loss: 3.5564e-06 - acc: 1.0000 - val_loss: 0.0690 - val_acc: 0.9333\n",
      "Epoch 28/50\n",
      "15/15 [==============================] - 0s - loss: 2.9763e-06 - acc: 1.0000 - val_loss: 0.0555 - val_acc: 1.0000\n",
      "Epoch 29/50\n",
      "15/15 [==============================] - 0s - loss: 3.2359e-06 - acc: 1.0000 - val_loss: 0.0775 - val_acc: 0.9333\n",
      "Epoch 30/50\n",
      "15/15 [==============================] - 0s - loss: 2.6981e-06 - acc: 1.0000 - val_loss: 0.0760 - val_acc: 0.9333\n",
      "Epoch 31/50\n",
      "15/15 [==============================] - 0s - loss: 2.2690e-06 - acc: 1.0000 - val_loss: 7.5007e-05 - val_acc: 1.0000\n",
      "Epoch 32/50\n",
      "15/15 [==============================] - 0s - loss: 2.2875e-06 - acc: 1.0000 - val_loss: 0.0674 - val_acc: 1.0000\n",
      "Epoch 33/50\n",
      "15/15 [==============================] - 0s - loss: 1.9723e-06 - acc: 1.0000 - val_loss: 0.0742 - val_acc: 0.9333\n",
      "Epoch 34/50\n",
      "15/15 [==============================] - 0s - loss: 2.3604e-06 - acc: 1.0000 - val_loss: 0.0699 - val_acc: 0.9333\n",
      "Epoch 35/50\n",
      "15/15 [==============================] - 0s - loss: 1.4769e-06 - acc: 1.0000 - val_loss: 0.0702 - val_acc: 0.9333\n",
      "Epoch 36/50\n",
      "15/15 [==============================] - 0s - loss: 1.7709e-06 - acc: 1.0000 - val_loss: 4.5878e-04 - val_acc: 1.0000\n",
      "Epoch 37/50\n",
      "15/15 [==============================] - 0s - loss: 1.6623e-06 - acc: 1.0000 - val_loss: 0.0701 - val_acc: 0.9333\n",
      "Epoch 38/50\n",
      "15/15 [==============================] - 0s - loss: 1.2106e-06 - acc: 1.0000 - val_loss: 0.0753 - val_acc: 0.9333\n",
      "Epoch 39/50\n",
      "15/15 [==============================] - 0s - loss: 1.4610e-06 - acc: 1.0000 - val_loss: 0.1351 - val_acc: 1.0000\n",
      "Epoch 40/50\n",
      "15/15 [==============================] - 0s - loss: 1.2769e-06 - acc: 1.0000 - val_loss: 0.0660 - val_acc: 1.0000\n",
      "Epoch 41/50\n",
      "15/15 [==============================] - 0s - loss: 9.7619e-07 - acc: 1.0000 - val_loss: 0.0708 - val_acc: 0.9333\n",
      "Epoch 42/50\n",
      "15/15 [==============================] - 0s - loss: 1.3471e-06 - acc: 1.0000 - val_loss: 0.0700 - val_acc: 1.0000\n",
      "Epoch 43/50\n",
      "15/15 [==============================] - 0s - loss: 9.9341e-07 - acc: 1.0000 - val_loss: 6.7561e-04 - val_acc: 1.0000\n",
      "Epoch 44/50\n",
      "15/15 [==============================] - 0s - loss: 1.1484e-06 - acc: 1.0000 - val_loss: 0.0690 - val_acc: 1.0000\n",
      "Epoch 45/50\n",
      "15/15 [==============================] - 0s - loss: 7.8148e-07 - acc: 1.0000 - val_loss: 0.0671 - val_acc: 1.0000\n",
      "Epoch 46/50\n",
      "15/15 [==============================] - 0s - loss: 1.0782e-06 - acc: 1.0000 - val_loss: 5.2852e-04 - val_acc: 1.0000\n",
      "Epoch 47/50\n",
      "15/15 [==============================] - 0s - loss: 8.3447e-07 - acc: 1.0000 - val_loss: 0.1445 - val_acc: 0.8667\n",
      "Epoch 48/50\n",
      "15/15 [==============================] - 0s - loss: 8.8877e-07 - acc: 1.0000 - val_loss: 7.7623e-04 - val_acc: 1.0000\n",
      "Epoch 49/50\n",
      "15/15 [==============================] - 0s - loss: 7.3380e-07 - acc: 1.0000 - val_loss: 0.1564 - val_acc: 0.8667\n",
      "Epoch 50/50\n",
      "15/15 [==============================] - 0s - loss: 8.2784e-07 - acc: 1.0000 - val_loss: 0.0676 - val_acc: 1.0000\n"
     ]
    },
    {
     "data": {
      "text/plain": [
       "<keras.callbacks.History at 0x1102a3110>"
      ]
     },
     "execution_count": 8,
     "metadata": {},
     "output_type": "execute_result"
    }
   ],
   "source": [
    "model.fit_generator(\n",
    "        train_generator,\n",
    "        steps_per_epoch=15,\n",
    "        epochs=50,\n",
    "        validation_data=test_generator,\n",
    "        validation_steps=5)"
   ]
  },
  {
   "cell_type": "markdown",
   "metadata": {},
   "source": [
    "---\n",
    "\n",
    "### 모델 평가하기\n",
    "\n",
    "학습한 모델을 평가해봅니다. 제네레이터에서 제공되는 샘플로 평가할 때는 evaluate_generator 함수를 사용합니다."
   ]
  },
  {
   "cell_type": "code",
   "execution_count": 9,
   "metadata": {
    "collapsed": false
   },
   "outputs": [
    {
     "name": "stdout",
     "output_type": "stream",
     "text": [
      "-- Evaluate --\n",
      "acc: 100.00%\n"
     ]
    }
   ],
   "source": [
    "print(\"-- Evaluate --\")\n",
    "scores = model.evaluate_generator(test_generator, steps=5)\n",
    "print(\"%s: %.2f%%\" %(model.metrics_names[1], scores[1]*100))"
   ]
  },
  {
   "cell_type": "markdown",
   "metadata": {},
   "source": [
    "데이터셋이 적고 간단한 모델임에도 불구하고 100%라는 높은 정확도를 얻었습니다. "
   ]
  },
  {
   "cell_type": "markdown",
   "metadata": {},
   "source": [
    "---\n",
    "### 모델 사용하기\n",
    "\n",
    "모델 사용 시에 제네레이터에서 제공되는 샘플을 입력할 때는 predict_generator 함수를 사용합니다. 예측 결과는 클래스별 확률 벡터로 출력되며, 클래스에 해당하는 열을 알기 위해서는 제네레이터의 'class_indices'를 출력하면 해당 열의 클래스명을 알려줍니다."
   ]
  },
  {
   "cell_type": "code",
   "execution_count": 10,
   "metadata": {
    "collapsed": false
   },
   "outputs": [
    {
     "name": "stdout",
     "output_type": "stream",
     "text": [
      "-- Predict --\n",
      "{'circle': 0, 'triangle': 2, 'rectangle': 1}\n",
      "[[1.000 0.000 0.000]\n",
      " [0.315 0.363 0.322]\n",
      " [0.000 1.000 0.000]\n",
      " [0.000 0.006 0.994]\n",
      " [1.000 0.000 0.000]\n",
      " [0.000 1.000 0.000]\n",
      " [0.000 1.000 0.000]\n",
      " [1.000 0.000 0.000]\n",
      " [0.000 0.001 0.999]\n",
      " [1.000 0.000 0.000]\n",
      " [1.000 0.000 0.000]\n",
      " [1.000 0.000 0.000]\n",
      " [0.000 0.006 0.994]\n",
      " [0.315 0.363 0.322]\n",
      " [0.000 0.000 1.000]]\n"
     ]
    }
   ],
   "source": [
    "print(\"-- Predict --\")\n",
    "output = model.predict_generator(test_generator, steps=5)\n",
    "np.set_printoptions(formatter={'float': lambda x: \"{0:0.3f}\".format(x)})\n",
    "print(test_generator.class_indices)\n",
    "print(output)"
   ]
  },
  {
   "cell_type": "markdown",
   "metadata": {},
   "source": [
    "---\n",
    "\n",
    "### 전체 소스"
   ]
  },
  {
   "cell_type": "code",
   "execution_count": 11,
   "metadata": {
    "collapsed": false
   },
   "outputs": [
    {
     "name": "stdout",
     "output_type": "stream",
     "text": [
      "Found 45 images belonging to 3 classes.\n",
      "Found 15 images belonging to 3 classes.\n",
      "Epoch 1/50\n",
      "15/15 [==============================] - 0s - loss: 0.9365 - acc: 0.5778 - val_loss: 0.4891 - val_acc: 1.0000\n",
      "Epoch 2/50\n",
      "15/15 [==============================] - 0s - loss: 0.1786 - acc: 1.0000 - val_loss: 0.0679 - val_acc: 1.0000\n",
      "Epoch 3/50\n",
      "15/15 [==============================] - 0s - loss: 0.0233 - acc: 1.0000 - val_loss: 0.0777 - val_acc: 1.0000\n",
      "Epoch 4/50\n",
      "15/15 [==============================] - 0s - loss: 0.0148 - acc: 1.0000 - val_loss: 0.2377 - val_acc: 0.9333\n",
      "Epoch 5/50\n",
      "15/15 [==============================] - 0s - loss: 0.0338 - acc: 0.9778 - val_loss: 0.0184 - val_acc: 1.0000\n",
      "Epoch 6/50\n",
      "15/15 [==============================] - 0s - loss: 9.1348e-04 - acc: 1.0000 - val_loss: 0.0091 - val_acc: 1.0000\n",
      "Epoch 7/50\n",
      "15/15 [==============================] - 0s - loss: 3.7592e-04 - acc: 1.0000 - val_loss: 0.0074 - val_acc: 1.0000\n",
      "Epoch 8/50\n",
      "15/15 [==============================] - 0s - loss: 1.8728e-04 - acc: 1.0000 - val_loss: 0.0045 - val_acc: 1.0000\n",
      "Epoch 9/50\n",
      "15/15 [==============================] - 0s - loss: 9.8743e-05 - acc: 1.0000 - val_loss: 0.0018 - val_acc: 1.0000\n",
      "Epoch 10/50\n",
      "15/15 [==============================] - 0s - loss: 7.2941e-05 - acc: 1.0000 - val_loss: 0.0023 - val_acc: 1.0000\n",
      "Epoch 11/50\n",
      "15/15 [==============================] - 0s - loss: 5.1818e-05 - acc: 1.0000 - val_loss: 0.0016 - val_acc: 1.0000\n",
      "Epoch 12/50\n",
      "15/15 [==============================] - 0s - loss: 3.7971e-05 - acc: 1.0000 - val_loss: 0.0019 - val_acc: 1.0000\n",
      "Epoch 13/50\n",
      "15/15 [==============================] - 0s - loss: 2.9936e-05 - acc: 1.0000 - val_loss: 0.0017 - val_acc: 1.0000\n",
      "Epoch 14/50\n",
      "15/15 [==============================] - 0s - loss: 2.4529e-05 - acc: 1.0000 - val_loss: 0.0018 - val_acc: 1.0000\n",
      "Epoch 15/50\n",
      "15/15 [==============================] - 0s - loss: 2.0401e-05 - acc: 1.0000 - val_loss: 0.0029 - val_acc: 1.0000\n",
      "Epoch 16/50\n",
      "15/15 [==============================] - 0s - loss: 1.6103e-05 - acc: 1.0000 - val_loss: 0.0028 - val_acc: 1.0000\n",
      "Epoch 17/50\n",
      "15/15 [==============================] - 0s - loss: 1.3417e-05 - acc: 1.0000 - val_loss: 0.0017 - val_acc: 1.0000\n",
      "Epoch 18/50\n",
      "15/15 [==============================] - 0s - loss: 1.0905e-05 - acc: 1.0000 - val_loss: 0.0018 - val_acc: 1.0000\n",
      "Epoch 19/50\n",
      "15/15 [==============================] - 0s - loss: 9.0826e-06 - acc: 1.0000 - val_loss: 8.3132e-04 - val_acc: 1.0000\n",
      "Epoch 20/50\n",
      "15/15 [==============================] - 0s - loss: 7.6375e-06 - acc: 1.0000 - val_loss: 0.0015 - val_acc: 1.0000\n",
      "Epoch 21/50\n",
      "15/15 [==============================] - 0s - loss: 6.4480e-06 - acc: 1.0000 - val_loss: 0.0020 - val_acc: 1.0000\n",
      "Epoch 22/50\n",
      "15/15 [==============================] - 0s - loss: 5.4069e-06 - acc: 1.0000 - val_loss: 0.0024 - val_acc: 1.0000\n",
      "Epoch 23/50\n",
      "15/15 [==============================] - 0s - loss: 4.6201e-06 - acc: 1.0000 - val_loss: 9.0799e-06 - val_acc: 1.0000\n",
      "Epoch 24/50\n",
      "15/15 [==============================] - 0s - loss: 3.9353e-06 - acc: 1.0000 - val_loss: 0.0024 - val_acc: 1.0000\n",
      "Epoch 25/50\n",
      "15/15 [==============================] - 0s - loss: 3.4280e-06 - acc: 1.0000 - val_loss: 4.7231e-04 - val_acc: 1.0000\n",
      "Epoch 26/50\n",
      "15/15 [==============================] - 0s - loss: 3.0716e-06 - acc: 1.0000 - val_loss: 2.4730e-04 - val_acc: 1.0000\n",
      "Epoch 27/50\n",
      "15/15 [==============================] - 0s - loss: 2.7273e-06 - acc: 1.0000 - val_loss: 4.5865e-04 - val_acc: 1.0000\n",
      "Epoch 28/50\n",
      "15/15 [==============================] - 0s - loss: 2.4372e-06 - acc: 1.0000 - val_loss: 0.0047 - val_acc: 1.0000\n",
      "Epoch 29/50\n",
      "15/15 [==============================] - 0s - loss: 2.2557e-06 - acc: 1.0000 - val_loss: 0.0049 - val_acc: 1.0000\n",
      "Epoch 30/50\n",
      "15/15 [==============================] - 0s - loss: 1.9935e-06 - acc: 1.0000 - val_loss: 2.0680e-04 - val_acc: 1.0000\n",
      "Epoch 31/50\n",
      "15/15 [==============================] - 0s - loss: 1.8491e-06 - acc: 1.0000 - val_loss: 0.0049 - val_acc: 1.0000\n",
      "Epoch 32/50\n",
      "15/15 [==============================] - 0s - loss: 1.6809e-06 - acc: 1.0000 - val_loss: 0.0028 - val_acc: 1.0000\n",
      "Epoch 33/50\n",
      "15/15 [==============================] - 0s - loss: 1.5232e-06 - acc: 1.0000 - val_loss: 7.0120e-05 - val_acc: 1.0000\n",
      "Epoch 34/50\n",
      "15/15 [==============================] - 0s - loss: 1.4318e-06 - acc: 1.0000 - val_loss: 3.9682e-05 - val_acc: 1.0000\n",
      "Epoch 35/50\n",
      "15/15 [==============================] - 0s - loss: 1.3193e-06 - acc: 1.0000 - val_loss: 3.7293e-05 - val_acc: 1.0000\n",
      "Epoch 36/50\n",
      "15/15 [==============================] - 0s - loss: 1.2252e-06 - acc: 1.0000 - val_loss: 0.0054 - val_acc: 1.0000\n",
      "Epoch 37/50\n",
      "15/15 [==============================] - 0s - loss: 1.1643e-06 - acc: 1.0000 - val_loss: 2.4014e-04 - val_acc: 1.0000\n",
      "Epoch 38/50\n",
      "15/15 [==============================] - 0s - loss: 1.0636e-06 - acc: 1.0000 - val_loss: 0.0027 - val_acc: 1.0000\n",
      "Epoch 39/50\n",
      "15/15 [==============================] - 0s - loss: 9.9474e-07 - acc: 1.0000 - val_loss: 0.0030 - val_acc: 1.0000\n",
      "Epoch 40/50\n",
      "15/15 [==============================] - 0s - loss: 9.3646e-07 - acc: 1.0000 - val_loss: 0.0028 - val_acc: 1.0000\n",
      "Epoch 41/50\n",
      "15/15 [==============================] - 0s - loss: 8.9275e-07 - acc: 1.0000 - val_loss: 0.0029 - val_acc: 1.0000\n",
      "Epoch 42/50\n",
      "15/15 [==============================] - 0s - loss: 8.3976e-07 - acc: 1.0000 - val_loss: 0.0032 - val_acc: 1.0000\n",
      "Epoch 43/50\n",
      "15/15 [==============================] - 0s - loss: 7.9473e-07 - acc: 1.0000 - val_loss: 3.5788e-04 - val_acc: 1.0000\n",
      "Epoch 44/50\n",
      "15/15 [==============================] - 0s - loss: 7.6427e-07 - acc: 1.0000 - val_loss: 0.0030 - val_acc: 1.0000\n",
      "Epoch 45/50\n",
      "15/15 [==============================] - 0s - loss: 7.1923e-07 - acc: 1.0000 - val_loss: 0.0059 - val_acc: 1.0000\n",
      "Epoch 46/50\n",
      "15/15 [==============================] - 0s - loss: 7.0069e-07 - acc: 1.0000 - val_loss: 0.0034 - val_acc: 1.0000\n",
      "Epoch 47/50\n",
      "15/15 [==============================] - 0s - loss: 6.5300e-07 - acc: 1.0000 - val_loss: 0.0064 - val_acc: 1.0000\n",
      "Epoch 48/50\n",
      "15/15 [==============================] - 0s - loss: 6.2121e-07 - acc: 1.0000 - val_loss: 0.0031 - val_acc: 1.0000\n",
      "Epoch 49/50\n",
      "15/15 [==============================] - 0s - loss: 6.0002e-07 - acc: 1.0000 - val_loss: 0.0033 - val_acc: 1.0000\n",
      "Epoch 50/50\n",
      "15/15 [==============================] - 0s - loss: 5.7883e-07 - acc: 1.0000 - val_loss: 0.0032 - val_acc: 1.0000\n",
      "-- Evaluate --\n",
      "acc: 100.00%\n",
      "-- Predict --\n",
      "{'circle': 0, 'triangle': 2, 'rectangle': 1}\n",
      "[[0.000 0.000 1.000]\n",
      " [0.000 1.000 0.000]\n",
      " [0.000 0.000 1.000]\n",
      " [0.000 1.000 0.000]\n",
      " [0.000 0.000 1.000]\n",
      " [1.000 0.000 0.000]\n",
      " [0.016 0.956 0.028]\n",
      " [0.000 1.000 0.000]\n",
      " [0.000 0.000 1.000]\n",
      " [0.998 0.000 0.002]\n",
      " [0.000 0.000 1.000]\n",
      " [0.016 0.956 0.028]\n",
      " [0.000 0.000 1.000]\n",
      " [0.000 1.000 0.000]\n",
      " [1.000 0.000 0.000]]\n"
     ]
    }
   ],
   "source": [
    "# 0. 사용할 패키지 불러오기\n",
    "import numpy as np\n",
    "from keras.models import Sequential\n",
    "from keras.layers import Dense\n",
    "from keras.layers import Flatten\n",
    "from keras.layers.convolutional import Conv2D\n",
    "from keras.layers.convolutional import MaxPooling2D\n",
    "from keras.preprocessing.image import ImageDataGenerator\n",
    "\n",
    "# 랜덤시드 고정시키기\n",
    "np.random.seed(3)\n",
    "\n",
    "# 1. 데이터 생성하기\n",
    "train_datagen = ImageDataGenerator(rescale=1./255)\n",
    "\n",
    "train_generator = train_datagen.flow_from_directory(\n",
    "        'warehouse/handwriting_shape/train',\n",
    "        target_size=(24, 24),\n",
    "        batch_size=3,\n",
    "        class_mode='categorical')\n",
    "\n",
    "test_datagen = ImageDataGenerator(rescale=1./255)\n",
    "\n",
    "test_generator = test_datagen.flow_from_directory(\n",
    "        'warehouse/handwriting_shape/test',\n",
    "        target_size=(24, 24),    \n",
    "        batch_size=3,\n",
    "        class_mode='categorical')\n",
    "\n",
    "\n",
    "# 2. 모델 구성하기\n",
    "model = Sequential()\n",
    "model.add(Conv2D(32, kernel_size=(3, 3),\n",
    "                 activation='relu',\n",
    "                 input_shape=(24,24,3)))\n",
    "model.add(Conv2D(64, (3, 3), activation='relu'))\n",
    "model.add(MaxPooling2D(pool_size=(2, 2)))\n",
    "model.add(Flatten())\n",
    "model.add(Dense(128, activation='relu'))\n",
    "model.add(Dense(3, activation='softmax'))\n",
    "\n",
    "# 3. 모델 학습과정 설정하기\n",
    "model.compile(loss='categorical_crossentropy', optimizer='adam', metrics=['accuracy'])\n",
    "\n",
    "# 4. 모델 학습시키기\n",
    "model.fit_generator(\n",
    "        train_generator,\n",
    "        steps_per_epoch=15,\n",
    "        epochs=50,\n",
    "        validation_data=test_generator,\n",
    "        validation_steps=5)\n",
    "\n",
    "# 6. 모델 평가하기\n",
    "print(\"-- Evaluate --\")\n",
    "scores = model.evaluate_generator(test_generator, steps=5)\n",
    "print(\"%s: %.2f%%\" %(model.metrics_names[1], scores[1]*100))\n",
    "\n",
    "# 7. 모델 사용하기\n",
    "print(\"-- Predict --\")\n",
    "output = model.predict_generator(test_generator, steps=5)\n",
    "np.set_printoptions(formatter={'float': lambda x: \"{0:0.3f}\".format(x)})\n",
    "print(test_generator.class_indices)\n",
    "print(output)"
   ]
  },
  {
   "cell_type": "markdown",
   "metadata": {},
   "source": [
    "---\n",
    "\n",
    "### 요약\n",
    "\n",
    "이미지 분류 문제에 높은 성능을 보이고 있는 컨볼루션 신경망 모델을 이용하여 직접 만든 데이터셋으로 학습 및 평가를 해보았습니다. 학습 결과는 좋게 나왔지만 이 모델은 한 사람이 그린 것에 대해서만 학습이 되어 있어 다른 사람에 그린 모양은 분류를 잘 하지 못합니다. 이를 해결하기 위한 방안으로 '데이터 부풀리기' 기법이 있습니다.\n",
    "\n",
    "참고로 실제 문제에 적용하기 전에 데이터셋을 직접 만들어보거나 좀 더 쉬운 문제로 추상화해서 프로토타이핑 하시는 것을 권장드립니다. 객담도말된 결핵 이미지 판별하는 모델을 만들 때, 결핵 이미지를 바로 사용하지 않고, MNIST의 손글씨 중 '1'과 '7'을 결핵이라고 보고, 나머지는 결핵이 아닌 것으로 학습시켜봤었습니다. 결핵균이 간균 (막대모양)이라 적절한 프로토타이핑이었고, 프로토타이핑 모델과 실제 데이터셋으로 학습한 모델 결과가 크게 차이나지 않았습니다."
   ]
  },
  {
   "cell_type": "markdown",
   "metadata": {
    "collapsed": true
   },
   "source": [
    "---\n",
    "\n",
    "### 같이 보기\n",
    "\n",
    "* [강좌 목차](https://tykimos.github.io/lecture/)\n",
    "* 이전 : [컨볼루션 신경망 레이어 이야기](https://tykimos.github.io/2017/01/27/CNN_Layer_Talk/)\n",
    "* 다음 : [컨볼루션 신경망 모델을 위한 데이터 부풀리기](https://tykimos.github.io/2017/06/10/CNN_Data_Augmentation/)"
   ]
  }
 ],
 "metadata": {
  "kernelspec": {
   "display_name": "Python 2",
   "language": "python",
   "name": "python2"
  },
  "language_info": {
   "codemirror_mode": {
    "name": "ipython",
    "version": 2
   },
   "file_extension": ".py",
   "mimetype": "text/x-python",
   "name": "python",
   "nbconvert_exporter": "python",
   "pygments_lexer": "ipython2",
   "version": "2.7.10"
  }
 },
 "nbformat": 4,
 "nbformat_minor": 1
}

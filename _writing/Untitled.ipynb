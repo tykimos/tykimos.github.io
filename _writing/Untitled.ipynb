{
 "cells": [
  {
   "cell_type": "code",
   "execution_count": 34,
   "metadata": {
    "collapsed": false
   },
   "outputs": [
    {
     "name": "stdout",
     "output_type": "stream",
     "text": [
      "공감 당첨 : 서유성님\n",
      "댓글 당첨 : Kevin Sanghyeon You님\n",
      "공유 당첨 : 고승일님\n"
     ]
    }
   ],
   "source": [
    "import random\n",
    "\n",
    "random.seed(201710101300)\n",
    "\n",
    "good = random.choice(['김태영',\n",
    "'김대송',\n",
    "'이경준',\n",
    "'성동욱',\n",
    "'임환섭',\n",
    "'김도현',\n",
    "'김성현',\n",
    "'김종성',\n",
    "'김종건',\n",
    "'김형도',\n",
    "'김찬중',\n",
    "'양귀현',\n",
    "'Hyunsoo Kim',\n",
    "'김준성',\n",
    "'최형준',\n",
    "'고승일',\n",
    "'윤연우',\n",
    "'진세진',\n",
    "'구나율',\n",
    "'김남훈',\n",
    "'Jin Hur',\n",
    "'김세창',\n",
    "'오범수',\n",
    "'김희중',\n",
    "'나윤근',\n",
    "'성윤정',\n",
    "'우대희',\n",
    "'김윤배',\n",
    "'서경숙',\n",
    "'박윤종',\n",
    "'서태호',\n",
    "'이종원',\n",
    "'서유성',\n",
    "'이영진',\n",
    "'김성경',\n",
    "'이수현',\n",
    "'이경용',\n",
    "'김주현',\n",
    "'Kevin Sanghyeon You',\n",
    "'권민기',\n",
    "'최민아',\n",
    "'선우재문',\n",
    "'정문관',\n",
    "'이정석',\n",
    "'Nari Mun',\n",
    "'임채윤',\n",
    "'이재현',\n",
    "'박진호',\n",
    "'명충민',\n",
    "'Mark L Hiaasen',\n",
    "'조석진',\n",
    "'신동균',\n",
    "'신수현',\n",
    "'오권우',\n",
    "'이정목',\n",
    "'주이진',\n",
    "'이성대',\n",
    "'주민규',\n",
    "'Juseok Kim',\n",
    "'최윤준',\n",
    "'장진영',\n",
    "'전종호',\n",
    "'윤정현',\n",
    "'고태현']\n",
    "comment = random.choice(['고승일',\n",
    "'권민기',\n",
    "'정문관', \n",
    "'최민아', \n",
    "'Kevin Sanghyeon You', \n",
    "'이수현',\n",
    "'김대송',\n",
    "'서유성',\n",
    "'김윤배', \n",
    "'나윤근', \n",
    "'김세창', \n",
    "'최형준', \n",
    "'Hyunsoo Kim',\n",
    "'김종건'])\n",
    "                     \n",
    "share = random.choice(['주이진',\n",
    "'김종건',\n",
    "'나윤근',\n",
    "'우대희',\n",
    "'서유성',\n",
    "'이영진',\n",
    "'이수현',\n",
    "'권민기',\n",
    "'선우재문',\n",
    "'정문관',\n",
    "'고승일'])\n",
    "\n",
    "print('공감 당첨 : ' + good + '님')\n",
    "print('댓글 당첨 : ' + comment + '님')\n",
    "print('공유 당첨 : ' + share + '님')"
   ]
  },
  {
   "cell_type": "code",
   "execution_count": 24,
   "metadata": {
    "collapsed": false
   },
   "outputs": [
    {
     "data": {
      "text/plain": [
       "(0,)"
      ]
     },
     "execution_count": 24,
     "metadata": {},
     "output_type": "execute_result"
    }
   ],
   "source": [
    "import numpy\n",
    "a = []\n",
    "a = numpy.array(a)\n",
    "a.shape"
   ]
  },
  {
   "cell_type": "code",
   "execution_count": null,
   "metadata": {
    "collapsed": true
   },
   "outputs": [],
   "source": [
    "import matplotlib.pyplot as plt\n",
    "\n",
    "import theano\n",
    "\n",
    "%matplotlib inline"
   ]
  },
  {
   "cell_type": "code",
   "execution_count": null,
   "metadata": {
    "collapsed": false
   },
   "outputs": [],
   "source": [
    "import numpy as np\n",
    "\n",
    "\n",
    "\n",
    "for i in range(10):\n",
    "    dataset = np.cos(np.arange(1000)*(20*np.pi/1000)+i*10)[:,None]\n",
    "    plot_x = np.arange(1000)\n",
    "    plot_y = dataset\n",
    "    plt.plot(plot_x, plot_y)\n",
    "    plt.show()"
   ]
  },
  {
   "cell_type": "code",
   "execution_count": 1,
   "metadata": {
    "collapsed": false
   },
   "outputs": [
    {
     "data": {
      "image/png": "[encoded data removed]",
      "text/plain": [
       "<matplotlib.figure.Figure at 0x1064ae310>"
      ]
     },
     "metadata": {},
     "output_type": "display_data"
    },
    {
     "data": {
      "image/png": "[encoded data removed]",
      "text/plain": [
       "<matplotlib.figure.Figure at 0x10067d1d0>"
      ]
     },
     "metadata": {},
     "output_type": "display_data"
    }
   ],
   "source": [
    "\"\"\"\n",
    "=========================\n",
    "Simple animation examples\n",
    "=========================\n",
    "\n",
    "This example contains two animations. The first is a random walk plot. The\n",
    "second is an image animation.\n",
    "\"\"\"\n",
    "\n",
    "import numpy as np\n",
    "import matplotlib.pyplot as plt\n",
    "import matplotlib.animation as animation\n",
    "%matplotlib inline\n",
    "\n",
    "def update_line(num, data, line):\n",
    "    line.set_data(data[..., :num])\n",
    "    return line,\n",
    "\n",
    "fig1 = plt.figure()\n",
    "\n",
    "data = np.random.rand(2, 25)\n",
    "l, = plt.plot([], [], 'r-')\n",
    "plt.xlim(0, 1)\n",
    "plt.ylim(0, 1)\n",
    "plt.xlabel('x')\n",
    "plt.title('test')\n",
    "line_ani = animation.FuncAnimation(fig1, update_line, 25, fargs=(data, l),\n",
    "                                   interval=50, blit=True)\n",
    "\n",
    "# To save the animation, use the command: line_ani.save('lines.mp4')\n",
    "\n",
    "fig2 = plt.figure()\n",
    "\n",
    "x = np.arange(-9, 10)\n",
    "y = np.arange(-9, 10).reshape(-1, 1)\n",
    "base = np.hypot(x, y)\n",
    "ims = []\n",
    "for add in np.arange(15):\n",
    "    ims.append((plt.pcolor(x, y, base + add, norm=plt.Normalize(0, 30)),))\n",
    "\n",
    "im_ani = animation.ArtistAnimation(fig2, ims, interval=50, repeat_delay=3000,\n",
    "                                   blit=True)\n",
    "# To save this second animation with some metadata, use the following command:\n",
    "# im_ani.save('im.mp4', metadata={'artist':'Guido'})\n",
    "\n",
    "plt.show()\n"
   ]
  },
  {
   "cell_type": "code",
   "execution_count": null,
   "metadata": {
    "collapsed": true
   },
   "outputs": [],
   "source": []
  }
 ],
 "metadata": {
  "kernelspec": {
   "display_name": "Python 2",
   "language": "python",
   "name": "python2"
  },
  "language_info": {
   "codemirror_mode": {
    "name": "ipython",
    "version": 2
   },
   "file_extension": ".py",
   "mimetype": "text/x-python",
   "name": "python",
   "nbconvert_exporter": "python",
   "pygments_lexer": "ipython2",
   "version": "2.7.10"
  }
 },
 "nbformat": 4,
 "nbformat_minor": 0
}

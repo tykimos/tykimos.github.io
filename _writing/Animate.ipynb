{
 "cells": [
  {
   "cell_type": "code",
   "execution_count": 22,
   "metadata": {
    "collapsed": false
   },
   "outputs": [
    {
     "name": "stdout",
     "output_type": "stream",
     "text": [
      "./Data_RNN/201301.txt\n",
      "./Data_RNN/201302.txt\n",
      "./Data_RNN/201306.txt\n",
      "./Data_RNN/201307.txt\n",
      "./Data_RNN/201401.txt\n",
      "./Data_RNN/201402.txt\n",
      "./Data_RNN/201403.txt\n",
      "./Data_RNN/201405.txt\n",
      "./Data_RNN/201406.txt\n",
      "./Data_RNN/201503.txt\n",
      "./Data_RNN/201601.txt\n"
     ]
    }
   ],
   "source": [
    "import os\n",
    "import pandas\n",
    "\n",
    "dir_path = './Data_RNN'\n",
    "\n",
    "df = pandas.DataFrame()\n",
    "    \n",
    "for file_name in os.listdir(dir_path):\n",
    "    file_path = os.path.join(dir_path, file_name)\n",
    "    if not os.path.isdir(file_path):\n",
    "        ext = os.path.splitext(file_path)[-1]\n",
    "        if ext == '.txt': \n",
    "            print(file_path)\n",
    "            \n",
    "            curr_df = pandas.read_csv(file_path, delim_whitespace=True, header=None, usecols=[6])\n",
    "            df = df.append(curr_df)"
   ]
  },
  {
   "cell_type": "code",
   "execution_count": 23,
   "metadata": {
    "collapsed": true
   },
   "outputs": [],
   "source": [
    "import numpy as np\n",
    "from sklearn.preprocessing import MinMaxScaler\n",
    "\n",
    "dataset = df.values\n",
    "dataset = dataset.astype('float32')\n",
    "#dataset = np.log10(dataset)\n",
    "\n",
    "dataset = np.reshape(dataset, (11, 288, 1))\n",
    "\n",
    "dataset = dataset[0]\n",
    "\n",
    "# normalize\n",
    "scaler = MinMaxScaler(feature_range=(0,1))\n",
    "dataset = scaler.fit_transform(dataset)\n",
    "\n",
    "#dataset.shape"
   ]
  },
  {
   "cell_type": "code",
   "execution_count": null,
   "metadata": {
    "collapsed": false
   },
   "outputs": [],
   "source": [
    "import numpy as np\n",
    "import matplotlib.pyplot as plt\n",
    "import matplotlib.animation as animation\n",
    "\n",
    "# First set up the figure, the axis, and the plot element we want to animate\n",
    "fig = plt.figure()\n",
    "ax = plt.axes(xlim=(0, 287), ylim=(-5, 5))\n",
    "line, = ax.plot([], [], lw=2)\n",
    "\n",
    "# initialization function: plot the background of each frame\n",
    "def init():\n",
    "    line.set_data([], [])\n",
    "    return line,\n",
    "\n",
    "def animate(update_idx):\n",
    "\n",
    "    look_real = update_idx\n",
    "    look_ahead = 288-update_idx\n",
    "\n",
    "    predictions = np.zeros((look_real + look_ahead, 1))\n",
    "\n",
    "    for i in range(look_real):\n",
    "        predictions[i] = dataset[i]\n",
    "\n",
    "    for i in range(look_ahead):\n",
    "        predictions[look_real + i] = 0\n",
    "\n",
    "    x = np.linspace(0, 287, 288)\n",
    "    y = predictions\n",
    "    line.set_data(x, y)\n",
    "    \n",
    "    return line,\n",
    "        \n",
    "\n",
    "anim = animation.FuncAnimation(fig, animate, init_func=init, frames=288, interval=20, blit=True)\n",
    "\n",
    "#anim.save('exAnimation.gif', writer='imagemagick', fps=30, dpi=100)\n",
    "\n",
    "#plt.show()\n"
   ]
  },
  {
   "cell_type": "code",
   "execution_count": null,
   "metadata": {
    "collapsed": true
   },
   "outputs": [],
   "source": [
    "predictions"
   ]
  },
  {
   "cell_type": "code",
   "execution_count": null,
   "metadata": {
    "collapsed": true
   },
   "outputs": [],
   "source": []
  },
  {
   "cell_type": "code",
   "execution_count": null,
   "metadata": {
    "collapsed": true
   },
   "outputs": [],
   "source": []
  }
 ],
 "metadata": {
  "kernelspec": {
   "display_name": "Python 2",
   "language": "python",
   "name": "python2"
  },
  "language_info": {
   "codemirror_mode": {
    "name": "ipython",
    "version": 2
   },
   "file_extension": ".py",
   "mimetype": "text/x-python",
   "name": "python",
   "nbconvert_exporter": "python",
   "pygments_lexer": "ipython2",
   "version": "2.7.10"
  }
 },
 "nbformat": 4,
 "nbformat_minor": 0
}

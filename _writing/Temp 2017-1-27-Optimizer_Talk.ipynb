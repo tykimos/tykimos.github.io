{
 "cells": [
  {
   "cell_type": "raw",
   "metadata": {},
   "source": [
    "---\n",
    "layout: post\n",
    "title:  \"최적화방법 이야기\"\n",
    "author: Taeyoung, Kim\n",
    "date:   2017-01-27 23:07:00\n",
    "categories: Keras\n",
    "comments: true\n",
    "---"
   ]
  },
  {
   "cell_type": "markdown",
   "metadata": {},
   "source": [
    "* SGD : Stochastic gradient descent, with support for momentum, learning rate decay, and Nesterov momentum.\n",
    "* RMSprop : RNN에 주로 사용됨\n",
    "* Adam\n",
    "* Adagrad\n",
    "* Adadelta\n",
    "* Adamax\n",
    "* Nadam\n",
    "* TFOptimizer"
   ]
  },
  {
   "cell_type": "code",
   "execution_count": null,
   "metadata": {
    "collapsed": true
   },
   "outputs": [],
   "source": []
  }
 ],
 "metadata": {
  "kernelspec": {
   "display_name": "Python 2",
   "language": "python",
   "name": "python2"
  },
  "language_info": {
   "codemirror_mode": {
    "name": "ipython",
    "version": 2
   },
   "file_extension": ".py",
   "mimetype": "text/x-python",
   "name": "python",
   "nbconvert_exporter": "python",
   "pygments_lexer": "ipython2",
   "version": "2.7.13"
  }
 },
 "nbformat": 4,
 "nbformat_minor": 1
}

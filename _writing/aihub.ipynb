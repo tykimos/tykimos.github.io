{
  "nbformat": 4,
  "nbformat_minor": 0,
  "metadata": {
    "colab": {
      "name": "aihub.ipynb",
      "provenance": []
    },
    "kernelspec": {
      "name": "python3",
      "display_name": "Python 3"
    },
    "language_info": {
      "name": "python"
    }
  },
  "cells": [
    {
      "cell_type": "code",
      "metadata": {
        "id": "BgJ2AZg9kmps"
      },
      "source": [
        "import time\n",
        "\n",
        "dataset = \"\"\"나라의 말이\n",
        "중국과 달라\n",
        "한자와는 서로 맞지 아니하므로\n",
        "이런 까닭으로 어리석은 백성이 이르고자 하는 바 있어도\n",
        "마침내 제 뜻을 능히 펴지 못할 사람이 많으니라\n",
        "내 이를 위하여, 가엾게 여겨\n",
        "새로 스물여덟 자를 만드노니\n",
        "사람마다 하여금 쉽게 익혀 날마다 씀에 편안케 하고자 할 따름이니라\"\"\"\n",
        "\n",
        "rewards = \"\"\"과기정통부 장관상 + 1,500만원\n",
        "NIA 원장상 + 최대 1,000만원\n",
        "기업대표상 + 1,000만원\n",
        "기업후원사상 + 50만원\n",
        "총 1억 이상의 시상금!\"\"\"\n",
        "\n",
        "class MyAI:\n",
        "    def train(self, data):\n",
        "        print(\"인공지능 모델 학습을 시작합니다.\")\n",
        "        for i in data.split('\\n'):\n",
        "            print(\"train... \" + i)\n",
        "            time.sleep(0.5)\n",
        "        print(\"인공지능 모델 학습을 마쳤습니다.\")\n",
        "\n",
        "class AI_HUB:\n",
        "    def download(self):\n",
        "        print(\"인공지능 학습용 데이터 다운로드를 시작합니다.\")\n",
        "        for i in range(16):\n",
        "            print('.', end='')\n",
        "            time.sleep(0.3)\n",
        "        print()\n",
        "        print(\"인공지능 학습용 데이터를 정상적으로 다운로드 받았습니다.\")\n",
        "        return dataset\n",
        "    \n",
        "    def submit(self, MyAI):\n",
        "        print(\"성공적으로 AI 모델을 제출하였습니다.\")\n",
        "        return 0\n",
        "\n",
        "    def get_rewards(self, score):\n",
        "        print(\"다음과 같은 시상의 주인공이 될 수 있습니다!\")\n",
        "        print(\"---\")\n",
        "        for i in rewards.split('\\n'):\n",
        "            print(i)\n",
        "            time.sleep(0.5)"
      ],
      "execution_count": 2,
      "outputs": []
    },
    {
      "cell_type": "code",
      "metadata": {
        "colab": {
          "base_uri": "https://localhost:8080/"
        },
        "id": "1suipZnLkr3B",
        "outputId": "549ac081-21cf-48ff-87cc-5398d0c594cd"
      },
      "source": [
        "ai_hub = AI_HUB()\n",
        "dataset = ai_hub.download()"
      ],
      "execution_count": 3,
      "outputs": [
        {
          "output_type": "stream",
          "name": "stdout",
          "text": [
            "인공지능 학습용 데이터 다운로드를 시작합니다.\n",
            "................\n",
            "인공지능 학습용 데이터를 정상적으로 다운로드 받았습니다.\n"
          ]
        }
      ]
    },
    {
      "cell_type": "code",
      "metadata": {
        "colab": {
          "base_uri": "https://localhost:8080/"
        },
        "id": "hS7Xye33mmvN",
        "outputId": "643d9c2e-5337-491d-956a-721bb0306587"
      },
      "source": [
        "model = MyAI()\n",
        "model.train(dataset)"
      ],
      "execution_count": 4,
      "outputs": [
        {
          "output_type": "stream",
          "name": "stdout",
          "text": [
            "인공지능 모델 학습을 시작합니다.\n",
            "train... 나라의 말이\n",
            "train... 중국과 달라\n",
            "train... 한자와는 서로 맞지 아니하므로\n",
            "train... 이런 까닭으로 어리석은 백성이 이르고자 하는 바 있어도\n",
            "train... 마침내 제 뜻을 능히 펴지 못할 사람이 많으니라\n",
            "train... 내 이를 위하여, 가엾게 여겨\n",
            "train... 새로 스물여덟 자를 만드노니\n",
            "train... 사람마다 하여금 쉽게 익혀 날마다 씀에 편안케 하고자 할 따름이니라\n",
            "인공지능 모델 학습을 마쳤습니다.\n"
          ]
        }
      ]
    },
    {
      "cell_type": "code",
      "metadata": {
        "colab": {
          "base_uri": "https://localhost:8080/"
        },
        "id": "FS684ANdmrh6",
        "outputId": "511e4275-bba7-4cc6-f169-f3d492dae3bd"
      },
      "source": [
        "score = ai_hub.submit(model)"
      ],
      "execution_count": 5,
      "outputs": [
        {
          "output_type": "stream",
          "name": "stdout",
          "text": [
            "성공적으로 AI 모델을 제출하였습니다.\n"
          ]
        }
      ]
    },
    {
      "cell_type": "code",
      "metadata": {
        "colab": {
          "base_uri": "https://localhost:8080/"
        },
        "id": "z1qztzaOmvc7",
        "outputId": "aa0e96a7-c6c4-454f-e01f-ccba4fad73db"
      },
      "source": [
        "ai_hub.get_rewards(score)"
      ],
      "execution_count": 6,
      "outputs": [
        {
          "output_type": "stream",
          "name": "stdout",
          "text": [
            "다음과 같은 시상의 주인공이 될 수 있습니다!\n",
            "---\n",
            "과기정통부 장관상 + 1,500만원\n",
            "NIA 원장상 + 최대 1,000만원\n",
            "기업대표상 + 1,000만원\n",
            "기업후원사상 + 50만원\n",
            "총 1억 이상의 시상금!\n"
          ]
        }
      ]
    },
    {
      "cell_type": "code",
      "metadata": {
        "id": "VfD4EiL5myLu"
      },
      "source": [
        ""
      ],
      "execution_count": null,
      "outputs": []
    }
  ]
}
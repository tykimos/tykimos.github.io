{
 "cells": [
  {
   "cell_type": "markdown",
   "metadata": {},
   "source": [
    "# 객담도말 결핵진단 딥러닝 모델 - VGG-like convnet\n",
    "\n",
    "VGG-like convnet 기반의 객담도말 결핵진단 딥러닝 모델 소스코드입니다. 5 k-fold로 cross validation 기법이 적용되었습니다."
   ]
  },
  {
   "cell_type": "code",
   "execution_count": null,
   "metadata": {
    "collapsed": false
   },
   "outputs": [],
   "source": [
    "#improt \n",
    "\n",
    "import os\n",
    "\n",
    "from __future__ import print_function\n",
    "import numpy as np\n",
    "\n",
    "np.random.seed(1337)  # for reproducibility\n",
    "\n",
    "from keras.datasets import mnist\n",
    "from keras.models import Sequential\n",
    "from keras.layers import Dense, Dropout, Activation, Flatten\n",
    "from keras.layers import Convolution2D, MaxPooling2D\n",
    "from keras.utils import np_utils\n",
    "\n",
    "from sklearn.cross_validation import KFold"
   ]
  },
  {
   "cell_type": "code",
   "execution_count": null,
   "metadata": {
    "collapsed": false
   },
   "outputs": [],
   "source": [
    "# confiugration\n",
    "\n",
    "MODEL_NAME = 'tb_vgglike'\n",
    "\n",
    "BATCH_SIZE = 128 # 한 epoch에서 실행시키는 단위(배치)크기\n",
    "NUM_CLASSES = 2 # 클래스 수\n",
    "NUM_EPOCHS = 12 # epoch 수\n",
    "NUM_CV_K_FOLD = 5 # cross validation k-fold number\n",
    "\n",
    "IMG_CHANNELS = 1\n",
    "IMG_ROWS = 64\n",
    "IMG_COLS = 64\n",
    "\n",
    "TRAIN_DATA_COUNT = 447648\n",
    "TEST_DATA_COUNT = 15873\n",
    "\n",
    "TRAIN_IMAGE_FILE_PATH = './dataset/train_image_64x64_gray_447648.bin'\n",
    "TRAIN_LABEL_FILE_PATH = './dataset/train_label_64x64_gray_447648.bin'\n",
    "TEST_IMAGE_FILE_PATH = './dataset/test_image_64x64_gray_15873.bin'\n",
    "TEST_LABEL_FILE_PATH = './dataset/test_label_64x64_gray_15873.bin'\n",
    "\n",
    "TEST_RESULT_FILE_PATH = './output/'+MODEL_NAME+'_train_result.txt'\n",
    "MODEL_ARCHITECUTRE_FILE_PATH = './save/'+MODEL_NAME+'_model_architecture.json'\n",
    "MODEL_WEIGHTS_FILE_PATH = './save/'+MODEL_NAME+'_model_weights.h5'"
   ]
  },
  {
   "cell_type": "code",
   "execution_count": null,
   "metadata": {
    "collapsed": true
   },
   "outputs": [],
   "source": [
    "# 입력된 경로를 검사하여 폴더가 없다면 생성합니다.\n",
    "\n",
    "def check_make_dir(path):\n",
    "    \n",
    "    dirname = os.path.dirname(path)\n",
    "    \n",
    "    if not os.path.exists(dirname):\n",
    "        os.makedirs(dirname)"
   ]
  },
  {
   "cell_type": "code",
   "execution_count": null,
   "metadata": {
    "collapsed": true
   },
   "outputs": [],
   "source": [
    "# 이미지 자료를 파일로부터 로딩합니다.\n",
    "\n",
    "def load_image(filename, count, channel, row, col):\n",
    "    print('Loading data from', filename)\n",
    "\n",
    "    print('file size : ', os.path.getsize(filename))\n",
    "    print('calc size : ', count * channel * row * col)\n",
    "    \n",
    "    fp = open(filename, 'rb')\n",
    "    buf = fp.read(count * channel * row * col)\n",
    "    data = np.frombuffer(buf, dtype=np.uint8)\n",
    "    data = data.reshape(count, channel, row, col)\n",
    "\n",
    "    print('loaded shape : ', data.shape)\n",
    "\n",
    "    data = data.astype('float32')\n",
    "    data /= 255\n",
    "\n",
    "    return data\n",
    "\n",
    "# 라벨 자료를 파일로부터 로딩합니다.\n",
    "\n",
    "def load_label(filename, count, classes):\n",
    "    print('Loading labels from ', filename)\n",
    "    \n",
    "    print('file size : ', os.path.getsize(filename))\n",
    "    print('calc size : ', count)\n",
    "    \n",
    "    fp = open(filename, 'r')\n",
    "    buf = fp.read(count)\n",
    "        \n",
    "    data_bin = []\n",
    "    for i in buf:\n",
    "        data_bin.append(i)\n",
    "    data = np.asarray(data_bin, dtype=np.uint8, order='C')\n",
    "\n",
    "    print('loaded shape : ', data.shape)\n",
    "    \n",
    "    label_hist = np.histogram(data, bins=range(NUM_CLASSES+1))\n",
    "    print(label_hist)\n",
    "    \n",
    "    # convert class vectors to binary class matrices\n",
    "    data = np_utils.to_categorical(data, classes)\n",
    "\n",
    "    return data"
   ]
  },
  {
   "cell_type": "code",
   "execution_count": null,
   "metadata": {
    "collapsed": false
   },
   "outputs": [],
   "source": [
    "train_image = load_image(TRAIN_IMAGE_FILE_PATH, TRAIN_DATA_COUNT, IMG_CHANNELS, IMG_ROWS, IMG_COLS)\n",
    "test_image = load_image(TEST_IMAGE_FILE_PATH, TEST_DATA_COUNT, IMG_CHANNELS, IMG_ROWS, IMG_COLS)\n",
    "\n",
    "train_label = load_label(TRAIN_LABEL_FILE_PATH, TRAIN_DATA_COUNT, NUM_CLASSES)\n",
    "test_label = load_label(TEST_LABEL_FILE_PATH, TEST_DATA_COUNT, NUM_CLASSES)"
   ]
  },
  {
   "cell_type": "code",
   "execution_count": null,
   "metadata": {
    "collapsed": false
   },
   "outputs": [],
   "source": [
    "# 딥리닝 모델을 구축합니다.\n",
    "\n",
    "model = Sequential()\n",
    "model.add(Convolution2D(32, 3, 3, border_mode='valid', input_shape=(IMG_CHANNELS, IMG_ROWS, IMG_COLS)))\n",
    "model.add(Activation('relu'))\n",
    "model.add(Convolution2D(32, 3, 3))\n",
    "model.add(Activation('relu'))\n",
    "model.add(MaxPooling2D(pool_size=(2, 2)))\n",
    "model.add(Dropout(0.25))\n",
    "\n",
    "model.add(Convolution2D(64, 3, 3, border_mode='valid'))\n",
    "model.add(Activation('relu'))\n",
    "model.add(Convolution2D(64, 3, 3))\n",
    "model.add(Activation('relu'))\n",
    "model.add(MaxPooling2D(pool_size=(2, 2)))\n",
    "model.add(Dropout(0.25))\n",
    "\n",
    "model.add(Flatten())\n",
    "model.add(Dense(256))\n",
    "model.add(Activation('relu'))\n",
    "model.add(Dropout(0.5))\n",
    "model.add(Dense(NUM_CLASSES))\n",
    "\n",
    "model.add(Activation('softmax'))\n",
    "\n",
    "# np_utils.visualize_util.plot(model, to_file='model.png')"
   ]
  },
  {
   "cell_type": "code",
   "execution_count": null,
   "metadata": {
    "collapsed": false
   },
   "outputs": [],
   "source": [
    "model.compile(loss='categorical_crossentropy',\n",
    "              optimizer='adadelta',\n",
    "              metrics=['accuracy'])\n",
    "\n",
    "kf = KFold(len(train_label), n_folds=NUM_CV_K_FOLD)\n",
    "\n",
    "k_fold_idx = 0\n",
    "\n",
    "for train_idxs, validation_idxs in kf:\n",
    "    \n",
    "    print('running %d flod...'%k_fold_idx)\n",
    "    \n",
    "    model.fit(train_image[train_idxs], \n",
    "              train_label[train_idxs], \n",
    "              batch_size=BATCH_SIZE, \n",
    "              nb_epoch=NUM_EPOCHS,\n",
    "              verbose=1, \n",
    "              validation_data=(train_image[validation_idxs], train_label[validation_idxs]))"
   ]
  },
  {
   "cell_type": "code",
   "execution_count": null,
   "metadata": {
    "collapsed": false
   },
   "outputs": [],
   "source": [
    "# 딥러닝 모델 테스트를 수행합니다.\n",
    "\n",
    "score = model.evaluate(test_image, test_label, verbose=1)\n",
    "\n",
    "print('Test score:', score[0])\n",
    "print('Test accuracy:', score[1])\n",
    "\n",
    "classes = model.predict_classes(test_image, batch_size=32)\n",
    "\n",
    "check_make_dir(TEST_RESULT_FILE_PATH)\n",
    "\n",
    "np.savetxt(TEST_RESULT_FILE_PATH, classes, fmt='%d')"
   ]
  },
  {
   "cell_type": "code",
   "execution_count": null,
   "metadata": {
    "collapsed": false
   },
   "outputs": [],
   "source": [
    "# 모델 훈련 결과를 파일로 저장합니다.\n",
    "\n",
    "print('Save model...')\n",
    "\n",
    "check_make_dir(MODEL_WEIGHTS_FILE_PATH)\n",
    "model.save_weights(MODEL_WEIGHTS_FILE_PATH, overwrite=True)\n",
    "json_string = model.to_json()\n",
    "\n",
    "check_make_dir(MODEL_ARCHITECUTRE_FILE_PATH)\n",
    "fp_js = open(MODEL_ARCHITECUTRE_FILE_PATH, 'w')\n",
    "fp_js.write(json_string)\n",
    "fp_js.close()\n",
    "\n",
    "print('Done.')"
   ]
  }
 ],
 "metadata": {
  "kernelspec": {
   "display_name": "Python 2",
   "language": "python",
   "name": "python2"
  },
  "language_info": {
   "codemirror_mode": {
    "name": "ipython",
    "version": 2
   },
   "file_extension": ".py",
   "mimetype": "text/x-python",
   "name": "python",
   "nbconvert_exporter": "python",
   "pygments_lexer": "ipython2",
   "version": "2.7.10"
  }
 },
 "nbformat": 4,
 "nbformat_minor": 0
}

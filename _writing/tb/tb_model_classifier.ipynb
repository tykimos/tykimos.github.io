{
 "cells": [
  {
   "cell_type": "markdown",
   "metadata": {},
   "source": [
    "# 객담도말 결핵진단 딥러닝 모델기반 분류기\n",
    "\n",
    "훈련된 모델을 사용하여 입력되는 이미지에 대해 분류합니다."
   ]
  },
  {
   "cell_type": "code",
   "execution_count": 7,
   "metadata": {
    "collapsed": false
   },
   "outputs": [],
   "source": [
    "# import\n",
    "\n",
    "import os\n",
    "import cv2\n",
    "import numpy as np\n",
    "from keras.models import Sequential\n",
    "from keras.models import model_from_json\n",
    "from keras.utils import np_utils"
   ]
  },
  {
   "cell_type": "code",
   "execution_count": 8,
   "metadata": {
    "collapsed": true
   },
   "outputs": [],
   "source": [
    "# configuraiton\n",
    "MODEL_NAME = 'tb_cnn'\n",
    "# MODEL_NAME = 'tb_vgglike'\n",
    "\n",
    "INPUT_PATCH_IMAGE_DIR = './input/'\n",
    "\n",
    "MODEL_ARCHITECUTRE_FILE_PATH = './save/' + MODEL_NAME + '_model_architecture.json'\n",
    "MODEL_WEIGHTS_FILE_PATH = './save/' + MODEL_NAME + '_model_weights.h5'\n",
    "\n",
    "FALSE_DECISION_THRESHOLD = 3\n",
    "\n",
    "IMG_CHANNELS = 1\n",
    "IMG_ROWS = 64\n",
    "IMG_COLS = 64\n",
    "\n",
    "NUM_CLASSES = 2"
   ]
  },
  {
   "cell_type": "code",
   "execution_count": 9,
   "metadata": {
    "collapsed": true
   },
   "outputs": [],
   "source": [
    "def GetPatchImageFileList(dir_path):\n",
    "\n",
    "    patch_image_file_list = []\n",
    "    \n",
    "    for (path, dir, files) in os.walk(dir_path):\n",
    "        for filename in files:\n",
    "            ext = os.path.splitext(filename)[-1]\n",
    "            if ext == '.bmp' or ext == '.png' or ext == '.jpg' or ext == '.jpeg':\n",
    "                patch_image_file_list.append(dir_path + filename)\n",
    "                    \n",
    "    return patch_image_file_list"
   ]
  },
  {
   "cell_type": "code",
   "execution_count": 10,
   "metadata": {
    "collapsed": true
   },
   "outputs": [],
   "source": [
    "def GenerateDataset(patch_image_file_list, channel, row, col):\n",
    "    \n",
    "    buf = []\n",
    "    \n",
    "    for it in patch_image_file_list:\n",
    "        cv_img = cv2.imread(it)\n",
    "        cv_gray = cv2.cvtColor(cv_img, cv2.COLOR_BGR2GRAY)\n",
    "        buf.append(cv_gray)\n",
    "    \n",
    "    dataset = np.array(buf)\n",
    "    dataset = dataset.reshape(len(patch_image_file_list), channel, row, col)\n",
    "    dataset = dataset.astype('float32')\n",
    "    dataset /= 255\n",
    "    \n",
    "    return dataset"
   ]
  },
  {
   "cell_type": "code",
   "execution_count": 11,
   "metadata": {
    "collapsed": true
   },
   "outputs": [],
   "source": [
    "# architecture와 weight가 저장된 파일로부터 모델을 로딩합니다.\n",
    "\n",
    "def LoadModel(model_architecture_file_path, model_weights_file_path):\n",
    "    \n",
    "    fp_json = open(model_architecture_file_path, 'r')\n",
    "    json_string = fp_json.read()\n",
    "    fp_json.close()\n",
    "        \n",
    "    model = model_from_json(json_string)\n",
    "    \n",
    "    model.compile(loss='categorical_crossentropy',\n",
    "              optimizer='adadelta',\n",
    "              metrics=['accuracy'])\n",
    "\n",
    "    model.load_weights(model_weights_file_path)\n",
    "    # model.summary()\n",
    "    \n",
    "    return model"
   ]
  },
  {
   "cell_type": "code",
   "execution_count": 12,
   "metadata": {
    "collapsed": false
   },
   "outputs": [
    {
     "name": "stdout",
     "output_type": "stream",
     "text": [
      "33/33 [==============================] - 0s     \n",
      "false object count : 21\n",
      "true object count : 12\n",
      "[Result]\n",
      "positive\n"
     ]
    }
   ],
   "source": [
    "# 지정된 패치이미지 폴더에서 패치이미지를 로딩해서 데이터셋을 생성합니다.\n",
    "\n",
    "patch_image_list = GetPatchImageFileList(INPUT_PATCH_IMAGE_DIR)\n",
    "test_dataset = GenerateDataset(patch_image_list, IMG_CHANNELS, IMG_ROWS, IMG_COLS)\n",
    "\n",
    "# 모델을 로딩합니다.\n",
    "    \n",
    "model = LoadModel(MODEL_ARCHITECUTRE_FILE_PATH, \n",
    "                   MODEL_WEIGHTS_FILE_PATH)\n",
    "\n",
    "# 모델을 사용하여 분류합니다.\n",
    "    \n",
    "classes = model.predict_classes(test_dataset, batch_size=32)\n",
    "classes_hist = np.histogram(classes, bins=range(NUM_CLASSES+1))\n",
    "\n",
    "print('false object count : ' + str(classes_hist[0][0]))\n",
    "print('true object count : ' + str(classes_hist[0][1]))\n",
    "\n",
    "print('[Result]')\n",
    "\n",
    "if classes_hist[0][1] > FALSE_DECISION_THRESHOLD :\n",
    "    print('positive')\n",
    "else:\n",
    "    print('negative')"
   ]
  },
  {
   "cell_type": "code",
   "execution_count": null,
   "metadata": {
    "collapsed": true
   },
   "outputs": [],
   "source": []
  }
 ],
 "metadata": {
  "kernelspec": {
   "display_name": "Python 2",
   "language": "python",
   "name": "python2"
  },
  "language_info": {
   "codemirror_mode": {
    "name": "ipython",
    "version": 2
   },
   "file_extension": ".py",
   "mimetype": "text/x-python",
   "name": "python",
   "nbconvert_exporter": "python",
   "pygments_lexer": "ipython2",
   "version": "2.7.10"
  }
 },
 "nbformat": 4,
 "nbformat_minor": 0
}

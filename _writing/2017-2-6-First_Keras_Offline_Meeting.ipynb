{
 "cells": [
  {
   "cell_type": "raw",
   "metadata": {},
   "source": [
    "---\n",
    "layout: post\n",
    "title:  \"첫 오프라인 모임\"\n",
    "author: Taeyoung, Kim\n",
    "date:   2017-02-06 14:00:00\n",
    "categories: Meeting\n",
    "comments: true\n",
    "image: https://tykimos.github.io/warehouse/2017-2-6-Meeting_Keras_Lecture_1.png\n",
    "---"
   ]
  },
  {
   "cell_type": "markdown",
   "metadata": {},
   "source": [
    "2017년 2월 6일에 (주)인스페이스 대전 본사에서 케라스 첫 오프라인 모임을 가졌습니다. 4시간 넘게 진행된 강의였지만 모두 열정적으로 실습에 참석해주셨습니다. 멀리서 오신 결핵연구원과 경희대학교 분들에게도 감사드립니다! 다음 모임에서는 각자 문제를 케라스로 프로토타이핑을 해본 결과를 공유하는 자리를 기대해봅니다.\n",
    "\n",
    "![gates](https://tykimos.github.io/warehouse/2017-2-6-Meeting_Keras_Lecture_1.png)"
   ]
  },
  {
   "cell_type": "markdown",
   "metadata": {},
   "source": [
    "\n",
    "---\n",
    "\n",
    "### 같이 보기\n",
    "\n",
    "* [강좌 목차](https://tykimos.github.io/lecture/)\n",
   ]
  },
  {
   "cell_type": "code",
   "execution_count": null,
   "metadata": {
    "collapsed": true
   },
   "outputs": [],
   "source": []
  }
 ],
 "metadata": {
  "kernelspec": {
   "display_name": "Python 2",
   "language": "python",
   "name": "python2"
  },
  "language_info": {
   "codemirror_mode": {
    "name": "ipython",
    "version": 2
   },
   "file_extension": ".py",
   "mimetype": "text/x-python",
   "name": "python",
   "nbconvert_exporter": "python",
   "pygments_lexer": "ipython2",
   "version": "2.7.10"
  }
 },
 "nbformat": 4,
 "nbformat_minor": 0
}

{
 "cells": [
  {
   "cell_type": "raw",
   "metadata": {},
   "source": [
    "---\n",
    "layout: post\n",
    "title:  \"수치입력 수치예측 모델 레시피\"\n",
    "author: 김태영\n",
    "date:   2017-08-13 23:10:00\n",
    "categories: Lecture\n",
    "comments: true\n",
    "image: http://tykimos.github.io/warehouse/2017-8-12-Numerical_Prediction_Model_Recipe_4m.png\n",
    "---"
   ]
  },
  {
   "cell_type": "markdown",
   "metadata": {},
   "source": [
    "수치를 입력해서 수치를 예측하는 모델들에 대해서 알아보겠습니다. 수치예측을 위한 데이터셋 생성을 해보고, 선형회귀를 위한 가장 간단한 퍼셉트론 모델부터 깊은 다층퍼셉트론 모델까지 구성 및 학습을 시켜보겠습니다"
   ]
  },
  {
   "cell_type": "markdown",
   "metadata": {},
   "source": [
    "---\n",
    "### 데이터셋 준비\n",
    "\n",
    "입력 x에 대해 2를 곱해 두 배 정도 값을 갖는 출력 y가 되도록 데이터셋을 생성해봤습니다. 선형회귀 모델을 사용한다면 Y = w * X + b 일 때, w가 2에 가깝고, b가 0.16에 가깝게 되도록 학습시키는 것이 목표입니다."
   ]
  },
  {
   "cell_type": "code",
   "execution_count": 20,
   "metadata": {
    "collapsed": false
   },
   "outputs": [
    {
     "data": {
      "image/png": "[encoded data removed]",
      "text/plain": [
       "<matplotlib.figure.Figure at 0x11ad07d90>"
      ]
     },
     "metadata": {},
     "output_type": "display_data"
    }
   ],
   "source": [
    "import numpy as np\n",
    "\n",
    "# 데이터셋 생성\n",
    "x_train = np.random.random((1000, 1))\n",
    "y_train = x_train * 2 + np.random.random((1000, 1)) / 3.0\n",
    "x_test = np.random.random((100, 1))\n",
    "y_test = x_test * 2 + np.random.random((100, 1)) / 3.0\n",
    "\n",
    "# 데이터셋 확인\n",
    "%matplotlib inline\n",
    "import matplotlib.pyplot as plt\n",
    "\n",
    "plt.plot(x_train, y_train, 'ro')\n",
    "plt.plot(x_test, y_test, 'bo')\n",
    "plt.legend(['train', 'test'], loc='upper left')\n",
    "plt.show()"
   ]
  },
  {
   "cell_type": "markdown",
   "metadata": {},
   "source": [
    "![img](http://tykimos.github.io/warehouse/2017-8-12-Numerical_Prediction_Model_Recipe_5.png)"
   ]
  },
  {
   "cell_type": "markdown",
   "metadata": {},
   "source": [
    "---\n",
    "### 레이어 준비\n",
    "\n",
    "수치예측 모델에 사용할 레이어는 `Dense`와 `Activation`입니다. `Activation`에는 은닉층(hidden layer)에 사용할 `relu`를 준비했습니다. 데이터셋은 일차원 벡터만 다루도록 하겠습니다.\n",
    "\n",
    "|종류|구분|상세구분|브릭|\n",
    "|:-:|:-:|:-:|:-:|\n",
    "|데이터셋|Vector|-|![img](http://tykimos.github.io/warehouse/DeepBrick/Model_Recipe_Part_Dataset_Vector_s.png)|\n",
    "|레이어|Dense||![img](http://tykimos.github.io/warehouse/DeepBrick/Model_Recipe_Part_Dense_s.png)|\n",
    "|레이어|Activation|relu|![img](http://tykimos.github.io/warehouse/DeepBrick/Model_Recipe_Part_Activation_Relu_s.png)|"
   ]
  },
  {
   "cell_type": "markdown",
   "metadata": {},
   "source": [
    "---\n",
    "### 모델 준비\n",
    "\n",
    "수치예측을 하기 위해 `선형회귀 모델`, `퍼셉트론 모델`, `다층퍼셉트론 모델`, `깊은 다층퍼셉트론 모델`을 준비했습니다."
   ]
  },
  {
   "cell_type": "markdown",
   "metadata": {},
   "source": [
    "#### 선형회귀 모델\n",
    "\n",
    "가장 간단한 1차 선형회귀 모델로 수치예측을 해보겠습니다. 아래 식에서 x, y는 우리가 만든 데이터셋이고, 회귀분석을 통해서, w와 b값을 구하는 것이 목표입니다. \n",
    "\n",
    "    Y = w * X + b\n",
    "   \n",
    "w와 b값을 구하게 되면, 임의의 입력 x에 대해서 출력 y가 나오는 데 이것이 예측 값입니다. w, b 값은 분산, 공분산, 평균을 이용하여 쉽게 구할 수 있습니다. \n",
    "\n",
    "    w = np.cov(X, Y, bias=1)[0,1] / np.var(X)\n",
    "    b = np.average(Y) - w * np.average(X)\n",
    "    \n",
    "간단한 수식이지만 이 수식을 도출하기란 꽤나 복잡습니다. 오차를 최소화하는 극대값을 구하기 위해 편미분을 수행하고, 다시 식을 전개하는 등등의 과정이 필요합니다.\n",
    "\n",
    "![img](http://tykimos.github.io/warehouse/2017-8-12-Numerical_Prediction_Model_Recipe_0.png)    "
   ]
  },
  {
   "cell_type": "markdown",
   "metadata": {},
   "source": [
    "#### 퍼셉트론 모델\n",
    "\n",
    "Dense 레이어가 하나이고, 뉴런의 수도 하나인 가장 기본적인 퍼셉트론 모델입니다. 즉 웨이트(w) 하나, 바이어스(b) 하나로 전형적인 Y = w * X + b를 풀기 위한 모델입니다. 수치 예측을 하기 위해서 출력 레이어에 별도의 활성화 함수를 사용하지 않았습니다. w, b 값이 손으로 푼 선형회귀 최적해에 근접하려면 경우에 따라 만번이상의 에포크가 필요합니다. 실제로 사용하지는 않는 모델이지만 선형회귀부터 공부하시는 분들에게는 입문 모델로 나쁘지 않습니다.\n",
    "\n",
    "    model = Sequential()\n",
    "    model.add(Dense(1, input_dim=1))\n",
    "        \n",
    "![img](http://tykimos.github.io/warehouse/2017-8-12-Numerical_Prediction_Model_Recipe_1m.png)"
   ]
  },
  {
   "cell_type": "markdown",
   "metadata": {},
   "source": [
    "#### 다층퍼셉트론 모델\n",
    "\n",
    "Dense 레이어가 두 개인 다층퍼셉트론 모델입니다. 첫 번째 레이어는 64개의 뉴런을 가진 Dense 레이어이고 오류역전파가 용이한 `relu` 활성화 함수를 사용하였습니다. 출력 레이어인 두 번째 레이어는 하나의 수치값을 예측을 하기 위해서 1개의 뉴런을 가지며, 별도의 활성화 함수를 사용하지 않았습니다.\n",
    "\n",
    "    model = Sequential()\n",
    "    model.add(Dense(64, input_dim=1, activation='relu'))\n",
    "    model.add(Dense(1))\n",
    "\n",
    "![img](http://tykimos.github.io/warehouse/2017-8-12-Numerical_Prediction_Model_Recipe_2m.png)"
   ]
  },
  {
   "cell_type": "markdown",
   "metadata": {},
   "source": [
    "#### 깊은 다층퍼셉트론 모델\n",
    "\n",
    "Dense 레이어가 총 세 개인 다층퍼셉트론 모델입니다. 첫 번째, 두 번째 레이어는 64개의 뉴런을 가진 Dense 레이어이고 오류역전파가 용이한 `relu` 활성화 함수를 사용하였습니다. 출력 레이어인 세 번째 레이어는 하나의 수치값을 예측을 하기 위해서 1개의 뉴런을 가지며, 별도의 활성화 함수를 사용하지 않았습니다.\n",
    "\n",
    "    model = Sequential()\n",
    "    model.add(Dense(64, input_dim=1, activation='relu'))\n",
    "    model.add(Dense(64, activation='relu'))\n",
    "    model.add(Dense(1))\n",
    "    \n",
    "![img](http://tykimos.github.io/warehouse/2017-8-12-Numerical_Prediction_Model_Recipe_3m.png)    "
   ]
  },
  {
   "cell_type": "markdown",
   "metadata": {},
   "source": [
    "---\n",
    "### 전체 소스\n",
    "\n",
    "앞서 살펴본 `선형회귀 모델`, `퍼셉트론 모델`, `다층퍼셉트론 모델`, `깊은 다층퍼셉트론 모델`의 전체 소스는 다음과 같습니다. "
   ]
  },
  {
   "cell_type": "markdown",
   "metadata": {},
   "source": [
    "#### 선형회귀 모델"
   ]
  },
  {
   "cell_type": "code",
   "execution_count": 15,
   "metadata": {
    "collapsed": false
   },
   "outputs": [
    {
     "name": "stdout",
     "output_type": "stream",
     "text": [
      "1.98905075934 0.17528613215\n",
      "mse : 0.00941512031119\n"
     ]
    }
   ],
   "source": [
    "# 선형회귀 모델로 수치예측하기\n",
    "\n",
    "import numpy as np\n",
    "from sklearn.metrics import mean_squared_error\n",
    "import random\n",
    "\n",
    "# 1. 데이터셋 준비하기\n",
    "x_train = np.random.random((1000, 1))\n",
    "y_train = x_train * 2 + np.random.random((1000, 1)) / 3.0\n",
    "x_test = np.random.random((100, 1))\n",
    "y_test = x_test * 2 + np.random.random((100, 1)) / 3.0\n",
    "\n",
    "x_train = x_train.reshape(1000,)\n",
    "y_train = y_train.reshape(1000,)\n",
    "x_test = x_test.reshape(100,)\n",
    "y_test = y_test.reshape(100,)\n",
    "\n",
    "# 2. 모델 구성하기\n",
    "w = np.cov(x_train, y_train, bias=1)[0,1] / np.var(x_train)\n",
    "b = np.average(y_train) - w * np.average(x_train)\n",
    "\n",
    "print w, b\n",
    "\n",
    "# 3. 모델 평가하기\n",
    "\n",
    "y_predict = w * x_test + b\n",
    "mse = mean_squared_error(y_test, y_predict)\n",
    "print('mse : ' + str(mse))"
   ]
  },
  {
   "cell_type": "markdown",
   "metadata": {},
   "source": [
    "#### 퍼셉트론 모델"
   ]
  },
  {
   "cell_type": "code",
   "execution_count": 19,
   "metadata": {
    "collapsed": false
   },
   "outputs": [
    {
     "name": "stdout",
     "output_type": "stream",
     "text": [
      "Epoch 1/50\n",
      "1000/1000 [==============================] - 0s - loss: 3.3772     \n",
      "Epoch 2/50\n",
      "1000/1000 [==============================] - 0s - loss: 3.2768     \n",
      "Epoch 3/50\n",
      "1000/1000 [==============================] - 0s - loss: 3.1915     \n",
      "Epoch 4/50\n",
      "1000/1000 [==============================] - 0s - loss: 3.1096     \n",
      "Epoch 5/50\n",
      "1000/1000 [==============================] - 0s - loss: 3.0284     \n",
      "Epoch 6/50\n",
      "1000/1000 [==============================] - 0s - loss: 2.9489     \n",
      "Epoch 7/50\n",
      "1000/1000 [==============================] - 0s - loss: 2.8706     \n",
      "Epoch 8/50\n",
      "1000/1000 [==============================] - 0s - loss: 2.7936     \n",
      "Epoch 9/50\n",
      "1000/1000 [==============================] - 0s - loss: 2.7176     \n",
      "Epoch 10/50\n",
      "1000/1000 [==============================] - 0s - loss: 2.6425     \n",
      "Epoch 11/50\n",
      "1000/1000 [==============================] - 0s - loss: 2.5688     \n",
      "Epoch 12/50\n",
      "1000/1000 [==============================] - 0s - loss: 2.4959     \n",
      "Epoch 13/50\n",
      "1000/1000 [==============================] - 0s - loss: 2.4244     \n",
      "Epoch 14/50\n",
      "1000/1000 [==============================] - 0s - loss: 2.3546     \n",
      "Epoch 15/50\n",
      "1000/1000 [==============================] - 0s - loss: 2.2855     \n",
      "Epoch 16/50\n",
      "1000/1000 [==============================] - 0s - loss: 2.2174     \n",
      "Epoch 17/50\n",
      "1000/1000 [==============================] - 0s - loss: 2.1508     \n",
      "Epoch 18/50\n",
      "1000/1000 [==============================] - 0s - loss: 2.0856     \n",
      "Epoch 19/50\n",
      "1000/1000 [==============================] - 0s - loss: 2.0210     \n",
      "Epoch 20/50\n",
      "1000/1000 [==============================] - 0s - loss: 1.9578     \n",
      "Epoch 21/50\n",
      "1000/1000 [==============================] - 0s - loss: 1.8959     \n",
      "Epoch 22/50\n",
      "1000/1000 [==============================] - 0s - loss: 1.8359     \n",
      "Epoch 23/50\n",
      "1000/1000 [==============================] - 0s - loss: 1.7766     \n",
      "Epoch 24/50\n",
      "1000/1000 [==============================] - 0s - loss: 1.7181     \n",
      "Epoch 25/50\n",
      "1000/1000 [==============================] - 0s - loss: 1.6608     \n",
      "Epoch 26/50\n",
      "1000/1000 [==============================] - 0s - loss: 1.6040     \n",
      "Epoch 27/50\n",
      "1000/1000 [==============================] - 0s - loss: 1.5497     \n",
      "Epoch 28/50\n",
      "1000/1000 [==============================] - 0s - loss: 1.4967     \n",
      "Epoch 29/50\n",
      "1000/1000 [==============================] - 0s - loss: 1.4441     \n",
      "Epoch 30/50\n",
      "1000/1000 [==============================] - 0s - loss: 1.3926     \n",
      "Epoch 31/50\n",
      "1000/1000 [==============================] - 0s - loss: 1.3425     \n",
      "Epoch 32/50\n",
      "1000/1000 [==============================] - 0s - loss: 1.2937     \n",
      "Epoch 33/50\n",
      "1000/1000 [==============================] - 0s - loss: 1.2460     \n",
      "Epoch 34/50\n",
      "1000/1000 [==============================] - 0s - loss: 1.1992     \n",
      "Epoch 35/50\n",
      "1000/1000 [==============================] - 0s - loss: 1.1538     \n",
      "Epoch 36/50\n",
      "1000/1000 [==============================] - 0s - loss: 1.1096     \n",
      "Epoch 37/50\n",
      "1000/1000 [==============================] - 0s - loss: 1.0669     \n",
      "Epoch 38/50\n",
      "1000/1000 [==============================] - 0s - loss: 1.0249     \n",
      "Epoch 39/50\n",
      "1000/1000 [==============================] - 0s - loss: 0.9843     \n",
      "Epoch 40/50\n",
      "1000/1000 [==============================] - 0s - loss: 0.9452     \n",
      "Epoch 41/50\n",
      "1000/1000 [==============================] - 0s - loss: 0.9069     \n",
      "Epoch 42/50\n",
      "1000/1000 [==============================] - 0s - loss: 0.8697     \n",
      "Epoch 43/50\n",
      "1000/1000 [==============================] - 0s - loss: 0.8340     \n",
      "Epoch 44/50\n",
      "1000/1000 [==============================] - 0s - loss: 0.7992     \n",
      "Epoch 45/50\n",
      "1000/1000 [==============================] - 0s - loss: 0.7658     \n",
      "Epoch 46/50\n",
      "1000/1000 [==============================] - 0s - loss: 0.7333     \n",
      "Epoch 47/50\n",
      "1000/1000 [==============================] - 0s - loss: 0.7021     \n",
      "Epoch 48/50\n",
      "1000/1000 [==============================] - 0s - loss: 0.6717     \n",
      "Epoch 49/50\n",
      "1000/1000 [==============================] - 0s - loss: 0.6426     \n",
      "Epoch 50/50\n",
      "1000/1000 [==============================] - 0s - loss: 0.6149     \n",
      "[[-0.1403431]] [ 0.79356796]\n",
      " 32/100 [========>.....................] - ETA: 0sloss : 0.608838057518\n"
     ]
    },
    {
     "data": {
      "image/png": "[encoded data removed]",
      "text/plain": [
       "<matplotlib.figure.Figure at 0x11b4ad710>"
      ]
     },
     "metadata": {},
     "output_type": "display_data"
    }
   ],
   "source": [
    "# 퍼셉트론 모델로 수치예측하기\n",
    "\n",
    "import numpy as np\n",
    "from keras.models import Sequential\n",
    "from keras.layers import Dense\n",
    "import random\n",
    "\n",
    "# 1. 데이터셋 준비하기\n",
    "x_train = np.random.random((1000, 1))\n",
    "y_train = x_train * 2 + np.random.random((1000, 1)) / 3.0\n",
    "x_test = np.random.random((100, 1))\n",
    "y_test = x_test * 2 + np.random.random((100, 1)) / 3.0\n",
    "\n",
    "# 2. 모델 구성하기\n",
    "model = Sequential()\n",
    "model.add(Dense(1, input_dim=1))\n",
    "\n",
    "# 3. 모델 학습과정 설정하기\n",
    "model.compile(optimizer='rmsprop', loss='mse')\n",
    "\n",
    "# 4. 모델 학습시키기\n",
    "hist = model.fit(x_train, y_train, epochs=50, batch_size=64)\n",
    "w, b = model.get_weights()\n",
    "print w, b\n",
    "\n",
    "# 5. 모델 평가하기\n",
    "loss = model.evaluate(x_test, y_test, batch_size=32)\n",
    "print('loss : ' + str(loss))\n",
    "\n",
    "# 6. 학습과정 확인하기\n",
    "%matplotlib inline\n",
    "import matplotlib.pyplot as plt\n",
    "\n",
    "plt.plot(hist.history['loss'])\n",
    "plt.ylim(0.0, 1.5)\n",
    "plt.ylabel('loss')\n",
    "plt.xlabel('epoch')\n",
    "plt.legend(['train'], loc='upper left')\n",
    "plt.show()"
   ]
  },
  {
   "cell_type": "markdown",
   "metadata": {},
   "source": [
    "#### 다층퍼셉트론 모델"
   ]
  },
  {
   "cell_type": "code",
   "execution_count": 103,
   "metadata": {
    "collapsed": false
   },
   "outputs": [
    {
     "name": "stdout",
     "output_type": "stream",
     "text": [
      "Epoch 1/50\n",
      "1000/1000 [==============================] - 2s - loss: 0.9789      \n",
      "Epoch 2/50\n",
      "1000/1000 [==============================] - 0s - loss: 0.6524     \n",
      "Epoch 3/50\n",
      "1000/1000 [==============================] - 0s - loss: 0.4222     \n",
      "Epoch 4/50\n",
      "1000/1000 [==============================] - 0s - loss: 0.2468     \n",
      "Epoch 5/50\n",
      "1000/1000 [==============================] - 0s - loss: 0.1298     \n",
      "Epoch 6/50\n",
      "1000/1000 [==============================] - 0s - loss: 0.0692     \n",
      "Epoch 7/50\n",
      "1000/1000 [==============================] - 0s - loss: 0.0481     \n",
      "Epoch 8/50\n",
      "1000/1000 [==============================] - 0s - loss: 0.0376     \n",
      "Epoch 9/50\n",
      "1000/1000 [==============================] - 0s - loss: 0.0274     \n",
      "Epoch 10/50\n",
      "1000/1000 [==============================] - 0s - loss: 0.0193     \n",
      "Epoch 11/50\n",
      "1000/1000 [==============================] - 0s - loss: 0.0137     \n",
      "Epoch 12/50\n",
      "1000/1000 [==============================] - 0s - loss: 0.0108     \n",
      "Epoch 13/50\n",
      "1000/1000 [==============================] - 0s - loss: 0.0100     \n",
      "Epoch 14/50\n",
      "1000/1000 [==============================] - 0s - loss: 0.0097     \n",
      "Epoch 15/50\n",
      "1000/1000 [==============================] - 0s - loss: 0.0096     \n",
      "Epoch 16/50\n",
      "1000/1000 [==============================] - 0s - loss: 0.0097     \n",
      "Epoch 17/50\n",
      "1000/1000 [==============================] - 0s - loss: 0.0096     \n",
      "Epoch 18/50\n",
      "1000/1000 [==============================] - 0s - loss: 0.0096     \n",
      "Epoch 19/50\n",
      "1000/1000 [==============================] - 0s - loss: 0.0098     \n",
      "Epoch 20/50\n",
      "1000/1000 [==============================] - 0s - loss: 0.0098     \n",
      "Epoch 21/50\n",
      "1000/1000 [==============================] - 0s - loss: 0.0097     \n",
      "Epoch 22/50\n",
      "1000/1000 [==============================] - 0s - loss: 0.0097     \n",
      "Epoch 23/50\n",
      "1000/1000 [==============================] - 0s - loss: 0.0097     \n",
      "Epoch 24/50\n",
      "1000/1000 [==============================] - 0s - loss: 0.0097     \n",
      "Epoch 25/50\n",
      "1000/1000 [==============================] - 0s - loss: 0.0096     \n",
      "Epoch 26/50\n",
      "1000/1000 [==============================] - 0s - loss: 0.0096     \n",
      "Epoch 27/50\n",
      "1000/1000 [==============================] - 0s - loss: 0.0097     \n",
      "Epoch 28/50\n",
      "1000/1000 [==============================] - 0s - loss: 0.0097     \n",
      "Epoch 29/50\n",
      "1000/1000 [==============================] - 0s - loss: 0.0097     \n",
      "Epoch 30/50\n",
      "1000/1000 [==============================] - 0s - loss: 0.0097     \n",
      "Epoch 31/50\n",
      "1000/1000 [==============================] - 0s - loss: 0.0096     \n",
      "Epoch 32/50\n",
      "1000/1000 [==============================] - 0s - loss: 0.0096     \n",
      "Epoch 33/50\n",
      "1000/1000 [==============================] - 0s - loss: 0.0097     \n",
      "Epoch 34/50\n",
      "1000/1000 [==============================] - 0s - loss: 0.0096     \n",
      "Epoch 35/50\n",
      "1000/1000 [==============================] - 0s - loss: 0.0096     \n",
      "Epoch 36/50\n",
      "1000/1000 [==============================] - 0s - loss: 0.0096     \n",
      "Epoch 37/50\n",
      "1000/1000 [==============================] - 0s - loss: 0.0097     \n",
      "Epoch 38/50\n",
      "1000/1000 [==============================] - 0s - loss: 0.0096     \n",
      "Epoch 39/50\n",
      "1000/1000 [==============================] - 0s - loss: 0.0096     \n",
      "Epoch 40/50\n",
      "1000/1000 [==============================] - 0s - loss: 0.0096     \n",
      "Epoch 41/50\n",
      "1000/1000 [==============================] - 0s - loss: 0.0098     \n",
      "Epoch 42/50\n",
      "1000/1000 [==============================] - 0s - loss: 0.0097     \n",
      "Epoch 43/50\n",
      "1000/1000 [==============================] - 0s - loss: 0.0097     \n",
      "Epoch 44/50\n",
      "1000/1000 [==============================] - 0s - loss: 0.0095     \n",
      "Epoch 45/50\n",
      "1000/1000 [==============================] - 0s - loss: 0.0097     \n",
      "Epoch 46/50\n",
      "1000/1000 [==============================] - 0s - loss: 0.0096     \n",
      "Epoch 47/50\n",
      "1000/1000 [==============================] - 0s - loss: 0.0097     \n",
      "Epoch 48/50\n",
      "1000/1000 [==============================] - 0s - loss: 0.0096     \n",
      "Epoch 49/50\n",
      "1000/1000 [==============================] - 0s - loss: 0.0096     \n",
      "Epoch 50/50\n",
      "1000/1000 [==============================] - 0s - loss: 0.0097     \n",
      " 32/100 [========>.....................] - ETA: 3sloss : 0.00962571099401\n"
     ]
    },
    {
     "data": {
      "image/png": "[encoded data removed]",
      "text/plain": [
       "<matplotlib.figure.Figure at 0x137639210>"
      ]
     },
     "metadata": {},
     "output_type": "display_data"
    }
   ],
   "source": [
    "# 다층퍼셉트론 모델로 수치예측하기\n",
    "\n",
    "import numpy as np\n",
    "from keras.models import Sequential\n",
    "from keras.layers import Dense\n",
    "import random\n",
    "\n",
    "# 1. 데이터셋 준비하기\n",
    "x_train = np.random.random((1000, 1))\n",
    "y_train = x_train * 2 + np.random.random((1000, 1)) / 3.0\n",
    "x_test = np.random.random((100, 1))\n",
    "y_test = x_test * 2 + np.random.random((100, 1)) / 3.0\n",
    "\n",
    "# 2. 모델 구성하기\n",
    "model = Sequential()\n",
    "model.add(Dense(64, input_dim=1, activation='relu'))\n",
    "model.add(Dense(1))\n",
    "\n",
    "# 3. 모델 학습과정 설정하기\n",
    "model.compile(optimizer='rmsprop', loss='mse')\n",
    "\n",
    "# 4. 모델 학습시키기\n",
    "hist = model.fit(x_train, y_train, epochs=50, batch_size=64)\n",
    "\n",
    "# 5. 모델 평가하기\n",
    "loss = model.evaluate(x_test, y_test, batch_size=32)\n",
    "print('loss : ' + str(loss))\n",
    "\n",
    "# 6. 학습과정 확인하기\n",
    "%matplotlib inline\n",
    "import matplotlib.pyplot as plt\n",
    "\n",
    "plt.plot(hist.history['loss'])\n",
    "plt.ylim(0.0, 1.5)\n",
    "plt.ylabel('loss')\n",
    "plt.xlabel('epoch')\n",
    "plt.legend(['train'], loc='upper left')\n",
    "plt.show()"
   ]
  },
  {
   "cell_type": "markdown",
   "metadata": {},
   "source": [
    "#### 깊은 다층퍼셉트론 모델"
   ]
  },
  {
   "cell_type": "code",
   "execution_count": 104,
   "metadata": {
    "collapsed": false
   },
   "outputs": [
    {
     "name": "stdout",
     "output_type": "stream",
     "text": [
      "Epoch 1/50\n",
      "1000/1000 [==============================] - 2s - loss: 1.0374     \n",
      "Epoch 2/50\n",
      "1000/1000 [==============================] - 0s - loss: 0.3070     \n",
      "Epoch 3/50\n",
      "1000/1000 [==============================] - 0s - loss: 0.0581     \n",
      "Epoch 4/50\n",
      "1000/1000 [==============================] - 0s - loss: 0.0310     \n",
      "Epoch 5/50\n",
      "1000/1000 [==============================] - 0s - loss: 0.0199     \n",
      "Epoch 6/50\n",
      "1000/1000 [==============================] - 0s - loss: 0.0120     \n",
      "Epoch 7/50\n",
      "1000/1000 [==============================] - 0s - loss: 0.0094     \n",
      "Epoch 8/50\n",
      "1000/1000 [==============================] - 0s - loss: 0.0103     \n",
      "Epoch 9/50\n",
      "1000/1000 [==============================] - 0s - loss: 0.0093     \n",
      "Epoch 10/50\n",
      "1000/1000 [==============================] - 0s - loss: 0.0096     \n",
      "Epoch 11/50\n",
      "1000/1000 [==============================] - 0s - loss: 0.0096     \n",
      "Epoch 12/50\n",
      "1000/1000 [==============================] - 0s - loss: 0.0092     \n",
      "Epoch 13/50\n",
      "1000/1000 [==============================] - 0s - loss: 0.0094     \n",
      "Epoch 14/50\n",
      "1000/1000 [==============================] - 0s - loss: 0.0092     \n",
      "Epoch 15/50\n",
      "1000/1000 [==============================] - 0s - loss: 0.0102     \n",
      "Epoch 16/50\n",
      "1000/1000 [==============================] - 0s - loss: 0.0095     \n",
      "Epoch 17/50\n",
      "1000/1000 [==============================] - 0s - loss: 0.0091     \n",
      "Epoch 18/50\n",
      "1000/1000 [==============================] - 0s - loss: 0.0098     \n",
      "Epoch 19/50\n",
      "1000/1000 [==============================] - 0s - loss: 0.0093     \n",
      "Epoch 20/50\n",
      "1000/1000 [==============================] - 0s - loss: 0.0096     \n",
      "Epoch 21/50\n",
      "1000/1000 [==============================] - 0s - loss: 0.0095     \n",
      "Epoch 22/50\n",
      "1000/1000 [==============================] - 0s - loss: 0.0092     \n",
      "Epoch 23/50\n",
      "1000/1000 [==============================] - 0s - loss: 0.0096     \n",
      "Epoch 24/50\n",
      "1000/1000 [==============================] - 0s - loss: 0.0093     \n",
      "Epoch 25/50\n",
      "1000/1000 [==============================] - 0s - loss: 0.0102     \n",
      "Epoch 26/50\n",
      "1000/1000 [==============================] - 0s - loss: 0.0096     \n",
      "Epoch 27/50\n",
      "1000/1000 [==============================] - 0s - loss: 0.0096     \n",
      "Epoch 28/50\n",
      "1000/1000 [==============================] - 0s - loss: 0.0094     \n",
      "Epoch 29/50\n",
      "1000/1000 [==============================] - 0s - loss: 0.0094     \n",
      "Epoch 30/50\n",
      "1000/1000 [==============================] - 0s - loss: 0.0093     \n",
      "Epoch 31/50\n",
      "1000/1000 [==============================] - 0s - loss: 0.0100     \n",
      "Epoch 32/50\n",
      "1000/1000 [==============================] - 0s - loss: 0.0094     \n",
      "Epoch 33/50\n",
      "1000/1000 [==============================] - 0s - loss: 0.0096     \n",
      "Epoch 34/50\n",
      "1000/1000 [==============================] - 0s - loss: 0.0095     \n",
      "Epoch 35/50\n",
      "1000/1000 [==============================] - 0s - loss: 0.0099     \n",
      "Epoch 36/50\n",
      "1000/1000 [==============================] - 0s - loss: 0.0094     \n",
      "Epoch 37/50\n",
      "1000/1000 [==============================] - 0s - loss: 0.0096     \n",
      "Epoch 38/50\n",
      "1000/1000 [==============================] - 0s - loss: 0.0095     \n",
      "Epoch 39/50\n",
      "1000/1000 [==============================] - 0s - loss: 0.0095     \n",
      "Epoch 40/50\n",
      "1000/1000 [==============================] - 0s - loss: 0.0095     \n",
      "Epoch 41/50\n",
      "1000/1000 [==============================] - 0s - loss: 0.0095     \n",
      "Epoch 42/50\n",
      "1000/1000 [==============================] - 0s - loss: 0.0092     \n",
      "Epoch 43/50\n",
      "1000/1000 [==============================] - 0s - loss: 0.0097     \n",
      "Epoch 44/50\n",
      "1000/1000 [==============================] - 0s - loss: 0.0097     \n",
      "Epoch 45/50\n",
      "1000/1000 [==============================] - 0s - loss: 0.0097     \n",
      "Epoch 46/50\n",
      "1000/1000 [==============================] - 0s - loss: 0.0091     \n",
      "Epoch 47/50\n",
      "1000/1000 [==============================] - 0s - loss: 0.0096     \n",
      "Epoch 48/50\n",
      "1000/1000 [==============================] - 0s - loss: 0.0093     \n",
      "Epoch 49/50\n",
      "1000/1000 [==============================] - 0s - loss: 0.0095     \n",
      "Epoch 50/50\n",
      "1000/1000 [==============================] - ETA: 0s - loss: 0.008 - 0s - loss: 0.0094     \n",
      " 32/100 [========>.....................] - ETA: 4sloss : 0.0100720105693\n"
     ]
    },
    {
     "data": {
      "image/png": "[encoded data removed]",
      "text/plain": [
       "<matplotlib.figure.Figure at 0x13911bf50>"
      ]
     },
     "metadata": {},
     "output_type": "display_data"
    }
   ],
   "source": [
    "# 깊은 다층퍼셉트론 모델로 수치예측하기\n",
    "\n",
    "import numpy as np\n",
    "from keras.models import Sequential\n",
    "from keras.layers import Dense\n",
    "import random\n",
    "\n",
    "# 1. 데이터셋 준비하기\n",
    "x_train = np.random.random((1000, 1))\n",
    "y_train = x_train * 2 + np.random.random((1000, 1)) / 3.0\n",
    "x_test = np.random.random((100, 1))\n",
    "y_test = x_test * 2 + np.random.random((100, 1)) / 3.0\n",
    "\n",
    "# 2. 모델 구성하기\n",
    "model = Sequential()\n",
    "model.add(Dense(64, input_dim=1, activation='relu'))\n",
    "model.add(Dense(64, activation='relu'))\n",
    "model.add(Dense(1))\n",
    "\n",
    "# 3. 모델 학습과정 설정하기\n",
    "model.compile(optimizer='rmsprop', loss='mse')\n",
    "\n",
    "# 4. 모델 학습시키기\n",
    "hist = model.fit(x_train, y_train, epochs=50, batch_size=64)\n",
    "\n",
    "# 5. 모델 평가하기\n",
    "loss = model.evaluate(x_test, y_test, batch_size=32)\n",
    "print('loss : ' + str(loss))\n",
    "\n",
    "# 6. 학습과정 확인하기\n",
    "%matplotlib inline\n",
    "import matplotlib.pyplot as plt\n",
    "\n",
    "plt.plot(hist.history['loss'])\n",
    "plt.ylim(0.0, 1.5)\n",
    "plt.ylabel('loss')\n",
    "plt.xlabel('epoch')\n",
    "plt.legend(['train'], loc='upper left')\n",
    "plt.show()"
   ]
  },
  {
   "cell_type": "markdown",
   "metadata": {},
   "source": [
    "---\n",
    "\n",
    "### 학습결과 비교\n",
    "\n",
    "퍼셉트론 > 다층퍼셉트론 > 깊은 다층퍼셉트론 순으로 학습이 좀 더 빨리 되는 것을 확인할 수 있습니다.\n",
    "\n",
    "|퍼셉트론|다층퍼셉트론|깊은 다층퍼셉트론|\n",
    "|:-:|:-:|:-:|\n",
    "|![img](http://tykimos.github.io/warehouse/2017-8-12-Numerical_Prediction_Model_Recipe_6.png)|![img](http://tykimos.github.io/warehouse/2017-8-12-Numerical_Prediction_Model_Recipe_7.png)|![img](http://tykimos.github.io/warehouse/2017-8-12-Numerical_Prediction_Model_Recipe_8.png)|"
   ]
  },
  {
   "cell_type": "markdown",
   "metadata": {},
   "source": [
    "---\n",
    "\n",
    "### 결론\n",
    "\n",
    "수치예측을 위한 퍼셉트론, 다층퍼셉트론, 깊은 다층퍼셉트론 모델을 살펴보고, 그 성능을 확인 해봤습니다.\n",
    "\n",
    "![img](http://tykimos.github.io/warehouse/2017-8-12-Numerical_Prediction_Model_Recipe_4m.png)"
   ]
  },
  {
   "cell_type": "markdown",
   "metadata": {
    "collapsed": true
   },
   "source": [
    "---\n",
    "\n",
    "### 같이 보기\n",
    "\n",
    "* [강좌 목차](https://tykimos.github.io/lecture/)"
   ]
  }
 ],
 "metadata": {
  "kernelspec": {
   "display_name": "Python 2",
   "language": "python",
   "name": "python2"
  },
  "language_info": {
   "codemirror_mode": {
    "name": "ipython",
    "version": 2
   },
   "file_extension": ".py",
   "mimetype": "text/x-python",
   "name": "python",
   "nbconvert_exporter": "python",
   "pygments_lexer": "ipython2",
   "version": "2.7.10"
  }
 },
 "nbformat": 4,
 "nbformat_minor": 1
}

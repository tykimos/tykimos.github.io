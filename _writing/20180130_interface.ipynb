{
 "cells": [
  {
   "cell_type": "code",
   "execution_count": 4,
   "metadata": {},
   "outputs": [],
   "source": [
    "class Person:\n",
    "    def __init__(self):\n",
    "        self.weight = 60\n",
    "        \n",
    "    def query_weight(self):\n",
    "        \n",
    "        if self.weight >= 100:\n",
    "            print 'No comment.'\n",
    "        else:\n",
    "            print self.weight\n",
    "    \n",
    "    def eat(self, cal):\n",
    "        \n",
    "        if self.weight >= 120:\n",
    "            print 'No thanks'\n",
    "        else:\n",
    "            self.weight = self.weight + cal\n",
    "            print 'Thanks'\n",
    "        \n",
    "    def run(self):\n",
    "        \n",
    "        if self.weight < 40:\n",
    "            print 'No thanks.'\n",
    "        else:\n",
    "            self.weight = self.weight - 10\n",
    "            print 'Thanks'"
   ]
  },
  {
   "cell_type": "code",
   "execution_count": 13,
   "metadata": {},
   "outputs": [
    {
     "name": "stdout",
     "output_type": "stream",
     "text": [
      "60\n",
      "Thanks\n",
      "70\n",
      "Thanks\n",
      "No comment.\n",
      "Thanks\n",
      "Thanks\n",
      "80\n"
     ]
    }
   ],
   "source": [
    "p = Person()\n",
    "p.query_weight()\n",
    "p.eat(10)\n",
    "p.query_weight()\n",
    "p.eat(30)\n",
    "p.query_weight()\n",
    "p.run()\n",
    "p.run()\n",
    "p.query_weight()"
   ]
  },
  {
   "cell_type": "code",
   "execution_count": 14,
   "metadata": {},
   "outputs": [],
   "source": [
    "class IArm:\n",
    "    def attack(self):\n",
    "        pass"
   ]
  },
  {
   "cell_type": "code",
   "execution_count": 15,
   "metadata": {},
   "outputs": [],
   "source": [
    "class FastArm(IArm):\n",
    "    def attack(self):\n",
    "        print('fast!!!')\n",
    "        \n",
    "class NormalArm(IArm):\n",
    "    def attack(self):\n",
    "        print('slow~~')"
   ]
  },
  {
   "cell_type": "code",
   "execution_count": 16,
   "metadata": {},
   "outputs": [],
   "source": [
    "class IWoman:\n",
    "    def __init__(self):\n",
    "        pass\n",
    "        \n",
    "    def add(self, IArm):\n",
    "        self.arms.append(IArm)\n",
    "\n",
    "    def attack(self):\n",
    "        \n",
    "        if len(self.arms) == 0:\n",
    "            print('no arm')\n",
    "        for item in self.arms:\n",
    "            item.attack()\n",
    "    \n",
    "    def take(self):\n",
    "        return self.arms.pop(0)"
   ]
  },
  {
   "cell_type": "code",
   "execution_count": 17,
   "metadata": {},
   "outputs": [],
   "source": [
    "class FastWoman(IWoman):\n",
    "    def __init__(self):\n",
    "        self.arms = []\n",
    "        fa = FastArm()\n",
    "        self.add(fa)\n",
    "        \n",
    "class NormalWoman(IWoman):\n",
    "    def __init__(self):\n",
    "        self.arms = []\n",
    "        sa = NormalArm()\n",
    "        self.add(sa)    "
   ]
  },
  {
   "cell_type": "code",
   "execution_count": 18,
   "metadata": {},
   "outputs": [
    {
     "name": "stdout",
     "output_type": "stream",
     "text": [
      "fast!!!\n"
     ]
    }
   ],
   "source": [
    "fw = FastWoman()\n",
    "fw.attack()"
   ]
  },
  {
   "cell_type": "code",
   "execution_count": 19,
   "metadata": {},
   "outputs": [
    {
     "name": "stdout",
     "output_type": "stream",
     "text": [
      "slow~~\n"
     ]
    }
   ],
   "source": [
    "sw = NormalWoman()\n",
    "sw.attack()"
   ]
  },
  {
   "cell_type": "code",
   "execution_count": 20,
   "metadata": {},
   "outputs": [],
   "source": [
    "fast_arm = fw.take()\n",
    "\n",
    "sw.add(fast_arm)"
   ]
  },
  {
   "cell_type": "code",
   "execution_count": 21,
   "metadata": {},
   "outputs": [
    {
     "name": "stdout",
     "output_type": "stream",
     "text": [
      "no arm\n"
     ]
    }
   ],
   "source": [
    "fw.attack()"
   ]
  },
  {
   "cell_type": "code",
   "execution_count": 22,
   "metadata": {},
   "outputs": [
    {
     "name": "stdout",
     "output_type": "stream",
     "text": [
      "slow~~\n",
      "fast!!!\n"
     ]
    }
   ],
   "source": [
    "sw.attack()"
   ]
  },
  {
   "cell_type": "code",
   "execution_count": 23,
   "metadata": {},
   "outputs": [],
   "source": [
    "class GunArm(IArm):\n",
    "    def attack(self):\n",
    "        print('du du du du')"
   ]
  },
  {
   "cell_type": "code",
   "execution_count": 24,
   "metadata": {},
   "outputs": [
    {
     "name": "stdout",
     "output_type": "stream",
     "text": [
      "slow~~\n",
      "fast!!!\n",
      "du du du du\n"
     ]
    }
   ],
   "source": [
    "ga = GunArm()\n",
    "sw.add(ga)\n",
    "sw.attack()"
   ]
  },
  {
   "cell_type": "code",
   "execution_count": 28,
   "metadata": {},
   "outputs": [],
   "source": [
    "class ICassetteTape:\n",
    "    def get_data(self):\n",
    "        pass"
   ]
  },
  {
   "cell_type": "code",
   "execution_count": 34,
   "metadata": {},
   "outputs": [],
   "source": [
    "class MusicCassetteTape(ICassetteTape):\n",
    "    def get_data(self):\n",
    "        print('type song')"
   ]
  },
  {
   "cell_type": "code",
   "execution_count": 35,
   "metadata": {},
   "outputs": [],
   "source": [
    "class CassetteTapeDrive:\n",
    "    def insert(self, ICassetteTape):\n",
    "        self.drive = ICassetteTape\n",
    "        \n",
    "    def play(self):\n",
    "        self.drive.get_data()"
   ]
  },
  {
   "cell_type": "code",
   "execution_count": 36,
   "metadata": {},
   "outputs": [
    {
     "name": "stdout",
     "output_type": "stream",
     "text": [
      "type song\n"
     ]
    }
   ],
   "source": [
    "drive = CassetteTapeDrive()\n",
    "ct = MusicCassetteTape()\n",
    "drive.insert(ct)\n",
    "drive.play()"
   ]
  },
  {
   "cell_type": "code",
   "execution_count": 42,
   "metadata": {},
   "outputs": [],
   "source": [
    "class IJack:\n",
    "    def get_sound(self):\n",
    "        pass\n",
    "    \n",
    "class Phone(IJack):\n",
    "    def get_sound(self):\n",
    "        print('mp3 song')"
   ]
  },
  {
   "cell_type": "code",
   "execution_count": 44,
   "metadata": {},
   "outputs": [
    {
     "ename": "AttributeError",
     "evalue": "Phone instance has no attribute 'get_data'",
     "output_type": "error",
     "traceback": [
      "\u001b[0;31m---------------------------------------------------------------------------\u001b[0m",
      "\u001b[0;31mAttributeError\u001b[0m                            Traceback (most recent call last)",
      "\u001b[0;32m<ipython-input-44-1883e5cc2eed>\u001b[0m in \u001b[0;36m<module>\u001b[0;34m()\u001b[0m\n\u001b[1;32m      2\u001b[0m \u001b[0mphone\u001b[0m \u001b[0;34m=\u001b[0m \u001b[0mPhone\u001b[0m\u001b[0;34m(\u001b[0m\u001b[0;34m)\u001b[0m\u001b[0;34m\u001b[0m\u001b[0m\n\u001b[1;32m      3\u001b[0m \u001b[0mdrive\u001b[0m\u001b[0;34m.\u001b[0m\u001b[0minsert\u001b[0m\u001b[0;34m(\u001b[0m\u001b[0mphone\u001b[0m\u001b[0;34m)\u001b[0m\u001b[0;34m\u001b[0m\u001b[0m\n\u001b[0;32m----> 4\u001b[0;31m \u001b[0mdrive\u001b[0m\u001b[0;34m.\u001b[0m\u001b[0mplay\u001b[0m\u001b[0;34m(\u001b[0m\u001b[0;34m)\u001b[0m\u001b[0;34m\u001b[0m\u001b[0m\n\u001b[0m",
      "\u001b[0;32m<ipython-input-35-249cdea9f252>\u001b[0m in \u001b[0;36mplay\u001b[0;34m(self)\u001b[0m\n\u001b[1;32m      4\u001b[0m \u001b[0;34m\u001b[0m\u001b[0m\n\u001b[1;32m      5\u001b[0m     \u001b[0;32mdef\u001b[0m \u001b[0mplay\u001b[0m\u001b[0;34m(\u001b[0m\u001b[0mself\u001b[0m\u001b[0;34m)\u001b[0m\u001b[0;34m:\u001b[0m\u001b[0;34m\u001b[0m\u001b[0m\n\u001b[0;32m----> 6\u001b[0;31m         \u001b[0mself\u001b[0m\u001b[0;34m.\u001b[0m\u001b[0mdrive\u001b[0m\u001b[0;34m.\u001b[0m\u001b[0mget_data\u001b[0m\u001b[0;34m(\u001b[0m\u001b[0;34m)\u001b[0m\u001b[0;34m\u001b[0m\u001b[0m\n\u001b[0m",
      "\u001b[0;31mAttributeError\u001b[0m: Phone instance has no attribute 'get_data'"
     ]
    }
   ],
   "source": [
    "drive = CassetteTapeDrive()\n",
    "phone = Phone()\n",
    "drive.insert(phone)\n",
    "drive.play()"
   ]
  },
  {
   "cell_type": "code",
   "execution_count": 43,
   "metadata": {},
   "outputs": [],
   "source": [
    "class CarPack(ICassetteTape):\n",
    "\n",
    "    def connect_jack(self, IJack):\n",
    "        self.jack = IJack\n",
    "        \n",
    "    def get_data(self):\n",
    "        self.jack.get_sound()"
   ]
  },
  {
   "cell_type": "code",
   "execution_count": 45,
   "metadata": {},
   "outputs": [
    {
     "name": "stdout",
     "output_type": "stream",
     "text": [
      "mp3 song\n"
     ]
    }
   ],
   "source": [
    "drive = CassetteTapeDrive()\n",
    "\n",
    "phone = Phone()\n",
    "car_pack = CarPack()\n",
    "car_pack.connect_jack(phone)\n",
    "\n",
    "drive.insert(car_pack)\n",
    "drive.play()"
   ]
  },
  {
   "cell_type": "code",
   "execution_count": 36,
   "metadata": {},
   "outputs": [],
   "source": [
    "class IUSB:\n",
    "    def poweron(self):\n",
    "        pass"
   ]
  },
  {
   "cell_type": "code",
   "execution_count": 37,
   "metadata": {},
   "outputs": [],
   "source": [
    "class USBBattery:\n",
    "    def connect(self, IUSB):\n",
    "        IUSB.poweron()"
   ]
  },
  {
   "cell_type": "code",
   "execution_count": 38,
   "metadata": {},
   "outputs": [],
   "source": [
    "class FAN(IUSB):\n",
    "    def poweron(self):\n",
    "        print('wing~~')"
   ]
  },
  {
   "cell_type": "code",
   "execution_count": 39,
   "metadata": {},
   "outputs": [
    {
     "name": "stdout",
     "output_type": "stream",
     "text": [
      "wing~~\n"
     ]
    }
   ],
   "source": [
    "ub = USBBattery()\n",
    "\n",
    "f = FAN()\n",
    "ub.connect(f)"
   ]
  },
  {
   "cell_type": "code",
   "execution_count": 40,
   "metadata": {},
   "outputs": [],
   "source": [
    "class LED(IUSB):\n",
    "    def poweron(self):\n",
    "        print('******')"
   ]
  },
  {
   "cell_type": "code",
   "execution_count": 41,
   "metadata": {},
   "outputs": [
    {
     "name": "stdout",
     "output_type": "stream",
     "text": [
      "******\n"
     ]
    }
   ],
   "source": [
    "ub = USBBattery()\n",
    "\n",
    "l = LED()\n",
    "ub.connect(l)"
   ]
  },
  {
   "cell_type": "code",
   "execution_count": 44,
   "metadata": {},
   "outputs": [],
   "source": [
    "class Cup(IUSB):\n",
    "    def poweron(self):\n",
    "        print('warm')"
   ]
  },
  {
   "cell_type": "code",
   "execution_count": 46,
   "metadata": {},
   "outputs": [
    {
     "name": "stdout",
     "output_type": "stream",
     "text": [
      "warm\n"
     ]
    }
   ],
   "source": [
    "ub = USBBattery()\n",
    "\n",
    "c = Cup()\n",
    "ub.connect(c)"
   ]
  },
  {
   "cell_type": "code",
   "execution_count": 49,
   "metadata": {},
   "outputs": [],
   "source": [
    "class Phone(IUSB):\n",
    "    def poweron(self):\n",
    "        print('charging...')"
   ]
  },
  {
   "cell_type": "code",
   "execution_count": 50,
   "metadata": {},
   "outputs": [
    {
     "name": "stdout",
     "output_type": "stream",
     "text": [
      "charging...\n"
     ]
    }
   ],
   "source": [
    "ub = USBBattery()\n",
    "\n",
    "p = Phone()\n",
    "ub.connect(p)"
   ]
  },
  {
   "cell_type": "code",
   "execution_count": 34,
   "metadata": {},
   "outputs": [],
   "source": [
    "class USBhub(IUSB):\n",
    "    \n",
    "    def __init__(self):\n",
    "        self.ports = []\n",
    "        \n",
    "    def add(self, IUSB):\n",
    "        self.ports.append(IUSB)\n",
    "    \n",
    "    def poweron(self):\n",
    "        for item in self.ports:\n",
    "            item.poweron()"
   ]
  },
  {
   "cell_type": "code",
   "execution_count": 51,
   "metadata": {},
   "outputs": [
    {
     "name": "stdout",
     "output_type": "stream",
     "text": [
      "wing~~\n",
      "******\n",
      "warm\n",
      "charging...\n"
     ]
    }
   ],
   "source": [
    "hub = USBhub()\n",
    "hub.add(f)\n",
    "hub.add(l)\n",
    "hub.add(c)\n",
    "hub.add(p)\n",
    "\n",
    "ub.connect(hub)"
   ]
  },
  {
   "cell_type": "code",
   "execution_count": null,
   "metadata": {},
   "outputs": [],
   "source": []
  },
  {
   "cell_type": "code",
   "execution_count": null,
   "metadata": {},
   "outputs": [],
   "source": []
  }
 ],
 "metadata": {
  "kernelspec": {
   "display_name": "Python 2",
   "language": "python",
   "name": "python2"
  },
  "language_info": {
   "codemirror_mode": {
    "name": "ipython",
    "version": 2
   },
   "file_extension": ".py",
   "mimetype": "text/x-python",
   "name": "python",
   "nbconvert_exporter": "python",
   "pygments_lexer": "ipython2",
   "version": "2.7.13"
  }
 },
 "nbformat": 4,
 "nbformat_minor": 2
}

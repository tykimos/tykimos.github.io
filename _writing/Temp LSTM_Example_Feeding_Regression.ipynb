{
 "cells": [
  {
   "cell_type": "markdown",
   "metadata": {},
   "source": [
    "0 0~6\n",
    "1 6~12\n",
    "2 12~18\n",
    "3 18~24\n",
    "\n",
    "시간대, 분, 수유량\n",
    "0, 100, 50\n",
    "1, 200, 30\n",
    "2, 100, 30"
   ]
  },
  {
   "cell_type": "code",
   "execution_count": 54,
   "metadata": {
    "collapsed": true
   },
   "outputs": [],
   "source": [
    "param_window_size = 6\n",
    "param_seq_length = 287\n",
    "param_num_epoch = 10\n",
    "param_lstm_units = 64\n",
    "param_lstm_stack = 2\n",
    "\n",
    "num_sample = param_seq_length - param_window_size"
   ]
  },
  {
   "cell_type": "code",
   "execution_count": 55,
   "metadata": {
    "collapsed": false
   },
   "outputs": [],
   "source": [
    "import numpy as np\n",
    "import os\n",
    "import pandas\n",
    "import theano\n",
    "\n",
    "from keras.models import Sequential\n",
    "from keras.layers import Dense, LSTM, Dropout\n",
    "from sklearn.preprocessing import MinMaxScaler\n",
    "\n",
    "import matplotlib.pyplot as plt\n",
    "import matplotlib.animation as animation\n",
    "\n",
    "%matplotlib inline"
   ]
  },
  {
   "cell_type": "code",
   "execution_count": 56,
   "metadata": {
    "collapsed": true
   },
   "outputs": [],
   "source": [
    "# convert an array of values into a dataset matrix\n",
    "def create_dataset(dataset, look_back=1):\n",
    "    dataX, dataY = [], []\n",
    "    for i in range(len(dataset)-look_back):\n",
    "        dataX.append(dataset[i:(i+look_back)])\n",
    "        dataY.append(dataset[i + look_back])\n",
    "    return np.array(dataX), np.array(dataY)\n",
    "\n",
    "def diff_dataset(dataset):\n",
    "    diff = np.zeros((dataset.shape[0]-1, 1))\n",
    "    for i in range(dataset.shape[0]-1):\n",
    "        diff[i] = dataset[i,0]-dataset[i+1,0]\n",
    "    return diff\n",
    "\n",
    "def reverse_diff_dataset(diff, init_value):\n",
    "    reverse = np.zeros((diff.shape[0]+1, 1))\n",
    "    reverse[0] = init_value\n",
    "    for i in range(diff.shape[0]):\n",
    "        reverse[i+1] = reverse[i] - diff[i]    \n",
    "    return reverse"
   ]
  },
  {
   "cell_type": "code",
   "execution_count": 57,
   "metadata": {
    "collapsed": false
   },
   "outputs": [],
   "source": [
    "dataset_file_path = './warehouse/feeding.csv'\n",
    "df = pandas.read_csv(dataset_file_path, header=None)"
   ]
  },
  {
   "cell_type": "code",
   "execution_count": 58,
   "metadata": {
    "collapsed": true
   },
   "outputs": [],
   "source": [
    "ds_org = df.values\n",
    "ds_org = ds_org.astype('float32')\n",
    "\n",
    "dataset = ds_org"
   ]
  },
  {
   "cell_type": "code",
   "execution_count": 59,
   "metadata": {
    "collapsed": false
   },
   "outputs": [],
   "source": [
    "scaler = MinMaxScaler(feature_range=(0, 1))\n",
    "dataset = scaler.fit_transform(dataset)\n",
    "\n",
    "# split into train and test sets\n",
    "train_size = int(len(dataset) * 0.67)\n",
    "test_size = len(dataset) - train_size\n",
    "train, test = dataset[0:train_size,:], dataset[train_size:len(dataset),:]\n",
    "\n",
    "trainX, trainY = create_dataset(train, param_window_size)\n",
    "testX, testY = create_dataset(test, param_window_size)\n",
    "\n",
    "trainX = np.reshape(trainX, (trainX.shape[0], trainX.shape[1], 2))\n",
    "testX = np.reshape(testX, (testX.shape[0], testX.shape[1], 2))"
   ]
  },
  {
   "cell_type": "code",
   "execution_count": 60,
   "metadata": {
    "collapsed": false
   },
   "outputs": [
    {
     "data": {
      "text/plain": [
       "16"
      ]
     },
     "execution_count": 60,
     "metadata": {},
     "output_type": "execute_result"
    }
   ],
   "source": [
    "test_size"
   ]
  },
  {
   "cell_type": "code",
   "execution_count": 62,
   "metadata": {
    "collapsed": false
   },
   "outputs": [
    {
     "name": "stdout",
     "output_type": "stream",
     "text": [
      "CPU times: user 938 ms, sys: 33.5 ms, total: 972 ms\n",
      "Wall time: 965 ms\n"
     ]
    }
   ],
   "source": [
    "%%time\n",
    "\n",
    "theano.config.compute_test_value = \"ignore\"\n",
    "\n",
    "model = Sequential()\n",
    "for i in range(param_lstm_stack):\n",
    "    model.add(LSTM(param_lstm_units, batch_input_shape=(1, param_window_size, 2), stateful=True, return_sequences=True))\n",
    "    model.add(Dropout(0.3))\n",
    "model.add(LSTM(param_lstm_units, batch_input_shape=(1, param_window_size, 2), stateful=True))\n",
    "model.add(Dropout(0.3))\n",
    "model.add(Dense(2))\n",
    "\n",
    "model.compile(loss='mean_squared_error', optimizer='adam')"
   ]
  },
  {
   "cell_type": "code",
   "execution_count": 63,
   "metadata": {
    "collapsed": false
   },
   "outputs": [
    {
     "name": "stdout",
     "output_type": "stream",
     "text": [
      "epochs : 0\n",
      "Epoch 1/1\n",
      "0s - loss: 0.1592\n",
      "epochs : 1\n",
      "Epoch 1/1\n",
      "0s - loss: 0.0449\n",
      "epochs : 2\n",
      "Epoch 1/1\n",
      "0s - loss: 0.0338\n",
      "epochs : 3\n",
      "Epoch 1/1\n",
      "0s - loss: 0.0265\n",
      "epochs : 4\n",
      "Epoch 1/1\n",
      "0s - loss: 0.0222\n",
      "epochs : 5\n",
      "Epoch 1/1\n",
      "0s - loss: 0.0207\n",
      "epochs : 6\n",
      "Epoch 1/1\n",
      "0s - loss: 0.0178\n",
      "epochs : 7\n",
      "Epoch 1/1\n",
      "0s - loss: 0.0196\n",
      "epochs : 8\n",
      "Epoch 1/1\n",
      "0s - loss: 0.0163\n",
      "epochs : 9\n",
      "Epoch 1/1\n",
      "0s - loss: 0.0189\n"
     ]
    }
   ],
   "source": [
    "for epoch_idx in range(param_num_epoch):\n",
    "    print ('epochs : ' + str(epoch_idx) )\n",
    "    model.fit(trainX, trainY, epochs=1, batch_size=1, verbose=2, shuffle=False)\n",
    "    model.reset_states()"
   ]
  },
  {
   "cell_type": "code",
   "execution_count": 64,
   "metadata": {
    "collapsed": false
   },
   "outputs": [
    {
     "name": "stdout",
     "output_type": "stream",
     "text": [
      "('Test Score: ', 0.0080457720672711727)\n"
     ]
    }
   ],
   "source": [
    "testScore = model.evaluate(testX, testY, batch_size=1, verbose=0)\n",
    "print('Test Score: ', testScore)\n",
    "\n",
    "model.reset_states()"
   ]
  },
  {
   "cell_type": "code",
   "execution_count": 69,
   "metadata": {
    "collapsed": false
   },
   "outputs": [
    {
     "data": {
      "text/plain": [
       "array([[ 0.,  0.],\n",
       "       [ 0.,  0.],\n",
       "       [ 0.,  0.],\n",
       "       [ 0.,  0.],\n",
       "       [ 0.,  0.],\n",
       "       [ 0.,  0.],\n",
       "       [ 0.,  0.],\n",
       "       [ 0.,  0.],\n",
       "       [ 0.,  0.],\n",
       "       [ 0.,  0.],\n",
       "       [ 0.,  0.],\n",
       "       [ 0.,  0.],\n",
       "       [ 0.,  0.],\n",
       "       [ 0.,  0.],\n",
       "       [ 0.,  0.],\n",
       "       [ 0.,  0.]])"
      ]
     },
     "execution_count": 69,
     "metadata": {},
     "output_type": "execute_result"
    }
   ],
   "source": [
    "predictions = np.zeros((look_ahead,2))\n",
    "predictions"
   ]
  },
  {
   "cell_type": "code",
   "execution_count": 70,
   "metadata": {
    "collapsed": false
   },
   "outputs": [],
   "source": [
    "look_ahead = test_size\n",
    "trainPredict = [np.vstack([trainX[-1][1:], trainY[-1]])]\n",
    "predictions = np.zeros((look_ahead,2))\n",
    "\n",
    "for i in range(look_ahead):\n",
    "    prediction = model.predict(np.array([trainPredict[-1]]), batch_size=1)\n",
    "    predictions[i] = prediction\n",
    "    trainPredict.append(np.vstack([trainPredict[-1][1:],prediction]))"
   ]
  },
  {
   "cell_type": "code",
   "execution_count": 71,
   "metadata": {
    "collapsed": false
   },
   "outputs": [
    {
     "data": {
      "text/plain": [
       "array([[ 0.95775187, -0.06730338],\n",
       "       [ 0.96825385, -0.06781343],\n",
       "       [ 0.96756935, -0.06808294],\n",
       "       [ 0.96363163, -0.06806617],\n",
       "       [ 0.95933211, -0.06791537],\n",
       "       [ 0.9551028 , -0.06772245],\n",
       "       [ 0.95101666, -0.06751484],\n",
       "       [ 0.94950151, -0.06736867],\n",
       "       [ 0.94860983, -0.06727738],\n",
       "       [ 0.9477663 , -0.06721059],\n",
       "       [ 0.94703758, -0.06715523],\n",
       "       [ 0.94647312, -0.06711019],\n",
       "       [ 0.94607353, -0.06707608],\n",
       "       [ 0.94582582, -0.06705294],\n",
       "       [ 0.94565439, -0.06703744],\n",
       "       [ 0.94552088, -0.06702615]])"
      ]
     },
     "execution_count": 71,
     "metadata": {},
     "output_type": "execute_result"
    }
   ],
   "source": [
    "predictions"
   ]
  },
  {
   "cell_type": "code",
   "execution_count": 72,
   "metadata": {
    "collapsed": false
   },
   "outputs": [
    {
     "data": {
      "image/png": "[encoded data removed]",
      "text/plain": [
       "<matplotlib.figure.Figure at 0x10ef8e590>"
      ]
     },
     "metadata": {},
     "output_type": "display_data"
    }
   ],
   "source": [
    "plt.figure(figsize=(12,5))\n",
    "# plt.plot(np.arange(len(trainX)),np.squeeze(trainX))\n",
    "# plt.plot(np.arange(200),scaler.inverse_transform(np.squeeze(trainPredict)[:,None][1:]))\n",
    "# plt.plot(np.arange(200),scaler.inverse_transform(np.squeeze(testY)[:,None][:200]),'r')\n",
    "plt.plot(np.arange(look_ahead),predictions[:,0],'r',label=\"prediction\")\n",
    "plt.plot(np.arange(look_ahead),dataset[train_size:(train_size+look_ahead),0],label=\"test function\")\n",
    "plt.legend()\n",
    "plt.show()"
   ]
  },
  {
   "cell_type": "code",
   "execution_count": 68,
   "metadata": {
    "collapsed": false
   },
   "outputs": [
    {
     "data": {
      "image/png": "[encoded data removed]",
      "text/plain": [
       "<matplotlib.figure.Figure at 0x10ef8cdd0>"
      ]
     },
     "metadata": {},
     "output_type": "display_data"
    }
   ],
   "source": [
    "plt.figure(figsize=(12,5))\n",
    "# plt.plot(np.arange(len(trainX)),np.squeeze(trainX))\n",
    "# plt.plot(np.arange(200),scaler.inverse_transform(np.squeeze(trainPredict)[:,None][1:]))\n",
    "# plt.plot(np.arange(200),scaler.inverse_transform(np.squeeze(testY)[:,None][:200]),'r')\n",
    "plt.plot(np.arange(look_ahead),predictions[:,1],'r',label=\"prediction\")\n",
    "plt.plot(np.arange(look_ahead),dataset[train_size:(train_size+look_ahead),1],label=\"test function\")\n",
    "plt.legend()\n",
    "plt.show()"
   ]
  },
  {
   "cell_type": "code",
   "execution_count": null,
   "metadata": {
    "collapsed": true
   },
   "outputs": [],
   "source": []
  }
 ],
 "metadata": {
  "kernelspec": {
   "display_name": "Python 2",
   "language": "python",
   "name": "python2"
  },
  "language_info": {
   "codemirror_mode": {
    "name": "ipython",
    "version": 2
   },
   "file_extension": ".py",
   "mimetype": "text/x-python",
   "name": "python",
   "nbconvert_exporter": "python",
   "pygments_lexer": "ipython2",
   "version": "2.7.13"
  }
 },
 "nbformat": 4,
 "nbformat_minor": 0
}

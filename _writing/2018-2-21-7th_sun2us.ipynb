{
 "cells": [
  {
   "cell_type": "raw",
   "metadata": {},
   "source": [
    "---\n",
    "layout: post\n",
    "title:  \"[세미나] 김태영님, 딥러닝 소개 (제7회 태양/우주환경을 연구하는 젊은 과학자 워크숍)\"\n",
    "author: 김태영\n",
    "date:   2018-02-21 00:00:00\n",
    "categories: seminar\n",
    "comments: true\n",
    "image: http://tykimos.github.io/warehouse/2018-2-21-7th_sun2us_title.png\n",
    "---"
   ]
  },
  {
   "cell_type": "markdown",
   "metadata": {},
   "source": [
    "제7회 태양/우주환경을 연구하는 젊은 과학자 워크숍(http://sun2us.net/)은 태양 및 우주환경을 연구하는 젊은 과학자들이 연구 역량 강화 및 연구 교류를 목적으로 자발적으로 준비하고 참여하는 행사입니다. 이 행사의 둘째날 딥러닝 소개 세미나 내용을 공유하고자 합니다.\n",
    "\n",
    "![img](http://tykimos.github.io/warehouse/2018-2-21-7th_sun2us_title.png)"
   ]
  },
  {
   "cell_type": "markdown",
   "metadata": {},
   "source": [
    "---\n",
    "\n",
    "### 발표자료\n",
    "\n",
    "발표자료는 아래 링크에서 확인할 수 있습니다.\n",
    "\n",
    "https://docs.google.com/presentation/d/1-U2z48MEGh5772WLR7M_HcHMEQSKf6b7K7WKlTDk3y4/edit?usp=sharing"
   ]
  },
  {
   "cell_type": "markdown",
   "metadata": {
    "collapsed": true
   },
   "source": [
    "---\n",
    "\n",
    "### 같이 보기\n",
    "\n",
    "* [다른 세미나 보기](https://tykimos.github.io/seminar/)\n",
    "* [케라스 기초강좌](https://tykimos.github.io/lecture/)"
   ]
  }
 ],
 "metadata": {
  "kernelspec": {
   "display_name": "Python 2",
   "language": "python",
   "name": "python2"
  },
  "language_info": {
   "codemirror_mode": {
    "name": "ipython",
    "version": 2
   },
   "file_extension": ".py",
   "mimetype": "text/x-python",
   "name": "python",
   "nbconvert_exporter": "python",
   "pygments_lexer": "ipython2",
   "version": "2.7.13"
  }
 },
 "nbformat": 4,
 "nbformat_minor": 1
}

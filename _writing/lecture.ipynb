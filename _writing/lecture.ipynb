{
 "cells": [
  {
   "cell_type": "raw",
   "metadata": {},
   "source": [
    "---\n",
    "layout: post\n",
    "title:  \"케라스 강좌 내용\"\n",
    "author: Taeyoung, Kim\n",
    "date:   2017-01-27 00:00:00\n",
    "categories: Lecture\n",
    "comments: true\n",
    "---"
   ]
  },
  {
   "cell_type": "markdown",
   "metadata": {
    "collapsed": false
   },
   "source": [
    "케라스로 배워보는 딥러닝 강좌를 아래 내용를 아래 순서대로 진행하고자 합니다.\n",
    "\n",
    "1. 딥러닝 이야기\n",
    "    * [케라스 이야기](https://tykimos.github.io/2017/01/27/Keras_Talk/)\n",
    "    * [학습과정과 데이터셋 이야기](https://tykimos.github.io/2017/03/25/Dataset_and_Fit_Talk/)\n",
    "    * [평가 이야기](https://tykimos.github.io/2017/05/22/Evaluation_Talk/)\n",
    "    * [오프라인 설치](https://tykimos.github.io/2017/03/15/Keras_Offline_Install/)\n",
    "1. 딥러닝 모델 이야기\n",
    "    * [다층 퍼셉트론 레이어 이야기](https://tykimos.github.io/2017/01/27/MLP_Layer_Talk/)\n",
    "    * [다층 퍼셉트론 모델 만들어보기](https://tykimos.github.io/2017/02/04/MLP_Getting_Started/)\n",
    "    * [컨볼루션 신경망 레이어 이야기](https://tykimos.github.io/2017/01/27/CNN_Layer_Talk/)\n",
    "    * [컨볼루션 신경망 모델 만들어보기](https://tykimos.github.io/2017/03/08/CNN_Getting_Started/)\n",
    "    * [순환 신경망 레이어 이야기]    \n",
    "    * [순환 신경망 모델 만들어보기]\n",
    "1. 딥러닝 성능 높히기\n",
    "    * [TensorBoard 사용해보기]\n",
    "    * [데이터 증강(data agumentation) 사용해보기] \n",
    "    * [드롭아웃 레이어 사용해보기]\n",
    "    * [최적 모델 선택하는 법]\n",
    "    * [경사하강법과 미니배치]\n",
    "    * [과적합 줄이는 법]\n",
    "1. 딥러닝 분류 해보기\n",
    "    * [이진 분류 해보기-MLP]\n",
    "    * [다중 분류 해보기-MLP]\n",
    "    * [영상 인식 해보기-CNN]\n",
    "    * [감성 분석 해보기-MLP]\n",
    "    * [감성 분석 해보기-CNN]    \n",
    "1. 딥러닝 회귀 해보기\n",
    "    * [회귀 해보기-MLP]\n",
    "    * [시계열 예측 해보기-MLP]\n",
    "    * [시계열 예측 해보기-RNN]\n",
    "1. 딥러닝 영상처리 해보기\n",
    "    * [딥러닝으로 객체 검출 해보기]\n",
    "    * [딥러닝으로 객체 분할 해보기]    \n",
    "1. 딥러닝 생성 모델 해보기\n",
    "    * [오토인코더 모델 만들어보기]    \n",
    "    * [Variational Autoencoder (VAE) 해보기]\n",
    "    * [Generative Adversarial Network (GAN) 해보기]   \n",
    "1. 딥러닝 아트 해보기\n",
    "    * [딥러닝으로 소설쓰기]\n",
    "    * [딥러닝으로 꿈꾸기]\n",
    "    * [딥러닝으로 그림그리기]\n",
    "    * [딥러닝으로 화풍바꾸기]"
   ]
  },
  {
   "cell_type": "markdown",
   "metadata": {
    "collapsed": true
   },
   "source": [
    "---\n",
    "\n",
    "### 같이 보기\n",
    "\n",
    "* 다음 : [딥러닝 이야기/케라스 이야기](https://tykimos.github.io/2017/01/27/Keras_Talk/)"
   ]
  }
 ],
 "metadata": {
  "kernelspec": {
   "display_name": "Python 2",
   "language": "python",
   "name": "python2"
  },
  "language_info": {
   "codemirror_mode": {
    "name": "ipython",
    "version": 2
   },
   "file_extension": ".py",
   "mimetype": "text/x-python",
   "name": "python",
   "nbconvert_exporter": "python",
   "pygments_lexer": "ipython2",
   "version": "2.7.10"
  }
 },
 "nbformat": 4,
 "nbformat_minor": 0
}

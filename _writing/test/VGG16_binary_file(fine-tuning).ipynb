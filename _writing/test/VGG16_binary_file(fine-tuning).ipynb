{
 "cells": [
  {
   "cell_type": "code",
   "execution_count": 39,
   "metadata": {
    "collapsed": false
   },
   "outputs": [],
   "source": [
    "#https://github.com/bradleypallen/keras-dogs-vs-cats/blob/master/keras-dogs-vs-cats-vgg16-transfer-fine-tuning.ipynb\n",
    "%matplotlib inline\n",
    "import os\n",
    "import numpy as np\n",
    "import pandas as pd\n",
    "import matplotlib.pyplot as plt\n",
    "import cv2\n",
    "from pathlib import Path\n",
    "from keras.utils import np_utils\n",
    "from keras.preprocessing.image import ImageDataGenerator\n",
    "from keras.models import Model\n",
    "from keras.layers import Input, Flatten, Dense, Dropout\n",
    "from keras.callbacks import Callback, ModelCheckpoint\n",
    "from keras.applications.vgg16 import VGG16\n",
    "from keras.preprocessing import image\n",
    "from keras.optimizers import SGD\n",
    "from keras.applications.vgg16 import preprocess_input"
   ]
  },
  {
   "cell_type": "code",
   "execution_count": 40,
   "metadata": {
    "collapsed": false
   },
   "outputs": [],
   "source": [
    "# IMG_WIDTH, IMG_HEIGHT = 150, 150\n",
    "IMG_WIDTH, IMG_HEIGHT = 64, 64 #tuberculosis\n",
    "IMG_CHANNEL = 1\n",
    "IMG_COUNT = 8262\n",
    "\n",
    "\n",
    "BATCH_SIZE = 2\n",
    "NUM_CLASSES = 2 \n",
    "NUM_EPOCHS = 50\n",
    "\n",
    "TRAIN_IMAGE_FILE_PATH = './dataset/train_image_64x64_gray_447648.bin'\n",
    "TRAIN_LABEL_FILE_PATH = './dataset/train_label_64x64_gray_447648.bin'\n",
    "TEST_IMAGE_FILE_PATH = './dataset/test_image_64x64_gray_15873.bin'\n",
    "TEST_LABEL_FILE_PATH = './dataset/test_label_64x64_gray_15873.bin'\n",
    "\n",
    "TRAIN_DATA_COUNT = 447648\n",
    "TEST_DATA_COUNT = 15873\n",
    "VALIDATION_DATA_COUNT = 89530\n",
    "TRAIN_SIZE = TRAIN_DATA_COUNT - VALIDATION_DATA_COUNT\n",
    "\n",
    "MODEL_WEIGHTS_FILE = 'vgg16-bin-xfer-tuned-weights.h5'"
   ]
  },
  {
   "cell_type": "code",
   "execution_count": 41,
   "metadata": {
    "collapsed": false
   },
   "outputs": [],
   "source": [
    "model_vgg16_conv = VGG16(weights='imagenet', include_top=False)"
   ]
  },
  {
   "cell_type": "code",
   "execution_count": 42,
   "metadata": {
    "collapsed": false
   },
   "outputs": [],
   "source": [
    "for layer in model_vgg16_conv.layers[:-4]:\n",
    "    layer.trainable = False"
   ]
  },
  {
   "cell_type": "code",
   "execution_count": 43,
   "metadata": {
    "collapsed": false
   },
   "outputs": [
    {
     "name": "stderr",
     "output_type": "stream",
     "text": [
      "C:\\Program Files\\Anaconda3\\lib\\site-packages\\ipykernel\\__main__.py:7: UserWarning: Update your `Model` call to the Keras 2 API: `Model(inputs=Tensor(\"in..., outputs=Tensor(\"de...)`\n"
     ]
    }
   ],
   "source": [
    "input = Input(shape=(IMG_WIDTH, IMG_HEIGHT, 3))\n",
    "x = model_vgg16_conv(input)\n",
    "x = Flatten()(x)\n",
    "x = Dense(64, activation='relu')(x)\n",
    "x = Dropout(0.5)(x)\n",
    "x = Dense(1, activation='sigmoid')(x)\n",
    "model = Model(input=input, output=x)"
   ]
  },
  {
   "cell_type": "code",
   "execution_count": 44,
   "metadata": {
    "collapsed": true
   },
   "outputs": [],
   "source": [
    "model.compile(loss='binary_crossentropy',\n",
    "        optimizer=SGD(lr=1e-4, momentum=0.9),\n",
    "        metrics=['accuracy'])"
   ]
  },
  {
   "cell_type": "code",
   "execution_count": 45,
   "metadata": {
    "collapsed": false
   },
   "outputs": [],
   "source": [
    "def load_image(filename, count, row, col, channel):\n",
    "    print('Loading data from', filename)\n",
    "\n",
    "    print('file size : ', os.path.getsize(filename))\n",
    "    print('calc size : ', count * row * col * channel)\n",
    "    \n",
    "    s = []\n",
    "    A = np.fromfile(filename, dtype='int8', sep=\"\")\n",
    "    for i in range(len(A)//4096):\n",
    "        vec = A[i*4096:4096*(i+1)]\n",
    "        img = vec.reshape([64, 64, 1])\n",
    "        s.append(img)\n",
    "    data = np.asarray(s)\n",
    "    print(data.shape)\n",
    "\n",
    "    return data\n",
    "\n",
    "def load_label(filename, count, classes):\n",
    "    print('Loading labels from ', filename)\n",
    "    \n",
    "    print('file size : ', os.path.getsize(filename))\n",
    "    print('calc size : ', count)\n",
    "    \n",
    "    fp = open(filename, 'r')\n",
    "    buf = fp.read(count)\n",
    "        \n",
    "    data_bin = []\n",
    "    for i in buf:\n",
    "        data_bin.append(i)\n",
    "    data = np.asarray(data_bin, dtype=np.uint8, order='C')\n",
    "    \n",
    "\n",
    "    print('loaded shape : ', data.shape)\n",
    "    \n",
    "    label_hist = np.histogram(data, bins=range(NUM_CLASSES+1))\n",
    "    print(label_hist)\n",
    "    \n",
    "    data = np_utils.to_categorical(data, classes)\n",
    "\n",
    "    return data_bin"
   ]
  },
  {
   "cell_type": "code",
   "execution_count": 46,
   "metadata": {
    "collapsed": false
   },
   "outputs": [
    {
     "name": "stdout",
     "output_type": "stream",
     "text": [
      "Loading data from ./dataset/train_image_64x64_gray_447648.bin\n",
      "file size :  1833566208\n",
      "calc size :  1833566208\n",
      "(447648, 64, 64, 1)\n",
      "Loading data from ./dataset/test_image_64x64_gray_15873.bin\n",
      "file size :  65015808\n",
      "calc size :  65015808\n",
      "(15873, 64, 64, 1)\n",
      "Loading labels from  ./dataset/train_label_64x64_gray_447648.bin\n",
      "file size :  447648\n",
      "calc size :  447648\n",
      "loaded shape :  (447648,)\n",
      "(array([354528,  93120], dtype=int64), array([0, 1, 2]))\n",
      "Loading labels from  ./dataset/test_label_64x64_gray_15873.bin\n",
      "file size :  15873\n",
      "calc size :  15873\n",
      "loaded shape :  (15873,)\n",
      "(array([15520,   353], dtype=int64), array([0, 1, 2]))\n"
     ]
    }
   ],
   "source": [
    "train_image = load_image(TRAIN_IMAGE_FILE_PATH, TRAIN_DATA_COUNT, IMG_WIDTH, IMG_HEIGHT, IMG_CHANNEL)\n",
    "test_image = load_image(TEST_IMAGE_FILE_PATH, TEST_DATA_COUNT, IMG_WIDTH, IMG_HEIGHT, IMG_CHANNEL)\n",
    "\n",
    "train_label = load_label(TRAIN_LABEL_FILE_PATH, TRAIN_DATA_COUNT, NUM_CLASSES)\n",
    "test_label = load_label(TEST_LABEL_FILE_PATH, TEST_DATA_COUNT, NUM_CLASSES)"
   ]
  },
  {
   "cell_type": "code",
   "execution_count": 47,
   "metadata": {
    "collapsed": false
   },
   "outputs": [
    {
     "name": "stdout",
     "output_type": "stream",
     "text": [
      "(447648, 64, 64, 3)\n"
     ]
    }
   ],
   "source": [
    "q=0\n",
    "train_image_dataset=[]\n",
    "train_img_array_path = cv2.imread(\"./dataset/images2.jpg\")\n",
    "train_img_array = np.zeros_like(train_img_array_path)\n",
    "\n",
    "for i in train_image[:]:\n",
    "    patch_image = i.reshape((IMG_WIDTH,IMG_HEIGHT))\n",
    "    patch_image = patch_image.astype(np.uint8)\n",
    "\n",
    "    train_img_array[:,:,0] = patch_image\n",
    "    train_img_array[:,:,1] = patch_image\n",
    "    train_img_array[:,:,2] = patch_image\n",
    "        \n",
    "    train_image_dataset.append(train_img_array)\n",
    "\n",
    "    q+=1\n",
    "    train_img_array = np.zeros_like(train_img_array_path)\n",
    "train_image_dataset = np.array(train_image_dataset)\n",
    "print(train_image_dataset.shape)"
   ]
  },
  {
   "cell_type": "code",
   "execution_count": 53,
   "metadata": {
    "collapsed": false
   },
   "outputs": [
    {
     "name": "stdout",
     "output_type": "stream",
     "text": [
      "(15873, 64, 64, 3)\n"
     ]
    }
   ],
   "source": [
    "q=0\n",
    "test_image_dataset=[]\n",
    "test_img_array_path = cv2.imread(\"./dataset/images2.jpg\")\n",
    "test_img_array = np.zeros_like(test_img_array_path)\n",
    "\n",
    "for i in test_image[:]:\n",
    "    patch_image = i.reshape((IMG_WIDTH,IMG_HEIGHT))\n",
    "    patch_image = patch_image.astype(np.uint8)\n",
    "\n",
    "    test_img_array[:,:,0] = patch_image\n",
    "    test_img_array[:,:,1] = patch_image\n",
    "    test_img_array[:,:,2] = patch_image\n",
    "        \n",
    "    test_image_dataset.append(test_img_array)\n",
    "#     cv2.imwrite('./testdataset/test'+str(q)+'.png', test_img_array)\n",
    "    q+=1\n",
    "    test_img_array = np.zeros_like(test_img_array_path)\n",
    "\n",
    "test_image_dataset = np.asarray(test_image_dataset)\n",
    "print(test_image_dataset.shape)"
   ]
  },
  {
   "cell_type": "code",
   "execution_count": 49,
   "metadata": {
    "collapsed": false,
    "scrolled": true
   },
   "outputs": [
    {
     "name": "stderr",
     "output_type": "stream",
     "text": [
      "C:\\Program Files\\Anaconda3\\lib\\site-packages\\keras-2.0.4-py3.5.egg\\keras\\backend\\tensorflow_backend.py:2289: UserWarning: Expected no kwargs, you passed 1\n",
      "kwargs passed to function are ignored with Tensorflow backend\n",
      "  warnings.warn('\\n'.join(msg))\n"
     ]
    },
    {
     "name": "stdout",
     "output_type": "stream",
     "text": [
      "Train on 358118 samples, validate on 89530 samples\n",
      "Epoch 1/50\n",
      "358118/358118 [==============================] - 279s - loss: 0.1673 - acc: 0.9317 - val_loss: 0.1364 - val_acc: 0.9412\n",
      "Epoch 2/50\n",
      "358118/358118 [==============================] - 278s - loss: 0.1429 - acc: 0.9405 - val_loss: 0.1360 - val_acc: 0.9423\n",
      "Epoch 3/50\n",
      "358118/358118 [==============================] - 278s - loss: 0.1377 - acc: 0.9420 - val_loss: 0.1296 - val_acc: 0.9439\n",
      "Epoch 4/50\n",
      "358118/358118 [==============================] - 278s - loss: 0.1343 - acc: 0.9433 - val_loss: 0.1293 - val_acc: 0.9448\n",
      "Epoch 5/50\n",
      "358118/358118 [==============================] - 278s - loss: 0.1312 - acc: 0.9444 - val_loss: 0.1262 - val_acc: 0.9456\n",
      "Epoch 6/50\n",
      "358118/358118 [==============================] - 278s - loss: 0.1294 - acc: 0.9453 - val_loss: 0.1298 - val_acc: 0.9427\n",
      "Epoch 7/50\n",
      "358118/358118 [==============================] - 279s - loss: 0.1276 - acc: 0.9460 - val_loss: 0.1231 - val_acc: 0.9467\n",
      "Epoch 8/50\n",
      "358118/358118 [==============================] - 279s - loss: 0.1263 - acc: 0.9468 - val_loss: 0.1238 - val_acc: 0.9462\n",
      "Epoch 9/50\n",
      "358118/358118 [==============================] - 278s - loss: 0.1246 - acc: 0.9472 - val_loss: 0.1258 - val_acc: 0.9448\n",
      "Epoch 10/50\n",
      "358118/358118 [==============================] - 278s - loss: 0.1238 - acc: 0.9480 - val_loss: 0.1203 - val_acc: 0.9484\n",
      "Epoch 11/50\n",
      "358118/358118 [==============================] - 277s - loss: 0.1221 - acc: 0.9486 - val_loss: 0.1192 - val_acc: 0.9485\n",
      "Epoch 12/50\n",
      "358118/358118 [==============================] - 277s - loss: 0.1210 - acc: 0.9491 - val_loss: 0.1198 - val_acc: 0.9487\n",
      "Epoch 13/50\n",
      "358118/358118 [==============================] - 277s - loss: 0.1198 - acc: 0.9494 - val_loss: 0.1181 - val_acc: 0.9496\n",
      "Epoch 14/50\n",
      "358118/358118 [==============================] - 276s - loss: 0.1192 - acc: 0.9498 - val_loss: 0.1199 - val_acc: 0.9489\n",
      "Epoch 15/50\n",
      "358118/358118 [==============================] - 275s - loss: 0.1181 - acc: 0.9499 - val_loss: 0.1164 - val_acc: 0.9495\n",
      "Epoch 16/50\n",
      "358118/358118 [==============================] - 275s - loss: 0.1172 - acc: 0.9507 - val_loss: 0.1154 - val_acc: 0.9497\n",
      "Epoch 17/50\n",
      "358118/358118 [==============================] - 276s - loss: 0.1158 - acc: 0.9509 - val_loss: 0.1155 - val_acc: 0.9501\n",
      "Epoch 18/50\n",
      "358118/358118 [==============================] - 277s - loss: 0.1156 - acc: 0.9516 - val_loss: 0.1176 - val_acc: 0.9492\n",
      "Epoch 19/50\n",
      "358118/358118 [==============================] - 279s - loss: 0.1142 - acc: 0.9518 - val_loss: 0.1143 - val_acc: 0.9508\n",
      "Epoch 20/50\n",
      "358118/358118 [==============================] - 276s - loss: 0.1135 - acc: 0.9521 - val_loss: 0.1134 - val_acc: 0.9518\n",
      "Epoch 21/50\n",
      "358118/358118 [==============================] - 276s - loss: 0.1127 - acc: 0.9524 - val_loss: 0.1160 - val_acc: 0.9512\n",
      "Epoch 22/50\n",
      "358118/358118 [==============================] - 276s - loss: 0.1118 - acc: 0.9529 - val_loss: 0.1144 - val_acc: 0.9505\n",
      "Epoch 23/50\n",
      "358118/358118 [==============================] - 276s - loss: 0.1107 - acc: 0.9532 - val_loss: 0.1126 - val_acc: 0.9512\n",
      "Epoch 24/50\n",
      "358118/358118 [==============================] - 276s - loss: 0.1098 - acc: 0.9533 - val_loss: 0.1112 - val_acc: 0.9525\n",
      "Epoch 25/50\n",
      "358118/358118 [==============================] - 276s - loss: 0.1089 - acc: 0.9537 - val_loss: 0.1118 - val_acc: 0.9521\n",
      "Epoch 26/50\n",
      "358118/358118 [==============================] - 276s - loss: 0.1085 - acc: 0.9541 - val_loss: 0.1098 - val_acc: 0.9530\n",
      "Epoch 27/50\n",
      "358118/358118 [==============================] - 276s - loss: 0.1078 - acc: 0.9543 - val_loss: 0.1086 - val_acc: 0.9527\n",
      "Epoch 28/50\n",
      "358118/358118 [==============================] - 276s - loss: 0.1067 - acc: 0.9548 - val_loss: 0.1129 - val_acc: 0.9505\n",
      "Epoch 29/50\n",
      "358118/358118 [==============================] - 276s - loss: 0.1061 - acc: 0.9549 - val_loss: 0.1104 - val_acc: 0.9523\n",
      "Epoch 30/50\n",
      "358118/358118 [==============================] - 276s - loss: 0.1052 - acc: 0.9555 - val_loss: 0.1105 - val_acc: 0.9520\n",
      "Epoch 31/50\n",
      "358118/358118 [==============================] - 276s - loss: 0.1046 - acc: 0.9557 - val_loss: 0.1081 - val_acc: 0.9533\n",
      "Epoch 32/50\n",
      "358118/358118 [==============================] - 276s - loss: 0.1041 - acc: 0.9558 - val_loss: 0.1106 - val_acc: 0.9533\n",
      "Epoch 33/50\n",
      "358118/358118 [==============================] - 276s - loss: 0.1032 - acc: 0.9561 - val_loss: 0.1095 - val_acc: 0.9523\n",
      "Epoch 34/50\n",
      "358118/358118 [==============================] - 276s - loss: 0.1020 - acc: 0.9565 - val_loss: 0.1063 - val_acc: 0.9549\n",
      "Epoch 35/50\n",
      "358118/358118 [==============================] - 277s - loss: 0.1020 - acc: 0.9568 - val_loss: 0.1103 - val_acc: 0.9518\n",
      "Epoch 36/50\n",
      "358118/358118 [==============================] - 277s - loss: 0.1010 - acc: 0.9571 - val_loss: 0.1121 - val_acc: 0.9519\n",
      "Epoch 37/50\n",
      "358118/358118 [==============================] - 277s - loss: 0.1005 - acc: 0.9571 - val_loss: 0.1050 - val_acc: 0.9551\n",
      "Epoch 38/50\n",
      "358118/358118 [==============================] - 276s - loss: 0.0995 - acc: 0.9576 - val_loss: 0.1085 - val_acc: 0.9532\n",
      "Epoch 39/50\n",
      "358118/358118 [==============================] - 276s - loss: 0.0989 - acc: 0.9579 - val_loss: 0.1068 - val_acc: 0.9547\n",
      "Epoch 40/50\n",
      "358118/358118 [==============================] - 276s - loss: 0.0984 - acc: 0.9581 - val_loss: 0.1105 - val_acc: 0.9515\n",
      "Epoch 41/50\n",
      "358118/358118 [==============================] - 277s - loss: 0.0970 - acc: 0.9583 - val_loss: 0.1043 - val_acc: 0.9553\n",
      "Epoch 42/50\n",
      "358118/358118 [==============================] - 276s - loss: 0.0970 - acc: 0.9589 - val_loss: 0.1072 - val_acc: 0.9542\n",
      "Epoch 43/50\n",
      "358118/358118 [==============================] - 276s - loss: 0.0962 - acc: 0.9587 - val_loss: 0.1014 - val_acc: 0.9565\n",
      "Epoch 44/50\n",
      "358118/358118 [==============================] - 276s - loss: 0.0950 - acc: 0.9593 - val_loss: 0.1029 - val_acc: 0.9554\n",
      "Epoch 45/50\n",
      "358118/358118 [==============================] - 276s - loss: 0.0949 - acc: 0.9595 - val_loss: 0.1050 - val_acc: 0.9546\n",
      "Epoch 46/50\n",
      "358118/358118 [==============================] - 276s - loss: 0.0939 - acc: 0.9596 - val_loss: 0.1029 - val_acc: 0.9556\n",
      "Epoch 47/50\n",
      "358118/358118 [==============================] - 276s - loss: 0.0936 - acc: 0.9597 - val_loss: 0.1024 - val_acc: 0.9564\n",
      "Epoch 48/50\n",
      "358118/358118 [==============================] - 276s - loss: 0.0926 - acc: 0.9605 - val_loss: 0.1034 - val_acc: 0.9548\n",
      "Epoch 49/50\n",
      "358118/358118 [==============================] - 276s - loss: 0.0926 - acc: 0.9606 - val_loss: 0.1043 - val_acc: 0.9544\n",
      "Epoch 50/50\n",
      "358118/358118 [==============================] - 276s - loss: 0.0916 - acc: 0.9608 - val_loss: 0.1031 - val_acc: 0.9558\n"
     ]
    },
    {
     "data": {
      "text/plain": [
       "<keras.callbacks.History at 0x3cc81ee748>"
      ]
     },
     "execution_count": 49,
     "metadata": {},
     "output_type": "execute_result"
    }
   ],
   "source": [
    "model.fit(train_image_dataset[:TRAIN_SIZE], \n",
    "          train_label[:TRAIN_SIZE], \n",
    "          batch_size = BATCH_SIZE, \n",
    "          epochs = NUM_EPOCHS,\n",
    "          verbose = 1, \n",
    "          validation_data = (train_image_dataset[TRAIN_SIZE:], train_label[TRAIN_SIZE:]))"
   ]
  },
  {
   "cell_type": "code",
   "execution_count": 54,
   "metadata": {
    "collapsed": false
   },
   "outputs": [
    {
     "name": "stdout",
     "output_type": "stream",
     "text": [
      "15872/15873 [============================>.] - ETA: 0sTest score: 0.070805704078\n",
      "Test accuracy: 0.981162981163\n"
     ]
    }
   ],
   "source": [
    "# 딥러닝 모델 테스트를 수행합니다.\n",
    "test_labels = [int(v) for v in test_label]\n",
    "\n",
    "score = model.evaluate(test_image_dataset, test_labels, verbose=1)\n",
    "\n",
    "print('Test score:', score[0])\n",
    "print('Test accuracy:', score[1])\n",
    "\n",
    "classes = model.predict(test_image_dataset, batch_size=1)\n",
    "\n",
    "np.savetxt('./tuberculosis_binaryfile_result4.txt', classes, fmt='%d')\n",
    "\n",
    "\n",
    "# p=[]\n",
    "# for i in classes:\n",
    "#     if(i[0]>i[1]):\n",
    "#         p.append(0)\n",
    "#     else:\n",
    "#         p.append(1)\n",
    "# np.savetxt('./tuberculosis_binaryfile_result2.txt', p, fmt='%d')"
   ]
  },
  {
   "cell_type": "code",
   "execution_count": 56,
   "metadata": {
    "collapsed": false
   },
   "outputs": [
    {
     "name": "stdout",
     "output_type": "stream",
     "text": [
      "TP =  8  FP =  2  TN =  15518  FN =  345\n",
      "민감도 = 0.0226628895184136 / 특이도 =  0.9998711340206186\n"
     ]
    }
   ],
   "source": [
    "TP_num = 0\n",
    "FP_num = 0\n",
    "TN_num = 0\n",
    "FN_num = 0\n",
    "\n",
    "TP_list = []\n",
    "FP_list = []\n",
    "TN_list = []\n",
    "FN_list = []\n",
    "# test_labels = np.array([0] * 372480 + [1] * 8472)\n",
    "\n",
    "classes = [int(v) for v in classes]\n",
    "for im in zip(test_image_dataset, classes, test_labels):\n",
    "    if im[1] != im[2] and im[1] == 1:\n",
    "        FP_list.append(im)\n",
    "        FP_num += 1\n",
    "    if im[1] != im[2] and im[1] == 0:\n",
    "        FN_list.append(im)\n",
    "        FN_num += 1\n",
    "    if im[1] == im[2] and im[1] == 1:\n",
    "        TP_list.append(im)\n",
    "        TP_num += 1\n",
    "    if im[1] == im[2] and im[1] == 0:\n",
    "        TN_list.append(im)\n",
    "        TN_num += 1\n",
    "\n",
    "print (\"TP = \", TP_num,  \" FP = \", FP_num, \" TN = \", TN_num, \" FN = \", FN_num)\n",
    "print(\"민감도 = \" + str(TP_num/353) + \" / 특이도 = \", TN_num/15520)"
   ]
  },
  {
   "cell_type": "code",
   "execution_count": 52,
   "metadata": {
    "collapsed": false
   },
   "outputs": [
    {
     "data": {
      "image/png": "[encoded data removed]",
      "text/plain": [
       "<matplotlib.figure.Figure at 0x3cc84cd5c0>"
      ]
     },
     "metadata": {},
     "output_type": "display_data"
    }
   ],
   "source": [
    "from sklearn.metrics import roc_curve, auc\n",
    "import matplotlib.pyplot as plt\n",
    "\n",
    "false_positive_rate_F, true_positive_rate_F, thresholds_F = roc_curve(test_labels, classes)\n",
    "roc_auc_F = auc(false_positive_rate_F, true_positive_rate_F)\n",
    "\n",
    "# print(roc_auc_F)\n",
    "\n",
    "plt.title('Receiver Operating Characteristic')\n",
    "plt.xlabel('False Positive Rate(1 - Specificity)')\n",
    "plt.ylabel('True Positive Rate(Sensitivity)')\n",
    "\n",
    "plt.plot(false_positive_rate_F, true_positive_rate_F, 'b', label='Model VGG16 (AUC = %0.2f)'% roc_auc_F)\n",
    "plt.plot([0,1],[1,1],'y--')\n",
    "plt.plot([0,1],[0,1],'r--')\n",
    "plt.legend(loc='lower right')\n",
    "plt.show()"
   ]
  }
 ],
 "metadata": {
  "anaconda-cloud": {},
  "kernelspec": {
   "display_name": "Python 2",
   "language": "python",
   "name": "python2"
  },
  "language_info": {
   "codemirror_mode": {
    "name": "ipython",
    "version": 2
   },
   "file_extension": ".py",
   "mimetype": "text/x-python",
   "name": "python",
   "nbconvert_exporter": "python",
   "pygments_lexer": "ipython2",
   "version": "2.7.10"
  }
 },
 "nbformat": 4,
 "nbformat_minor": 1
}

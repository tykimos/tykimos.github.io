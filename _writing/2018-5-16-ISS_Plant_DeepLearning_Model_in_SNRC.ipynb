{
 "cells": [
  {
   "cell_type": "raw",
   "metadata": {},
   "source": [
    "---\n",
    "layout: post\n",
    "title:  \"[ISS 세미나] 세종국책연구단지에 딥러닝 모델 심기\"\n",
    "author: 김태영\n",
    "date:   2018-05-16 14:00:00\n",
    "categories: seminar\n",
    "comments: true\n",
    "image: http://tykimos.github.io/warehouse/2018-5-16-ISS_Plant_DeepLearning_Model_in_SNRC_title1.png\n",
    "---"
   ]
  },
  {
   "cell_type": "markdown",
   "metadata": {},
   "source": [
    "이번 ISS에서는 \"(주)인스페이스\"와 \"국토연구원 국토정보연구본부 국토정보분석센터\" 공동 주최로 \"세종국책연구단지에 딥러닝 모델 심기\"란 주제를 가지고 세미나를 개최하고자 합니다. 딥러닝 기본 개념을 익히고 딥러닝 기반 모델을 쉽게 만들어볼 수 있는 ‘케라스’라는 딥러닝 라이브러리에 대해서 알아봅니다. 케라스 코드를 ‘블록’ 개념과 매칭하여 직관적으로 모델을 이해할 수 있는 방법에 대해 연습한 후 다양한 기초 문제를 살펴봅니다. 자율주행 분야에 딥러닝 모델이 어떻게 적용되는 지 알아보고, 다양한 분야에서 문제를 해결하는 데 있어 도움이 되는 캐글에 대해서도 알아봅니다.\n",
    "\n",
    "    ISS란 Intelligence Space Seminar의 약자로 인공지능 기술과 관련된 인스페이스의 사내 세미나를 말합니다. 어렵게 모신 전문가분들의 주옥같은 내용을 공유하고자 오픈 세미나로 진행하고 있습니다.\n",
    "    \n",
    "![img](http://tykimos.github.io/warehouse/2018-5-16-ISS_Plant_DeepLearning_Model_in_SNRC_title1.png)"
   ]
  },
  {
   "cell_type": "markdown",
   "metadata": {},
   "source": [
    "---\n",
    "### 발표자\n",
    "\n",
    "|구분|소개|\n",
    "|-|-|\n",
    "|![img](http://tykimos.github.io/warehouse/2018-3-19-ISS_Python_Deep_Learning_Keras_with_Blocks_tykimos.jpg)|김태영, (주)인스페이스 (기초 강좌)<br><br>[블록과 함께하는 파이썬 딥러닝 케라스]<br><br>비전공자분들이 쉽게 딥러닝 모델을 개발할 수 있도록 케라스 라이브러리 소개와 블록 비유를 통해 다양한 모델을 살펴보겠습니다.|\n",
    "|![img](http://tykimos.github.io/warehouse/2018-5-16-ISS_Plant_DeepLearning_Model_in_SNRC_lyh.jpg)|이유한 박사과정, 카이스트<br><br>[딥러닝심기 캐글소개]<br><br>캐글은 다양한 분야의 문제 및 데이터셋을 제공하고 해당 문제를 풀기 위한 알고리즘 온라인 경연 대회를 운영하는 곳입니다. 유사 문제를 확인하고, 도움을 얻을 수 있는 방법에 대해서 살펴봅니다.|\n",
    "|![img](http://tykimos.github.io/warehouse/2018-5-16-ISS_Plant_DeepLearning_Model_in_SNRC_kjt.jpg)|김준태, 대전대학교 전자정보통신공학과 4학년 재학중<br><br>[GTA5로 자율주행하기]<br><br>MNIST까지는 해봤다!! 이제 무엇을 해봐야 할까? 그런데 나만의 데이터를 어떻게 만들지? 나만의 데이터를 만들어보고 GTA5로 자율주행을 해보자!!|\n",
    "|![img](http://tykimos.github.io/warehouse/2018-5-16-ISS_Plant_DeepLearning_Model_in_SNRC_kbk.jpg)|곽병권 이사, NGLE<br><br>[Keras 시계열 모델 튜토리얼]<br><br>NGLE이라는 QA 전문회사에서 QA-Test 자동화에 인공지능 적용을 연구 중 이며, Keras로 구현해보는 시계열 데이터 예측 구현, 지역 기상정보를 이용한 기온, 풍량, 기압 예측하는 방법에 대해서 살펴봅니다.|"
   ]
  },
  {
   "cell_type": "markdown",
   "metadata": {},
   "source": [
    "---\n",
    "### 프로그램\n",
    "\n",
    "* 일시: 2018년 5월 16일 오후 2시 ~ 오후 6시\n",
    "* 장소: 국토연구원 2층 강당 (세종특별자치시 국책연구원로 5/반곡동 771-125)\n",
    "* 참석인원: 최대 200명 수용\n",
    "* 1부 딥러닝 기본\n",
    "    * 14:00~14:10 [딥러닝 이야기] ‘딥러닝’에서 왜 ‘딥’이고, 무엇을 ‘러닝(학습)’하는 지에 대한 이야기를 합니다.\n",
    "    * 14:10~14:20 [케라스 이야기] ‘케라스’에 대한 의미와 케라스의 특징 및 장단점에 대해서 알아봅니다.\n",
    "    * 14:20~14:30 [케라스 개념잡기] 가장 기초적인 케라스 샘플 코드를 살펴보고 학습 방법에 대해서 살펴봅니다.\n",
    "    * 14:30~14:40 [레이어 개념잡기] 가장 기초적인 뉴런부터 다층퍼셉트론 신경망, 컨볼루션 신경망, 순환 신경망을 구성하고 있는 레이어에 대한 개념을 알아봅니다.\n",
    "    \n",
    "* 2부 딥러닝 활용\n",
    "    * 14:40~15:00 [생성모델(GAN) 살펴보기] 딥러닝 모델의 네트워크, 학습목표, 최적화기에 대한 기본 개념을 익힙니다.\n",
    "    * 15:00~15:20 [태양에서 세포까지 극한알바] 여러 분야에서 케라스 기반 딥러닝 모델 사례를 살펴봅니다.\n",
    "\n",
    "* 3부 딥러닝 적용\n",
    "    * 15:50~16:30 [딥러닝심기 캐글소개] 캐글은 다양한 분야의 문제 및 데이터셋을 제공하고 해당 문제를 풀기 위한 알고리즘 온라인 경연 대회를 운영하는 곳입니다. 유사 문제를 확인하고, 도움을 얻을 수 있는 방법에 대해서 살펴봅니다.\n",
    "    * 16:30~17:00 [GTA5로 자율주행하기] MNIST까지는 해봤다!! 이제 무엇을 해봐야 할까? 그런데 나만의 데이터를 어떻게 만들지? 나만의 데이터를 만들어보고 GTA5로 자율주행을 해보자!!\n",
    "    * 17:00~17:30 [Keras 시계열 모델 튜토리얼] NGLE이라는 QA 전문회사에서 QA-Test 자동화에 인공지능 적용을 연구 중 이며, Keras로 구현해보는 시계열 데이터 예측 구현, 지역 기상정보를 이용한 기온, 풍량, 기압 예측하는 방법에 대해서 살펴봅니다."
   ]
  },
  {
   "cell_type": "markdown",
   "metadata": {},
   "source": [
    "---\n",
    "### 발표자료\n",
    "\n",
    "* 김태영 기술이사, (주)인스페이스, [블록과 함께하는 파이썬 딥러닝 케라스], [발표자료 링크](https://docs.google.com/presentation/d/1dCyZmxGQgICmUp4t_ora4K3q2J52oxPw5CWFIrC0J-k/edit?usp=sharing)\n",
    "* 이유한 박사과정, 카이스트, [딥러닝심기 캐글소개], [발표자료 다운](http://tykimos.github.io/warehouse/2018-5-16-ISS_Plant_DeepLearning_Model_in_SNRC_lyh_file.pdf)\n",
    "* 김준태, 대전대학교 전자정보통신공학과 4학년 재학중, [GTA5로 자율주행하기], [발표자료 다운](http://tykimos.github.io/warehouse/2018-5-16-ISS_Plant_DeepLearning_Model_in_SNRC_kjt_file.pdf)\n",
    "* 곽병권 이사, NGLE, [Keras 시계열 모델 튜토리얼], [발표자료 다운](http://tykimos.github.io/warehouse/2018-5-16-ISS_Plant_DeepLearning_Model_in_SNRC_kbk_file.pdf), [원문 링크](https://github.com/Steven-A3/TensorFlow-Tutorials)"
   ]
  },
  {
   "cell_type": "markdown",
   "metadata": {},
   "source": [
    "---\n",
    "### 사전준비\n",
    "\n",
    "없습니다."
   ]
  },
  {
   "cell_type": "markdown",
   "metadata": {},
   "source": [
    "---\n",
    "\n",
    "### 참가신청\n",
    "\n",
    "대관 장소 수용인원이 최대 200명이라 선착순 200분까지만 받겠습니다. 여러 경로로 참가신청을 받기 때문에 등록하시면 제가 순번을 알려드리도록 하겠습니다. 댓글 양식은 아래와 같으며 '한 줄'로 작성 부탁드리겠습니다. \n",
    "\n",
    "* 이름, 기관, 이메일, 분야, 참석계기\n",
    "* 예) 김태영, 인스페이스, tykim@inspace.re.kr, 우주, 위성 운영 효율화를 위해 강화학습을 적용해보고자 합니다.\n",
    "\n",
    "댓글을 달아도 스팸처리되어서 바로 표시 안될 수도 있습니다. 제가 다 스팸아님으로 처리하고 있으니, 크게 신경 안 쓰셔도 됩니다. 그리고 혹시 참석신청하셨으나 부득이한 이유로 참석이 힘드신 분은 미리 알려주세요~ 다른 분들에게 참석 기회를 드리고자 합니다."
   ]
  },
  {
   "cell_type": "markdown",
   "metadata": {},
   "source": [
    "---\n",
    "\n",
    "### 후기\n",
    "\n",
    "도움이 되셨다면 댓글 부탁드려요~"
   ]
  },
  {
   "cell_type": "markdown",
   "metadata": {
    "collapsed": true
   },
   "source": [
    "---\n",
    "\n",
    "### 같이 보기\n",
    "\n",
    "* [다른 세미나 보기](https://tykimos.github.io/seminar/)\n",
    "* [케라스 기초 강좌](https://tykimos.github.io/lecture/)\n",
    "* [케라스 코리아](https://www.facebook.com/groups/KerasKorea/)"
   ]
  }
 ],
 "metadata": {
  "kernelspec": {
   "display_name": "Python 2",
   "language": "python",
   "name": "python2"
  },
  "language_info": {
   "codemirror_mode": {
    "name": "ipython",
    "version": 2
   },
   "file_extension": ".py",
   "mimetype": "text/x-python",
   "name": "python",
   "nbconvert_exporter": "python",
   "pygments_lexer": "ipython2",
   "version": "2.7.10"
  }
 },
 "nbformat": 4,
 "nbformat_minor": 1
}

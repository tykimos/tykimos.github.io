{
 "cells": [
  {
   "cell_type": "raw",
   "metadata": {},
   "source": [
    "---\n",
    "layout: post\n",
    "title:  \"오후 내내 간보는 날(GAN)\"\n",
    "author: 김태영\n",
    "date:   2018-09-18 13:00:00\n",
    "categories: seminar\n",
    "comments: true\n",
    "image: http://tykimos.github.io/warehouse/2018-9-18-ISS_GAN_all_afternoon.jpg\n",
    "---"
   ]
  },
  {
   "cell_type": "markdown",
   "metadata": {},
   "source": [
    "레고사람 비유를 시작으로 GAN 개념과 기초적인 GAN 모델을 알아봅니다. 그 다음 의료영상 합성 분야의 흥미로운 논문을 간략히 설명드립니다. 마지막에는 vid2vid논문을 리뷰합니다. vid2vid는 2018.08 최근에 발표된 만큼 다양한 GAN 논문들의 개념이 적용되어 복잡하고 설명이 친절한 논문도 아니라서 단번에 이해가 쉽지 않습니다. 그럼에도 불구하고 GAN을 잘 모르는 분들도 충분히 이해할 수 있게 최대한 기본 개념을 챙기려고 노력했습니다.\n",
    "\n",
    "    ISS란 Intelligence Space Seminar의 약자로 인공지능 기술과 관련된 인스페이스의 사내 세미나를 말합니다. 어렵게 모신 전문가분들의 주옥같은 내용을 공유하고자 오픈 세미나로 진행하고 있습니다.\n",
    "\n",
    "![img](http://tykimos.github.io/warehouse/2018-9-18-ISS_GAN_all_afternoon.jpg)"
   ]
  },
  {
   "cell_type": "markdown",
   "metadata": {},
   "source": [
    "---\n",
    "### 연사소개\n",
    "\n",
    "#### 김형섭\n",
    "\n",
    "책 읽다가 3개월 뒤에 죽는다면 뭘하겠냐는 말도 안되는 자기물음에 딥러닝을 해야겠다고 생각해서 모두의연구소 1분 거리에 고시원 잡고 딥러닝 공부를 시작\n",
    "\n",
    "* 모두의연구소 이안 굿 펠로우 저 딥러닝북 풀잎스쿨 퍼실이(학습독려자)\n",
    "* 모두의연구소 GTA(Generative and transfer) 연구실 소속\n",
    "* 의료영상 회사 팀엘리시움 딥러닝 GAN 연구원\n",
    "* 페이스북 Generative Adversarial Networks KR 운영자\n",
    "\n",
    "#### 김태영\n",
    "\n",
    "(주)인스페이스 기술이사, 케라스 코리아, 캐글 코리아, 대딥사 운영자이며, 경희대학교 우주탐사학과 박사과정에 진학 중입니다. 다양한 분야에 딥러닝 모델을 심을 수 있도록 대중화에 힘쓰고 있습니다.\n",
    "\n",
    "* 김태영의 케라스 블로그 운영 : 케라스와 딥러닝에 관련된 강좌 및 세미나 자료가 정리되어 있습니다. 딥러닝 입문에 추천드립니다.\n",
    "* '블록과 함께하는 파이썬 딥러닝 케라스' 집필 : 케라스 사용에 필요한 딥러닝 개념 설명과 실습 가능한 파이썬 소스코드를 담고 있으며 직관적으로 딥러닝 모델 구성을 이해할 수 있도록 블록쌓기 예제가 포함되어 있습니다.\n",
    "* RL Korea 알파오목팀 : 알파제로 알고리즘이 탑재된 알파오목 개발 참여"
   ]
  },
  {
   "cell_type": "markdown",
   "metadata": {},
   "source": [
    "---\n",
    "### 프로그램\n",
    "\n",
    "1. 일시 : 2018년 9월 18일 오후 1시 30분\n",
    "2. 장소 : 대전광역시 유성구 가정로 217 과학기술연합대학원대학교\n",
    "3. 주최 : (주)인스페이스, 케라스 코리아, 대딥사, Generative Adversarial Networks KR\n",
    "4. 후원 : 과학기술연합대학원대학교(UST)\n",
    "5. 발표내용\n",
    "\n",
    "    * 1:30 ~ 1:40 인사\n",
    "    * 1:40 ~ 2:10 딥러닝 몰라도 간부터 보기 - 김태영\n",
    "    * 2:10 ~ 2:20 휴식\n",
    "    * 2:20 ~ 3:20 간들보기 - 김형섭\n",
    "    * 3:20 ~ 3:30 휴식\n",
    "    * 3:30 ~ 4:30 의료영상 응용사례 - 김형섭\n",
    "    * 4:30 ~ 5:30 Vid2vid 논문리뷰 - deeppaper.slack.com #vid2vid 스터디 참가자\n",
    "\n",
    "6. 대상 : GAN에 관심이 있으신 분들"
   ]
  },
  {
   "cell_type": "markdown",
   "metadata": {},
   "source": [
    "---\n",
    "### 참고자료\n",
    "\n",
    "1. vid2vid github  https://github.com/NVIDIA/vid2vid\n",
    "2. vid2vid youtube https://youtu.be/GrP_aOSXt5U"
   ]
  },
  {
   "cell_type": "markdown",
   "metadata": {},
   "source": [
    "---\n",
    "\n",
    "### 참가신청 \n",
    "\n",
    "댓글로 참가신청을 받습니다. 댓글 양식은 아래와 같습니다. 양식에 맞지 않으면 제대로 등록이 안될 수 있으니 양식 맞추어 주세요.\n",
    "\n",
    "- '한 줄'로 작성 부탁드리겠습니다.\n",
    "- 5가지 항목을 기입해주세요. 이름/기관/이메일/분야/참석계기\n",
    "- 항목 간 구분은 '/' (슬래쉬)로 해주세요.\n",
    "\n",
    "* 예) 김태영/인스페이스/tykim@inspace.re.kr/우주/위성 운영 효율화를 위해 강화학습을 적용해보고자 합니다.\n",
    "\n",
    "댓글을 달아도 스팸처리되어서 바로 표시 안될 수도 있습니다. 제가 다 스팸아님으로 처리하고 있으니, 크게 신경 안 쓰셔도 됩니다. 그리고 혹시 참석신청하셨으나 부득이한 이유로 참석이 힘드신 분은 미리 알려주세요~ 다른 분들에게 참석 기회를 드리고자 합니다."
   ]
  },
  {
   "cell_type": "markdown",
   "metadata": {},
   "source": [
    "---\n",
    "\n",
    "### (온라인) vid2vid 논문 및 코드 리뷰 스터디 참가방법\n",
    "\n",
    "슬랙(Slack)을 통해 논문 리뷰 스터디가 이루어집니다. deeppaper.slack.com의 #vid2vid 채널입니다. 논문 리뷰는 구글 문서와 코드 리뷰는 구글 colab에서 수행됩니다. 스터디 참가를 원하시는 분은 아래 게시물 답글 달아주세요~ \n",
    "\n",
    "https://www.facebook.com/groups/KerasKorea/permalink/2331535413529077/"
   ]
  },
  {
   "cell_type": "markdown",
   "metadata": {
    "collapsed": true
   },
   "source": [
    "---\n",
    "\n",
    "### 같이 보기\n",
    "\n",
    "* [다른 세미나 보기](https://tykimos.github.io/seminar/)\n",
    "* [케라스 기초 강좌](https://tykimos.github.io/lecture/)\n",
    "* [케라스 코리아](https://www.facebook.com/groups/KerasKorea/)"
   ]
  }
 ],
 "metadata": {
  "kernelspec": {
   "display_name": "Python 3",
   "language": "python",
   "name": "python3"
  },
  "language_info": {
   "codemirror_mode": {
    "name": "ipython",
    "version": 3
   },
   "file_extension": ".py",
   "mimetype": "text/x-python",
   "name": "python",
   "nbconvert_exporter": "python",
   "pygments_lexer": "ipython3",
   "version": "3.6.4"
  }
 },
 "nbformat": 4,
 "nbformat_minor": 1
}

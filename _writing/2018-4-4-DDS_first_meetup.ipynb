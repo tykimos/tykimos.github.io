{
 "cells": [
  {
   "cell_type": "raw",
   "metadata": {},
   "source": [
    "---\n",
    "layout: post\n",
    "title:  \"[대딥사] 첫 밋업\"\n",
    "author: 김태영\n",
    "date:   2018-04-04 23:00:00\n",
    "categories: seminar\n",
    "comments: true\n",
    "image: http://tykimos.github.io/warehouse/2018-4-4-DDS_first_meetup.png\n",
    "---"
   ]
  },
  {
   "cell_type": "markdown",
   "metadata": {},
   "source": [
    "\"대전에서, 딥러닝을 사랑하는 사람들의 모임\"인 대딥사 밋업을 했습니다. 짧은 시간이었지만 이 모임이 만들어진 것이 당연한 듯 자기 소개에서 홀로 공부하는 외로움과 가까운 이들과 소통하고자 하는 간절함이 묻어났습니다. 이 모임하려고 서울에서 오신 분, 고객처와 접대를 뒤로하고 오신 분, 해외출장에서 막 귀국해서 아직 여독이 안 풀리신 분, 바쁜 학업이나 본업을 잠시 뒤로하고 모였습니다. 일단 만났으니, 이제 스터디도 시작하고 재미난 것을 계획해봐야 겠죠? 대전에 계신다고요? 조인조인, 대전에 안 사신다구요? 상관없습니다. 행사만 대전에서 할 뿐입니다. \n",
    "\n",
    "![img](http://tykimos.github.io/warehouse/2018-4-4-DDS_first_meetup.png)"
   ]
  },
  {
   "cell_type": "markdown",
   "metadata": {
    "collapsed": true
   },
   "source": [
    "---\n",
    "\n",
    "### 같이 보기\n",
    "\n",
    "* [대딥사 그룹](https://www.facebook.com/groups/ddeeps/)"
   ]
  }
 ],
 "metadata": {
  "kernelspec": {
   "display_name": "Python 2",
   "language": "python",
   "name": "python2"
  },
  "language_info": {
   "codemirror_mode": {
    "name": "ipython",
    "version": 2
   },
   "file_extension": ".py",
   "mimetype": "text/x-python",
   "name": "python",
   "nbconvert_exporter": "python",
   "pygments_lexer": "ipython2",
   "version": "2.7.13"
  }
 },
 "nbformat": 4,
 "nbformat_minor": 1
}

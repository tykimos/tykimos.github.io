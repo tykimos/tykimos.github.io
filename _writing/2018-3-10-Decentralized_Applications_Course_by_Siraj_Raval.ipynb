{
 "cells": [
  {
   "cell_type": "raw",
   "metadata": {},
   "source": [
    "---\n",
    "layout: post\n",
    "title:  \"Decentralized Applications 코스(by Siraj Raval)\"\n",
    "author: 김태영\n",
    "date:   2018-03-10 10:00:00\n",
    "categories: dapps\n",
    "comments: true\n",
    "image: http://tykimos.github.io/warehouse/2018-3-10-Decentralized_Applications_Course_by_Siraj_Raval_title.png\n",
    "---"
   ]
  },
  {
   "cell_type": "markdown",
   "metadata": {},
   "source": [
    "딥러닝과 블록체인을 공부하면서 무언가 비슷하다는 느낌이 들었습니다. \n",
    "\n",
    "* 딥러닝은 사용자가 데이터만 준비되어 있다면 누구나 좋은 어플리케이션을 만들수 있고, \n",
    "* 블록체인은 중간 관리를 거치지 않고 컨텐츠(또는 가치)만 가지고 있다면 제대로 보장을 만들 수 있습니다.\n",
    "\n",
    "즉 기술이던 가치(돈)이든 특수한 집단에 모이는 것이 아니라 서로 공유되어 가치를 나눕니다. \n",
    "\n",
    "[![Video Label](http://tykimos.github.io/warehouse/2018-3-10-Decentralized_Applications_Course_by_Siraj_Raval_title.png)](https://youtu.be/VyQVlBQCX_Y) "
   ]
  },
  {
   "attachments": {},
   "cell_type": "markdown",
   "metadata": {},
   "source": [
    "---\n",
    "### 개요\n",
    "\n",
    "아래는 프론티어 기술 소개로 유명한 Siraj Raval의 동영상에서 나온 이미지들 입니다. 먼저 블록체인 기술과 딥러닝 기술을 더하면 무엇이 될까요?\n",
    "\n",
    "![img](http://tykimos.github.io/warehouse/2018-3-10-Decentralized_Applications_Course_by_Siraj_Raval_1.png)\n",
    "\n",
    "이제는 어떤 기술들이 조합되더라도 이상하지 않을 세상이네요. 이더리움 + 분산 파일 시스템 + 딥러닝 + 소셜(도메인) 레이어들이 이루어 DAPP을 형성하고 있습니다.\n",
    "\n",
    "![img](http://tykimos.github.io/warehouse/2018-3-10-Decentralized_Applications_Course_by_Siraj_Raval_2.png)\n",
    "\n",
    "아직 정확히 어떤 개념인줄은 모르겠으나 흥미진진한 세상이 올 것 같네요. Decentralized Applications에 배울 수 있는 코스를 아래 사이트에서 등록할 수 있습니다.\n",
    "\n",
    "https://www.theschool.ai/courses/decentralized-applications\n",
    "\n",
    "이 코스에 대해서 같이 공부하실 분은 [DApps Korea (댑스 코리아)](https://www.facebook.com/groups/dappskorea/)에서 함께해요~ Siraj Raval님이 [DApps Korea (댑스 코리아)](https://www.facebook.com/groups/dappskorea/)에 인사 남겨주셨네요~\n",
    "\n",
    "![img](http://tykimos.github.io/warehouse/2018-3-10-Decentralized_Applications_Course_by_Siraj_Raval_3.png)\n",
    "\n",
    "코스 계획은 다음과 같습니다. "
   ]
  },
  {
   "cell_type": "markdown",
   "metadata": {},
   "source": [
    "---\n",
    "### 코스\n",
    "\n",
    "1. Introduction\n",
    "    1. Meet your Instructor\n",
    "    1. Web 3.0 Overview\n",
    "    1. Ethereum Installation Steps\n",
    "    1. Hash Functions Explained\n",
    "    1. Live Stream (Building a Simple Web Store)\n",
    "1. Decentralized Chat\n",
    "    1. Ethereum Whisper Explained\n",
    "    1. Setting up the gEth Client\n",
    "    1. Live Stream (P2P Chat Demo)\n",
    "    1. Client-Side vs Server-Side Encryption\n",
    "    1. Building a Chat App Using Whisper\n",
    "    1. Decentralized News\n",
    "1. A Package Installation Guide\n",
    "    1. Building a News App Using IPFS\n",
    "    1. Live Stream (DNN Demo)\n",
    "    1. IPFS Explained\n",
    "    1. IPFS Module Guide\n",
    "1. Decentralized Games\n",
    "    1. Building a Decentralized Game App\n",
    "    1. Transmute Setup Guide\n",
    "    1. Live Stream (Building a Block Farm Game)\n",
    "    1. Truffle Setup instructions\n",
    "    1. A Guide to Solidity Use Cases\n",
    "    1. Decentralized Game Midterm Project\n",
    "1. Decentralized Rides\n",
    "    1. Building a Decentralized Ride Sharing App\n",
    "    1. Transmute Setup Guide\n",
    "    1. MetaMask Explained\n",
    "    1. Live Stream (Ride Sharing Demo)\n",
    "    1. A Guide to MetaMask Use Cases\n",
    "1. Decentralized Music\n",
    "    1. Building a Decentralized Music Player App\n",
    "    1. Automated Contract Testing Explained\n",
    "    1. Live Stream (Music Player Demo)\n",
    "    1. Setting up Zeppelin\n",
    "    1. Smart Contracts: An Overview\n",
    "    1. Building a Decentralized Search Engine App\n",
    "    1. Proof of Stake Explained\n",
    "    1. Setting up NVM\n",
    "1. Building a Decentralized Search Engine App\n",
    "    1. Live Stream (Search Engine Demo)\n",
    "    1. Proof of Stake vs Proof of Work\n",
    "    1. Decentralized Marketplace\n",
    "    1. Setting up Tor\n",
    "    1. IPNS Explained\n",
    "    1. Live Stream (Building a Marketplace Dapp)\n",
    "    1. Escrow Contracts\n",
    "    1. Security Best Practices\n",
    "1. Decentralized Social Network\n",
    "    1. Setting up a Web Node\n",
    "    1. Designing a Proof\n",
    "    1. Live Stream (Steem Stack Overview)\n",
    "    1. A Guide to Building a Decentralized Social Network\n",
    "    1. The Spectrum of Centralization\n",
    "1. Decentralized Artificial Intelligence\n",
    "    1. Deep Learning on the Blockchain\n",
    "    1. Live Stream (OpenMined Demo)\n",
    "    1. Building a Decentralized AI\n",
    "    1. Setting up OpenMined Libraries\n",
    "    1. The Future of AI\n",
    "    1. Decentralized AI Final Project   "
   ]
  },
  {
   "cell_type": "markdown",
   "metadata": {},
   "source": [
    "---\n",
    "### 링크\n",
    "\n",
    "* [Siraj Raval 코스 신청](https://www.theschool.ai/courses/decentralized-applications)\n",
    "* [DApps Korea (댑스 코리아)](https://www.facebook.com/groups/dappskorea/)\n",
    "* [케라스 코리아 (Keras Korea)](https://www.facebook.com/groups/keraskorea/)\n",
    "* [오픈마인디드 코리아 (Openminded Korea)](https://www.facebook.com/groups/openmindedkorea/)"
   ]
  }
 ],
 "metadata": {
  "kernelspec": {
   "display_name": "Python 2",
   "language": "python",
   "name": "python2"
  },
  "language_info": {
   "codemirror_mode": {
    "name": "ipython",
    "version": 2
   },
   "file_extension": ".py",
   "mimetype": "text/x-python",
   "name": "python",
   "nbconvert_exporter": "python",
   "pygments_lexer": "ipython2",
   "version": "2.7.13"
  }
 },
 "nbformat": 4,
 "nbformat_minor": 1
}

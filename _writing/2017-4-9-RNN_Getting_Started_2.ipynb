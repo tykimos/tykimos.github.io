{
 "cells": [
  {
   "cell_type": "raw",
   "metadata": {},
   "source": [
    "---\n",
    "layout: post\n",
    "title:  \"순환 신경망 모델 만들어보기\"\n",
    "author: 김태영\n",
    "date:   2017-04-09 05:00:00\n",
    "categories: Lecture\n",
    "comments: true\n",
    "image: http://tykimos.github.io/warehouse/2017-3-8_CNN_Getting_Started_4.png\n",
    "---"
   ]
  },
  {
   "cell_type": "markdown",
   "metadata": {},
   "source": [
    "본 강좌에서는 간단한 순환 신경망 모델을 만들어봅니다. 늘 그렇듯이 다음과 같은 순서로 진행하겠습니다.\n",
    "\n",
    "1. 문제 정의하기\n",
    "1. 데이터셋 준비하기\n",
    "1. 모델 구성하기\n",
    "1. 모델 엮기\n",
    "1. 모델 학습시키기\n",
    "1. 모델 사용하기"
   ]
  },
  {
   "cell_type": "code",
   "execution_count": 1,
   "metadata": {},
   "outputs": [],
   "source": [
    "import matplotlib.pyplot"
   ]
  },
  {
   "cell_type": "code",
   "execution_count": 2,
   "metadata": {},
   "outputs": [
    {
     "name": "stderr",
     "output_type": "stream",
     "text": [
      "Using TensorFlow backend.\n"
     ]
    }
   ],
   "source": [
    "import numpy as np\n",
    "\n",
    "from keras.models import Sequential\n",
    "from keras.layers import Dense, LSTM, Dropout\n",
    "from sklearn.preprocessing import MinMaxScaler\n",
    "\n",
    "import matplotlib.pyplot as plt\n",
    "\n",
    "import theano\n",
    "\n",
    "%matplotlib inline"
   ]
  },
  {
   "cell_type": "markdown",
   "metadata": {},
   "source": [
    "# LSTMs"
   ]
  },
  {
   "cell_type": "code",
   "execution_count": 3,
   "metadata": {},
   "outputs": [
    {
     "data": {
      "text/plain": [
       "(1000, 1)"
      ]
     },
     "execution_count": 3,
     "metadata": {},
     "output_type": "execute_result"
    },
    {
     "data": {
      "image/png": "[encoded data removed]",
      "text/plain": [
       "<matplotlib.figure.Figure at 0x117c07ad0>"
      ]
     },
     "metadata": {},
     "output_type": "display_data"
    }
   ],
   "source": [
    "dataset = np.cos(np.arange(1000)*(20*np.pi/1000))[:,None]\n",
    "\n",
    "plt.plot(dataset)\n",
    "\n",
    "dataset.shape"
   ]
  },
  {
   "cell_type": "code",
   "execution_count": 4,
   "metadata": {
    "collapsed": true
   },
   "outputs": [],
   "source": [
    "# convert an array of values into a dataset matrix\n",
    "def create_dataset(dataset, look_back=1):\n",
    "    dataX, dataY = [], []\n",
    "    for i in range(len(dataset)-look_back):\n",
    "        dataX.append(dataset[i:(i+look_back), 0])\n",
    "        dataY.append(dataset[i + look_back, 0])\n",
    "    return np.array(dataX), np.array(dataY)"
   ]
  },
  {
   "cell_type": "markdown",
   "metadata": {},
   "source": [
    "## Window of 20 time steps"
   ]
  },
  {
   "cell_type": "code",
   "execution_count": 5,
   "metadata": {
    "collapsed": true
   },
   "outputs": [],
   "source": [
    "look_back = 20\n",
    "scaler = MinMaxScaler(feature_range=(0, 1))\n",
    "dataset = scaler.fit_transform(dataset)\n",
    "\n",
    "# split into train and test sets\n",
    "train_size = int(len(dataset) * 0.67)\n",
    "test_size = len(dataset) - train_size\n",
    "train, test = dataset[0:train_size,:], dataset[train_size:len(dataset),:]\n",
    "\n",
    "trainX, trainY = create_dataset(train, look_back)\n",
    "testX, testY = create_dataset(test, look_back)\n",
    "\n",
    "trainX = np.reshape(trainX, (trainX.shape[0], trainX.shape[1], 1))\n",
    "testX = np.reshape(testX, (testX.shape[0], testX.shape[1], 1))"
   ]
  },
  {
   "cell_type": "code",
   "execution_count": 6,
   "metadata": {},
   "outputs": [
    {
     "data": {
      "text/plain": [
       "(670, 1)"
      ]
     },
     "execution_count": 6,
     "metadata": {},
     "output_type": "execute_result"
    }
   ],
   "source": [
    "train.shape"
   ]
  },
  {
   "cell_type": "code",
   "execution_count": 7,
   "metadata": {},
   "outputs": [
    {
     "data": {
      "text/plain": [
       "(650, 20, 1)"
      ]
     },
     "execution_count": 7,
     "metadata": {},
     "output_type": "execute_result"
    }
   ],
   "source": [
    "trainX.shape"
   ]
  },
  {
   "cell_type": "code",
   "execution_count": 8,
   "metadata": {},
   "outputs": [
    {
     "data": {
      "text/plain": [
       "(650,)"
      ]
     },
     "execution_count": 8,
     "metadata": {},
     "output_type": "execute_result"
    }
   ],
   "source": [
    "trainY.shape"
   ]
  },
  {
   "cell_type": "code",
   "execution_count": 9,
   "metadata": {},
   "outputs": [
    {
     "name": "stdout",
     "output_type": "stream",
     "text": [
      "CPU times: user 10 µs, sys: 4 µs, total: 14 µs\n",
      "Wall time: 16 µs\n"
     ]
    }
   ],
   "source": [
    "%%time\n",
    "theano.config.compute_test_value = \"ignore\"\n",
    "\n"
   ]
  },
  {
   "cell_type": "code",
   "execution_count": null,
   "metadata": {},
   "outputs": [
    {
     "name": "stderr",
     "output_type": "stream",
     "text": [
      "/Users/tykimos/Projects/Keras/venv/lib/python2.7/site-packages/ipykernel_launcher.py:5: UserWarning: The `input_dim` and `input_length` arguments in recurrent layers are deprecated. Use `input_shape` instead.\n",
      "  \"\"\"\n",
      "/Users/tykimos/Projects/Keras/venv/lib/python2.7/site-packages/ipykernel_launcher.py:5: UserWarning: Update your `LSTM` call to the Keras 2 API: `LSTM(32, input_shape=(None, 1))`\n",
      "  \"\"\"\n"
     ]
    }
   ],
   "source": [
    "\n",
    "# create and fit the LSTM network\n",
    "batch_size = 1\n",
    "model = Sequential()\n",
    "model.add(LSTM(32,input_dim=1))\n",
    "model.add(Dropout(0.3))\n",
    "model.add(Dense(1))\n",
    "model.compile(loss='mean_squared_error', optimizer='adam')"
   ]
  },
  {
   "cell_type": "code",
   "execution_count": null,
   "metadata": {
    "scrolled": true
   },
   "outputs": [
    {
     "name": "stderr",
     "output_type": "stream",
     "text": [
      "/Users/tykimos/Projects/Keras/venv/lib/python2.7/site-packages/keras/models.py:844: UserWarning: The `nb_epoch` argument in `fit` has been renamed `epochs`.\n",
      "  warnings.warn('The `nb_epoch` argument in `fit` '\n"
     ]
    },
    {
     "name": "stdout",
     "output_type": "stream",
     "text": [
      "Epoch 1/100\n",
      "23s - loss: 0.0262\n",
      "Epoch 2/100\n",
      "22s - loss: 0.0064\n",
      "Epoch 3/100\n",
      "23s - loss: 0.0046\n",
      "Epoch 4/100\n",
      "24s - loss: 0.0036\n",
      "Epoch 5/100\n",
      "25s - loss: 0.0040\n",
      "Epoch 6/100\n",
      "23s - loss: 0.0037\n",
      "Epoch 7/100\n",
      "23s - loss: 0.0031\n",
      "Epoch 8/100\n",
      "22s - loss: 0.0030\n",
      "Epoch 9/100\n",
      "23s - loss: 0.0030\n",
      "Epoch 10/100\n",
      "22s - loss: 0.0027\n",
      "Epoch 11/100\n",
      "23s - loss: 0.0026\n",
      "Epoch 12/100\n",
      "23s - loss: 0.0027\n",
      "Epoch 13/100\n",
      "23s - loss: 0.0023\n",
      "Epoch 14/100\n",
      "22s - loss: 0.0022\n",
      "Epoch 15/100\n",
      "22s - loss: 0.0022\n",
      "Epoch 16/100\n",
      "24s - loss: 0.0023\n",
      "Epoch 17/100\n",
      "24s - loss: 0.0020\n",
      "Epoch 18/100\n",
      "24s - loss: 0.0024\n",
      "Epoch 19/100\n",
      "23s - loss: 0.0025\n",
      "Epoch 20/100\n",
      "23s - loss: 0.0023\n",
      "Epoch 21/100\n",
      "23s - loss: 0.0021\n",
      "Epoch 22/100\n",
      "23s - loss: 0.0023\n",
      "Epoch 23/100\n",
      "22s - loss: 0.0021\n",
      "Epoch 24/100\n",
      "23s - loss: 0.0023\n",
      "Epoch 25/100\n",
      "23s - loss: 0.0025\n",
      "Epoch 26/100\n",
      "24s - loss: 0.0023\n",
      "Epoch 27/100\n",
      "24s - loss: 0.0022\n",
      "Epoch 28/100\n",
      "23s - loss: 0.0023\n",
      "Epoch 29/100\n",
      "23s - loss: 0.0024\n",
      "Epoch 30/100\n",
      "23s - loss: 0.0019\n",
      "Epoch 31/100\n",
      "23s - loss: 0.0019\n",
      "Epoch 32/100\n",
      "23s - loss: 0.0022\n",
      "Epoch 33/100\n",
      "25s - loss: 0.0021\n",
      "Epoch 34/100\n",
      "24s - loss: 0.0021\n",
      "Epoch 35/100\n",
      "23s - loss: 0.0019\n",
      "Epoch 36/100\n",
      "23s - loss: 0.0021\n",
      "Epoch 37/100\n",
      "22s - loss: 0.0021\n",
      "Epoch 38/100\n",
      "22s - loss: 0.0020\n",
      "Epoch 39/100\n",
      "23s - loss: 0.0020\n",
      "Epoch 40/100\n",
      "23s - loss: 0.0022\n",
      "Epoch 41/100\n",
      "25s - loss: 0.0022\n",
      "Epoch 42/100\n",
      "25s - loss: 0.0020\n",
      "Epoch 43/100\n",
      "25s - loss: 0.0021\n",
      "Epoch 44/100\n",
      "22s - loss: 0.0023\n",
      "Epoch 45/100\n",
      "23s - loss: 0.0022\n",
      "Epoch 46/100\n",
      "24s - loss: 0.0021\n",
      "Epoch 47/100\n",
      "24s - loss: 0.0021\n",
      "Epoch 48/100\n",
      "23s - loss: 0.0020\n",
      "Epoch 49/100\n",
      "23s - loss: 0.0020\n",
      "Epoch 50/100\n",
      "23s - loss: 0.0020\n",
      "Epoch 51/100\n",
      "22s - loss: 0.0020\n",
      "Epoch 52/100\n",
      "21s - loss: 0.0022\n",
      "Epoch 53/100\n",
      "23s - loss: 0.0019\n",
      "Epoch 54/100\n",
      "24s - loss: 0.0023\n",
      "Epoch 55/100\n",
      "24s - loss: 0.0020\n",
      "Epoch 56/100\n",
      "27s - loss: 0.0022\n",
      "Epoch 57/100\n",
      "33s - loss: 0.0019\n",
      "Epoch 58/100\n",
      "25s - loss: 0.0020\n",
      "Epoch 59/100\n",
      "24s - loss: 0.0021\n",
      "Epoch 60/100\n",
      "23s - loss: 0.0021\n",
      "Epoch 61/100\n",
      "24s - loss: 0.0023\n",
      "Epoch 62/100\n",
      "33s - loss: 0.0020\n",
      "Epoch 63/100\n",
      "39s - loss: 0.0022\n",
      "Epoch 64/100\n",
      "40s - loss: 0.0022\n",
      "Epoch 65/100\n",
      "39s - loss: 0.0021\n",
      "Epoch 66/100\n",
      "23s - loss: 0.0019\n",
      "Epoch 67/100\n",
      "35s - loss: 0.0022\n",
      "Epoch 68/100\n",
      "39s - loss: 0.0021\n",
      "Epoch 69/100\n",
      "38s - loss: 0.0020\n",
      "Epoch 70/100\n",
      "38s - loss: 0.0020\n",
      "Epoch 71/100\n",
      "39s - loss: 0.0022\n",
      "Epoch 72/100\n",
      "38s - loss: 0.0023\n",
      "Epoch 73/100\n",
      "39s - loss: 0.0019\n",
      "Epoch 74/100\n",
      "39s - loss: 0.0024\n",
      "Epoch 75/100\n",
      "39s - loss: 0.0023\n",
      "Epoch 76/100\n",
      "39s - loss: 0.0020\n",
      "Epoch 77/100\n",
      "38s - loss: 0.0022\n",
      "Epoch 78/100\n",
      "38s - loss: 0.0021\n",
      "Epoch 79/100\n",
      "37s - loss: 0.0022\n",
      "Epoch 80/100\n",
      "39s - loss: 0.0021\n",
      "Epoch 81/100\n",
      "37s - loss: 0.0020\n",
      "Epoch 82/100\n",
      "37s - loss: 0.0021\n",
      "Epoch 83/100\n",
      "40s - loss: 0.0023\n",
      "Epoch 84/100\n",
      "38s - loss: 0.0019\n",
      "Epoch 85/100\n",
      "37s - loss: 0.0021\n",
      "Epoch 86/100\n",
      "36s - loss: 0.0020\n",
      "Epoch 87/100\n",
      "36s - loss: 0.0022\n",
      "Epoch 88/100\n",
      "36s - loss: 0.0020\n",
      "Epoch 89/100\n",
      "38s - loss: 0.0022\n",
      "Epoch 90/100\n"
     ]
    }
   ],
   "source": [
    "model.fit(trainX, trainY, nb_epoch=100, batch_size=batch_size, verbose=2)"
   ]
  },
  {
   "cell_type": "code",
   "execution_count": null,
   "metadata": {},
   "outputs": [],
   "source": [
    "trainScore = model.evaluate(trainX, trainY, batch_size=batch_size, verbose=0)\n",
    "print('Train Score: ', trainScore)\n",
    "testScore = model.evaluate(testX[:252], testY[:252], batch_size=batch_size, verbose=0)\n",
    "print('Test Score: ', testScore)"
   ]
  },
  {
   "cell_type": "code",
   "execution_count": null,
   "metadata": {},
   "outputs": [],
   "source": [
    "trainX[-1][1:]"
   ]
  },
  {
   "cell_type": "code",
   "execution_count": null,
   "metadata": {
    "collapsed": true
   },
   "outputs": [],
   "source": [
    "look_ahead = 250\n",
    "trainPredict = [np.vstack([trainX[-1][1:], trainY[-1]])]\n",
    "predictions = np.zeros((look_ahead,1))\n",
    "for i in range(look_ahead):\n",
    "    prediction = model.predict(np.array([trainPredict[-1]]), batch_size=batch_size)\n",
    "    predictions[i] = prediction\n",
    "    trainPredict.append(np.vstack([trainPredict[-1][1:],prediction]))"
   ]
  },
  {
   "cell_type": "code",
   "execution_count": null,
   "metadata": {},
   "outputs": [],
   "source": [
    "plt.figure(figsize=(12,5))\n",
    "# plt.plot(np.arange(len(trainX)),np.squeeze(trainX))\n",
    "# plt.plot(np.arange(200),scaler.inverse_transform(np.squeeze(trainPredict)[:,None][1:]))\n",
    "# plt.plot(np.arange(200),scaler.inverse_transform(np.squeeze(testY)[:,None][:200]),'r')\n",
    "plt.plot(np.arange(look_ahead),predictions,'r',label=\"prediction\")\n",
    "plt.plot(np.arange(look_ahead),dataset[train_size:(train_size+look_ahead)],label=\"test function\")\n",
    "plt.legend()\n",
    "plt.show()"
   ]
  },
  {
   "cell_type": "markdown",
   "metadata": {},
   "source": [
    "## Stateful LSTMs"
   ]
  },
  {
   "cell_type": "code",
   "execution_count": null,
   "metadata": {
    "collapsed": true
   },
   "outputs": [],
   "source": [
    "look_back = 20\n",
    "scaler = MinMaxScaler(feature_range=(0, 1))\n",
    "dataset = scaler.fit_transform(dataset)\n",
    "\n",
    "# split into train and test sets\n",
    "train_size = int(len(dataset) * 0.67)\n",
    "test_size = len(dataset) - train_size\n",
    "train, test = dataset[0:train_size,:], dataset[train_size:len(dataset),:]\n",
    "\n",
    "trainX, trainY = create_dataset(train, look_back)\n",
    "testX, testY = create_dataset(test, look_back)\n",
    "\n",
    "trainX = np.reshape(trainX, (trainX.shape[0], trainX.shape[1], 1))\n",
    "testX = np.reshape(testX, (testX.shape[0], testX.shape[1], 1))"
   ]
  },
  {
   "cell_type": "code",
   "execution_count": null,
   "metadata": {},
   "outputs": [],
   "source": [
    "%%time\n",
    "theano.config.compute_test_value = \"ignore\"\n",
    "# create and fit the LSTM network\n",
    "batch_size = 1\n",
    "model = Sequential()\n",
    "# model.add(LSTM(32, batch_input_shape=(batch_size, look_back, 1), stateful=True, return_sequences=True))\n",
    "# model.add(Dropout(0.3))\n",
    "# model.add(LSTM(32, batch_input_shape=(batch_size, look_back, 1), stateful=True, return_sequences=True))\n",
    "# model.add(Dropout(0.3))\n",
    "model.add(LSTM(32, batch_input_shape=(batch_size, look_back, 1), stateful=True))\n",
    "model.add(Dropout(0.3))\n",
    "model.add(Dense(1))\n",
    "model.compile(loss='mean_squared_error', optimizer='adam')\n",
    "for i in range(200):\n",
    "    model.fit(trainX, trainY, nb_epoch=1, batch_size=batch_size, verbose=0, shuffle=False)\n",
    "    model.reset_states()"
   ]
  },
  {
   "cell_type": "code",
   "execution_count": null,
   "metadata": {},
   "outputs": [],
   "source": [
    "trainScore = model.evaluate(trainX, trainY, batch_size=batch_size, verbose=0)\n",
    "print('Train Score: ', trainScore)\n",
    "testScore = model.evaluate(testX[:252], testY[:252], batch_size=batch_size, verbose=0)\n",
    "print('Test Score: ', testScore)"
   ]
  },
  {
   "cell_type": "code",
   "execution_count": null,
   "metadata": {
    "collapsed": true
   },
   "outputs": [],
   "source": [
    "look_ahead = 250\n",
    "trainPredict = [np.vstack([trainX[-1][1:], trainY[-1]])]\n",
    "predictions = np.zeros((look_ahead,1))\n",
    "for i in range(look_ahead):\n",
    "    prediction = model.predict(np.array([trainPredict[-1]]), batch_size=batch_size)\n",
    "    predictions[i] = prediction\n",
    "    trainPredict.append(np.vstack([trainPredict[-1][1:],prediction]))"
   ]
  },
  {
   "cell_type": "code",
   "execution_count": null,
   "metadata": {},
   "outputs": [],
   "source": [
    "plt.figure(figsize=(12,5))\n",
    "# plt.plot(np.arange(len(trainX)),np.squeeze(trainX))\n",
    "# plt.plot(np.arange(200),scaler.inverse_transform(np.squeeze(trainPredict)[:,None][1:]))\n",
    "# plt.plot(np.arange(200),scaler.inverse_transform(np.squeeze(testY)[:,None][:200]),'r')\n",
    "plt.plot(np.arange(look_ahead),predictions,'r',label=\"prediction\")\n",
    "plt.plot(np.arange(look_ahead),dataset[train_size:(train_size+look_ahead)],label=\"test function\")\n",
    "plt.legend()\n",
    "plt.show()"
   ]
  },
  {
   "cell_type": "markdown",
   "metadata": {
    "collapsed": true
   },
   "source": [
    "## Stateful LSTMs with wider window"
   ]
  },
  {
   "cell_type": "code",
   "execution_count": null,
   "metadata": {
    "collapsed": true
   },
   "outputs": [],
   "source": [
    "look_back = 40\n",
    "scaler = MinMaxScaler(feature_range=(0, 1))\n",
    "dataset = scaler.fit_transform(dataset)\n",
    "\n",
    "# split into train and test sets\n",
    "train_size = int(len(dataset) * 0.67)\n",
    "test_size = len(dataset) - train_size\n",
    "train, test = dataset[0:train_size,:], dataset[train_size:len(dataset),:]\n",
    "\n",
    "trainX, trainY = create_dataset(train, look_back)\n",
    "testX, testY = create_dataset(test, look_back)\n",
    "\n",
    "trainX = np.reshape(trainX, (trainX.shape[0], trainX.shape[1], 1))\n",
    "testX = np.reshape(testX, (testX.shape[0], testX.shape[1], 1))"
   ]
  },
  {
   "cell_type": "code",
   "execution_count": null,
   "metadata": {},
   "outputs": [],
   "source": [
    "%%time\n",
    "theano.config.compute_test_value = \"ignore\"\n",
    "# create and fit the LSTM network\n",
    "batch_size = 1\n",
    "model = Sequential()\n",
    "# model.add(LSTM(32, batch_input_shape=(batch_size, look_back, 1), stateful=True, return_sequences=True))\n",
    "# model.add(Dropout(0.3))\n",
    "# model.add(LSTM(32, batch_input_shape=(batch_size, look_back, 1), stateful=True, return_sequences=True))\n",
    "# model.add(Dropout(0.3))\n",
    "model.add(LSTM(32, batch_input_shape=(batch_size, look_back, 1), stateful=True))\n",
    "model.add(Dropout(0.3))\n",
    "model.add(Dense(1))\n",
    "model.compile(loss='mean_squared_error', optimizer='adam')\n",
    "for i in range(200):\n",
    "    model.fit(trainX, trainY, nb_epoch=1, batch_size=batch_size, verbose=0, shuffle=False)\n",
    "    model.reset_states()"
   ]
  },
  {
   "cell_type": "code",
   "execution_count": null,
   "metadata": {},
   "outputs": [],
   "source": [
    "trainScore = model.evaluate(trainX, trainY, batch_size=batch_size, verbose=0)\n",
    "print('Train Score: ', trainScore)\n",
    "testScore = model.evaluate(testX[:252], testY[:252], batch_size=batch_size, verbose=0)\n",
    "print('Test Score: ', testScore)"
   ]
  },
  {
   "cell_type": "code",
   "execution_count": null,
   "metadata": {
    "collapsed": true
   },
   "outputs": [],
   "source": [
    "look_ahead = 250\n",
    "trainPredict = [np.vstack([trainX[-1][1:], trainY[-1]])]\n",
    "predictions = np.zeros((look_ahead,1))\n",
    "for i in range(look_ahead):\n",
    "    prediction = model.predict(np.array([trainPredict[-1]]), batch_size=batch_size)\n",
    "    predictions[i] = prediction\n",
    "    trainPredict.append(np.vstack([trainPredict[-1][1:],prediction]))"
   ]
  },
  {
   "cell_type": "code",
   "execution_count": null,
   "metadata": {},
   "outputs": [],
   "source": [
    "plt.figure(figsize=(12,5))\n",
    "# plt.plot(np.arange(len(trainX)),np.squeeze(trainX))\n",
    "# plt.plot(np.arange(200),scaler.inverse_transform(np.squeeze(trainPredict)[:,None][1:]))\n",
    "# plt.plot(np.arange(200),scaler.inverse_transform(np.squeeze(testY)[:,None][:200]),'r')\n",
    "plt.plot(np.arange(look_ahead),predictions,'r',label=\"prediction\")\n",
    "plt.plot(np.arange(look_ahead),dataset[train_size:(train_size+look_ahead)],label=\"test function\")\n",
    "plt.legend()\n",
    "plt.show()"
   ]
  },
  {
   "cell_type": "markdown",
   "metadata": {},
   "source": [
    "## Stateful LSTMs, Stacked"
   ]
  },
  {
   "cell_type": "code",
   "execution_count": null,
   "metadata": {},
   "outputs": [],
   "source": [
    "%%time\n",
    "theano.config.compute_test_value = \"ignore\"\n",
    "# create and fit the LSTM network\n",
    "batch_size = 1\n",
    "model = Sequential()\n",
    "model.add(LSTM(32, batch_input_shape=(batch_size, look_back, 1), stateful=True, return_sequences=True))\n",
    "model.add(Dropout(0.3))\n",
    "model.add(LSTM(32, batch_input_shape=(batch_size, look_back, 1), stateful=True))\n",
    "model.add(Dropout(0.3))\n",
    "model.add(Dense(1))\n",
    "model.compile(loss='mean_squared_error', optimizer='adam')\n",
    "for i in range(200):\n",
    "    model.fit(trainX, trainY, nb_epoch=1, batch_size=batch_size, verbose=0, shuffle=False)\n",
    "    model.reset_states()"
   ]
  },
  {
   "cell_type": "code",
   "execution_count": null,
   "metadata": {},
   "outputs": [],
   "source": [
    "trainScore = model.evaluate(trainX, trainY, batch_size=batch_size, verbose=0)\n",
    "print('Train Score: ', trainScore)\n",
    "testScore = model.evaluate(testX[:252], testY[:252], batch_size=batch_size, verbose=0)\n",
    "print('Test Score: ', testScore)"
   ]
  },
  {
   "cell_type": "code",
   "execution_count": null,
   "metadata": {
    "collapsed": true
   },
   "outputs": [],
   "source": [
    "look_ahead = 250\n",
    "trainPredict = [np.vstack([trainX[-1][1:], trainY[-1]])]\n",
    "predictions = np.zeros((look_ahead,1))\n",
    "for i in range(look_ahead):\n",
    "    prediction = model.predict(np.array([trainPredict[-1]]), batch_size=batch_size)\n",
    "    predictions[i] = prediction\n",
    "    trainPredict.append(np.vstack([trainPredict[-1][1:],prediction]))"
   ]
  },
  {
   "cell_type": "code",
   "execution_count": null,
   "metadata": {},
   "outputs": [],
   "source": [
    "plt.figure(figsize=(12,5))\n",
    "# plt.plot(np.arange(len(trainX)),np.squeeze(trainX))\n",
    "# plt.plot(np.arange(200),scaler.inverse_transform(np.squeeze(trainPredict)[:,None][1:]))\n",
    "# plt.plot(np.arange(200),scaler.inverse_transform(np.squeeze(testY)[:,None][:200]),'r')\n",
    "plt.plot(np.arange(look_ahead),predictions,'r',label=\"prediction\")\n",
    "plt.plot(np.arange(look_ahead),dataset[train_size:(train_size+look_ahead)],label=\"test function\")\n",
    "plt.legend()\n",
    "plt.show()"
   ]
  },
  {
   "cell_type": "markdown",
   "metadata": {},
   "source": [
    "## Stateful LSTM stacked DEEPER!"
   ]
  },
  {
   "cell_type": "code",
   "execution_count": null,
   "metadata": {},
   "outputs": [],
   "source": [
    "%%time\n",
    "theano.config.compute_test_value = \"ignore\"\n",
    "# create and fit the LSTM network\n",
    "batch_size = 1\n",
    "model = Sequential()\n",
    "for i in range(2):\n",
    "    model.add(LSTM(32, batch_input_shape=(batch_size, look_back, 1), stateful=True, return_sequences=True))\n",
    "    model.add(Dropout(0.3))\n",
    "model.add(LSTM(32, batch_input_shape=(batch_size, look_back, 1), stateful=True))\n",
    "model.add(Dropout(0.3))\n",
    "model.add(Dense(1))\n",
    "model.compile(loss='mean_squared_error', optimizer='adam')\n",
    "for i in range(200):\n",
    "    model.fit(trainX, trainY, nb_epoch=1, batch_size=batch_size, verbose=0, shuffle=False)\n",
    "    model.reset_states()"
   ]
  },
  {
   "cell_type": "code",
   "execution_count": null,
   "metadata": {},
   "outputs": [],
   "source": [
    "trainScore = model.evaluate(trainX, trainY, batch_size=batch_size, verbose=0)\n",
    "print('Train Score: ', trainScore)\n",
    "testScore = model.evaluate(testX[:252], testY[:252], batch_size=batch_size, verbose=0)\n",
    "print('Test Score: ', testScore)"
   ]
  },
  {
   "cell_type": "code",
   "execution_count": null,
   "metadata": {
    "collapsed": true
   },
   "outputs": [],
   "source": [
    "look_ahead = 250\n",
    "trainPredict = [np.vstack([trainX[-1][1:], trainY[-1]])]\n",
    "predictions = np.zeros((look_ahead,1))\n",
    "for i in range(look_ahead):\n",
    "    prediction = model.predict(np.array([trainPredict[-1]]), batch_size=batch_size)\n",
    "    predictions[i] = prediction\n",
    "    trainPredict.append(np.vstack([trainPredict[-1][1:],prediction]))"
   ]
  },
  {
   "cell_type": "code",
   "execution_count": null,
   "metadata": {},
   "outputs": [],
   "source": [
    "plt.figure(figsize=(12,5))\n",
    "# plt.plot(np.arange(len(trainX)),np.squeeze(trainX))\n",
    "# plt.plot(np.arange(200),scaler.inverse_transform(np.squeeze(trainPredict)[:,None][1:]))\n",
    "# plt.plot(np.arange(200),scaler.inverse_transform(np.squeeze(testY)[:,None][:200]),'r')\n",
    "plt.plot(np.arange(look_ahead),predictions,'r',label=\"prediction\")\n",
    "plt.plot(np.arange(look_ahead),dataset[train_size:(train_size+look_ahead)],label=\"test function\")\n",
    "plt.legend()\n",
    "plt.show()"
   ]
  },
  {
   "cell_type": "markdown",
   "metadata": {},
   "source": [
    "## Normal Deep Learning in Keras"
   ]
  },
  {
   "cell_type": "code",
   "execution_count": null,
   "metadata": {},
   "outputs": [],
   "source": [
    "%%time\n",
    "trainX = np.squeeze(trainX)\n",
    "testX = np.squeeze(testX)\n",
    "theano.config.compute_test_value = \"ignore\"\n",
    "# create and fit the LSTM network\n",
    "batch_size = 1\n",
    "model = Sequential()\n",
    "model.add(Dense(output_dim=32,input_dim=40,activation=\"relu\"))\n",
    "model.add(Dropout(0.3))\n",
    "for i in range(2):\n",
    "    model.add(Dense(output_dim=32,activation=\"relu\"))\n",
    "    model.add(Dropout(0.3))\n",
    "model.add(Dense(1))\n",
    "model.compile(loss='mean_squared_error', optimizer='adagrad')\n",
    "model.fit(trainX, trainY, nb_epoch=100, batch_size=32, verbose=0)"
   ]
  },
  {
   "cell_type": "code",
   "execution_count": null,
   "metadata": {},
   "outputs": [],
   "source": [
    "trainScore = model.evaluate(trainX, trainY, batch_size=batch_size, verbose=0)\n",
    "print('Train Score: ', trainScore)\n",
    "testScore = model.evaluate(testX[:252], testY[:252], batch_size=batch_size, verbose=0)\n",
    "print('Test Score: ', testScore)"
   ]
  },
  {
   "cell_type": "code",
   "execution_count": null,
   "metadata": {},
   "outputs": [],
   "source": [
    "look_ahead = 250\n",
    "xval = np.hstack([trainX[-1][1:], trainY[-1]])[None,:]\n",
    "predictions = np.zeros((look_ahead,1))\n",
    "for i in range(look_ahead):\n",
    "    prediction = model.predict(xval, batch_size=32)\n",
    "    predictions[i] = prediction\n",
    "    xval = np.hstack([xval[:,1:],prediction])"
   ]
  },
  {
   "cell_type": "code",
   "execution_count": null,
   "metadata": {},
   "outputs": [],
   "source": [
    "plt.figure(figsize=(12,5))\n",
    "# plt.plot(np.arange(len(trainX)),np.squeeze(trainX))\n",
    "# plt.plot(np.arange(200),scaler.inverse_transform(np.squeeze(trainPredict)[:,None][1:]))\n",
    "# plt.plot(np.arange(200),scaler.inverse_transform(np.squeeze(testY)[:,None][:200]),'r')\n",
    "plt.plot(np.arange(look_ahead),predictions,'r',label=\"prediction\")\n",
    "plt.plot(np.arange(look_ahead),dataset[train_size:(train_size+look_ahead)],label=\"test function\")\n",
    "plt.legend()\n",
    "plt.show()"
   ]
  },
  {
   "cell_type": "markdown",
   "metadata": {
    "collapsed": true
   },
   "source": [
    "1000개의 샘플이 있다.\n",
    "타임스탬프는 100개이다. 즉 100 순간의 데이터가 있다. 하나의 타임스템프는 10개의 백터 길이가 있다. \n",
    "입력자료는 1000 * 100 * 10 \n",
    "배치사이즈는 20개이다.\n",
    "\n",
    "배치사이즈를 지정하지 않는다면, \n",
    "1000개의 샘플을 모두 취한다."
   ]
  },
  {
   "cell_type": "code",
   "execution_count": null,
   "metadata": {
    "collapsed": true
   },
   "outputs": [],
   "source": []
  },
  {
   "cell_type": "code",
   "execution_count": null,
   "metadata": {
    "collapsed": true
   },
   "outputs": [],
   "source": []
  }
 ],
 "metadata": {
  "kernelspec": {
   "display_name": "Python 2",
   "language": "python",
   "name": "python2"
  },
  "language_info": {
   "codemirror_mode": {
    "name": "ipython",
    "version": 2
   },
   "file_extension": ".py",
   "mimetype": "text/x-python",
   "name": "python",
   "nbconvert_exporter": "python",
   "pygments_lexer": "ipython2",
   "version": "2.7.13"
  },
  "latex_envs": {
   "bibliofile": "biblio.bib",
   "cite_by": "apalike",
   "current_citInitial": 1,
   "eqLabelWithNumbers": true,
   "eqNumInitial": 0
  }
 },
 "nbformat": 4,
 "nbformat_minor": 1
}

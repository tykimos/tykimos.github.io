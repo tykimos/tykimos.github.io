{
 "cells": [
  {
   "cell_type": "raw",
   "metadata": {},
   "source": [
    "---\n",
    "layout: post\n",
    "title:  \"니NN어데까지해봤노? GNN함가자\"\n",
    "author: 김태영\n",
    "date:   2018-09-11 13:00:00\n",
    "categories: seminar\n",
    "comments: true\n",
    "image: http://tykimos.github.io/warehouse/2018-9-11-ISS_xNN_Graph_Neural_Network_title.png\n",
    "---"
   ]
  },
  {
   "cell_type": "markdown",
   "metadata": {},
   "source": [
    "인공지능 구현에 기반이 되는 신경망 기술은 산업과 학계를 불문하고 엄청난 관심을 받고 있으며, 이미지 인식/기계번역/자율주행과 같은 응용으로 이어지고 있습니다. 하지만 많은 연구들이 이미지, 자연어를 대상으로 이루어지고 있으며, 이 연구들에 사용되는 신경망은 합성곱 신경망(Convolutional Neural Network; CNN), 재귀 신경망(Recurrent Neural Network; RNN) 등이 사용되고 있습니다. 하지만 위 데이터와 같은 정규적 데이터들이 아닌 비정규적 데이터들이 존재하고 또 다루어져야할 필요성이 있습니다. 이번 세미나에서는 KAIST 화학과 석박사통합과정인 류성옥님을 모시고, 이런 그래프로 표현되는 비정규적 데이터들(예) 네트워크, 분자, 물리 시스템)을 다루는데 가장 적합한 그래프 신경망에 대해 다루고자 합니다. 류성옥님은 양자역학을 연구하다가, AI가 세상을 바꿀 기술이라 생각되어 딥러닝을 공부하는 대학원생입니다. AI를 활용하여 Smart Drug Discovery를 연구 중에 있습니다. [1st DLCAT](https://tykimos.github.io/2018/06/28/ISS_1st_Deep_Learning_Conference_All_Together/)에서도 발표하셨습니다~\n",
    "\n",
    "    ISS란 Intelligence Space Seminar의 약자로 인공지능 기술과 관련된 인스페이스의 사내 세미나를 말합니다. 어렵게 모신 전문가분들의 주옥같은 내용을 공유하고자 오픈 세미나로 진행하고 있습니다.\n",
    "\n",
    "![img](http://tykimos.github.io/warehouse/2018-9-11-ISS_xNN_Graph_Neural_Network_title.png)"
   ]
  },
  {
   "cell_type": "markdown",
   "metadata": {},
   "source": [
    "---\n",
    "### 프로그램\n",
    "\n",
    "1. 일시 : 2018년 9월 11일 오후 1시 40분\n",
    "2. 장소 : 대전 유성구 대학로291 KAIST 나노종합기술원 9F 대전창조경제혁신센터 E19\n",
    "3. 주최 : (주)인스페이스, 케라스 코리아, 대딥사\n",
    "4. 후원 : 대전창조경제혁신센터\n",
    "5. 발표내용\n",
    "\n",
    "    * 그래프 신경망의 필요성\n",
    "    * 그래프 신경망의 이론 및 실용적인 구현에 필요한 지식 \n",
    "    * 그래프 신경망의 응용사례\n",
    "        1. 네트워크 분석\n",
    "        2. 분자과학\n",
    "        3. 상호작용하는 물리시스템\n",
    "    * 실습 :　그래프 신경망의 구현\n",
    "        1. Graph Convolutional Network\n",
    "        2. Graph Attention Network\n",
    "        3. Gated Graph Neural Network\n",
    "        4. Graph Autoencoder\n",
    "\n",
    "6. 대상 : 인공지능 및 딥러닝에 관심있거나 관련 연구를 수행하시는 분들"
   ]
  },
  {
   "cell_type": "markdown",
   "metadata": {},
   "source": [
    "---\n",
    "### 참고자료\n",
    "\n",
    "1. 실습 깃허브 : https://github.com/SeongokRyu/Graph-neural-networks/tree/master/tutorials\n",
    "2. 블로그 : https://seongokryu.github.io/"
   ]
  },
  {
   "cell_type": "markdown",
   "metadata": {},
   "source": [
    "---\n",
    "\n",
    "### 참가신청 \n",
    "\n",
    "댓글로 참가신청을 받습니다. 댓글 양식은 아래와 같으며 '한 줄'로 작성 부탁드리겠습니다. \n",
    "\n",
    "* 이름, 기관, 이메일, 분야, 참석계기\n",
    "* 예) 김태영, 인스페이스, tykim@inspace.re.kr, 우주, 위성 운영 효율화를 위해 강화학습을 적용해보고자 합니다.\n",
    "\n",
    "댓글을 달아도 스팸처리되어서 바로 표시 안될 수도 있습니다. 제가 다 스팸아님으로 처리하고 있으니, 크게 신경 안 쓰셔도 됩니다. 그리고 혹시 참석신청하셨으나 부득이한 이유로 참석이 힘드신 분은 미리 알려주세요~ 다른 분들에게 참석 기회를 드리고자 합니다."
   ]
  },
  {
   "cell_type": "markdown",
   "metadata": {},
   "source": [
    "---\n",
    "\n",
    "### xNN\n",
    "\n",
    "xNN 시리즈는 계속 됩니다. \n",
    "\n",
    "* ANN\n",
    "* BNN\n",
    "    * Bayesian Neural Network\n",
    "* CNN\n",
    "* DNN\n",
    "* ENN\n",
    "* FNN\n",
    "* GNN\n",
    "    * Graph Neural Network\n",
    "* HNN\n",
    "* INN\n",
    "* JNN\n",
    "* KNN\n",
    "* LNN\n",
    "* MNN\n",
    "* ONN\n",
    "* PNN\n",
    "* QNN\n",
    "* RNN\n",
    "* SNN\n",
    "* TNN\n",
    "* UNN\n",
    "* VNN\n",
    "* WNN\n",
    "* XNN\n",
    "* YNN\n",
    "* ZNN"
   ]
  },
  {
   "cell_type": "markdown",
   "metadata": {
    "collapsed": true
   },
   "source": [
    "---\n",
    "\n",
    "### 같이 보기\n",
    "\n",
    "* [다른 세미나 보기](https://tykimos.github.io/seminar/)\n",
    "* [케라스 기초 강좌](https://tykimos.github.io/lecture/)\n",
    "* [케라스 코리아](https://www.facebook.com/groups/KerasKorea/)"
   ]
  }
 ],
 "metadata": {
  "kernelspec": {
   "display_name": "Python 3",
   "language": "python",
   "name": "python3"
  },
  "language_info": {
   "codemirror_mode": {
    "name": "ipython",
    "version": 3
   },
   "file_extension": ".py",
   "mimetype": "text/x-python",
   "name": "python",
   "nbconvert_exporter": "python",
   "pygments_lexer": "ipython3",
   "version": "3.6.4"
  }
 },
 "nbformat": 4,
 "nbformat_minor": 1
}

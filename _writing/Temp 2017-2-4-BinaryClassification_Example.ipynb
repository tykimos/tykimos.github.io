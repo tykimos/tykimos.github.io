{
 "cells": [
  {
   "cell_type": "raw",
   "metadata": {},
   "source": [
    "---\n",
    "layout: post\n",
    "title:  \"이진분류 해보기\"\n",
    "author: Taeyoung, Kim\n",
    "date:   2017-02-04 10:00:00\n",
    "categories: Keras\n",
    "comments: true\n",
    "---"
   ]
  },
  {
   "cell_type": "markdown",
   "metadata": {},
   "source": [
    "본 강좌에서는 이진분류(binary classification)을 다층 퍼셉트론으로 해보겠습니다. 다음과 같은 순서로 진행하겠습니다.\n",
    "\n",
    "1. 데이터셋 준비하기\n",
    "1. 모델 구성하기\n",
    "1. 모델 엮기\n",
    "1. 모델 학습시키기\n",
    "1. 모델 사용하기"
   ]
  },
  {
   "cell_type": "markdown",
   "metadata": {},
   "source": [
    "---\n",
    "\n",
    "### 데이터셋 준비하기\n",
    "\n",
    "The dataset we will use in this tutorial is the Sonar dataset. This is a dataset that describes sonar chirp returns bouncing o↵ di↵erent surfaces. The 60 input variables are the strength of the returns at di↵erent angles. It is a binary classification problem that requires a model to di↵erentiate rocks from metal cylinders.\n",
    "It is a well understood dataset. All of the variables are continuous and generally in the range of 0 to 1. The output variable is a string M for mine and R for rock, which will need to be converted to integers 1 and 0. The dataset contains 208 observations. The dataset is in the bundle of source code provided with this book. Alternatively, you can download the dataset and place it in your working directory with the filename sonar.csv1.\n",
    "\n",
    "[다운](https://archive.ics.uci.edu/ml/machine-learning-databases/undocumented/connectionist-bench/sonar/sonar.all-data)\n"
   ]
  },
  {
   "cell_type": "code",
   "execution_count": 5,
   "metadata": {},
   "outputs": [],
   "source": [
    "# Binary Classification with Sonar Dataset: Standardized\n",
    "import numpy\n",
    "import pandas\n",
    "from keras.models import Sequential\n",
    "from keras.layers import Dense\n",
    "from sklearn.preprocessing import LabelEncoder\n",
    "\n",
    "# fix random seed for reproducibility\n",
    "seed = 7\n",
    "numpy.random.seed(seed)\n"
   ]
  },
  {
   "cell_type": "code",
   "execution_count": 6,
   "metadata": {},
   "outputs": [],
   "source": [
    "# load dataset\n",
    "dataframe = pandas.read_csv(\"warehouse/sonar.all-data\", header=None)\n",
    "dataset = dataframe.values\n",
    "# split into input (X) and output (Y) variables\n",
    "X = dataset[:,0:60].astype(float)\n",
    "Y = dataset[:,60]\n",
    "# encode class values as integers\n",
    "encoder = LabelEncoder()\n",
    "encoder.fit(Y)\n",
    "encoded_Y = encoder.transform(Y)"
   ]
  },
  {
   "cell_type": "markdown",
   "metadata": {},
   "source": [
    "---\n",
    "\n",
    "### 모델 구성하기\n",
    "\n",
    "Dense 클래스를 사용하여 완전 연결 레이어(Fully Connected Layer)를 정의할 수 있다.\n",
    "\n",
    "- 첫번째 인자 : 뉴런의 수\n",
    "- 두번째 인자 : 네트워크 가중치(network weight) 초기화 방법\n",
    " - uniform : 균등분포 (uniform distribution)의 작은 난수들로 초기화 (0~0.05 사이)\n",
    " - normal : 가우시안 분포 (Gaussian distribution)로 생성된 작은 난수들로 초기화 \n",
    "- 세번째 인자 : 활성화 함수(activation function) 지정\n",
    " - relu : rectifier 활성화 함수\n",
    " - sigmoid : sigmoid 활성화 함수\n",
    " - tanh : tanh 활성화 함수\n",
    " \n",
    "마지막 레이어는 sigmoid 할성화 함수를 사용하는데, 이유는 결과가 0과 1사이로 나오는 것을 보장하며, 양성 클래스의 확률로 쉽게 매핑할 수 있기 때문이다. 또한 0.5 임계치(threshold)을 같은 클래스의 범주형 분류(hard classification)를 할 수 있다.\n",
    "\n",
    "- 첫번째 은닉층(hidden layer)는 12개 뉴런을 가지고, 8개 입력을 받아들인다.\n",
    "- 두번째 은닉층은 8개 뉴런을 가진다.\n",
    "- 마지막 레이어는 클래스를 예측하는 1개의 뉴런을 가진다."
   ]
  },
  {
   "cell_type": "code",
   "execution_count": 7,
   "metadata": {
    "collapsed": true
   },
   "outputs": [],
   "source": [
    "# create model\n",
    "model = Sequential()\n",
    "model.add(Dense(60, input_dim=60, init='normal', activation='relu'))\n",
    "model.add(Dense(1, init='normal', activation='sigmoid'))"
   ]
  },
  {
   "cell_type": "code",
   "execution_count": 8,
   "metadata": {},
   "outputs": [
    {
     "data": {
      "image/svg+xml": [
       "<svg height=\"215pt\" viewBox=\"0.00 0.00 307.56 215.00\" width=\"308pt\" xmlns=\"http://www.w3.org/2000/svg\" xmlns:xlink=\"http://www.w3.org/1999/xlink\">\n",
       "<g class=\"graph\" id=\"graph0\" transform=\"scale(1 1) rotate(0) translate(4 211)\">\n",
       "<title>G</title>\n",
       "<polygon fill=\"#ffffff\" points=\"-4,4 -4,-211 303.5557,-211 303.5557,4 -4,4\" stroke=\"transparent\"/>\n",
       "<!-- 4594197840 -->\n",
       "<g class=\"node\" id=\"node1\">\n",
       "<title>4594197840</title>\n",
       "<polygon fill=\"none\" points=\"0,-162.5 0,-206.5 299.5557,-206.5 299.5557,-162.5 0,-162.5\" stroke=\"#000000\"/>\n",
       "<text fill=\"#000000\" font-family=\"Times,serif\" font-size=\"14.00\" text-anchor=\"middle\" x=\"83.6191\" y=\"-180.3\">dense_input_1: InputLayer</text>\n",
       "<polyline fill=\"none\" points=\"167.2383,-162.5 167.2383,-206.5 \" stroke=\"#000000\"/>\n",
       "<text fill=\"#000000\" font-family=\"Times,serif\" font-size=\"14.00\" text-anchor=\"middle\" x=\"195.0728\" y=\"-191.3\">input:</text>\n",
       "<polyline fill=\"none\" points=\"167.2383,-184.5 222.9072,-184.5 \" stroke=\"#000000\"/>\n",
       "<text fill=\"#000000\" font-family=\"Times,serif\" font-size=\"14.00\" text-anchor=\"middle\" x=\"195.0728\" y=\"-169.3\">output:</text>\n",
       "<polyline fill=\"none\" points=\"222.9072,-162.5 222.9072,-206.5 \" stroke=\"#000000\"/>\n",
       "<text fill=\"#000000\" font-family=\"Times,serif\" font-size=\"14.00\" text-anchor=\"middle\" x=\"261.2314\" y=\"-191.3\">(None, 60)</text>\n",
       "<polyline fill=\"none\" points=\"222.9072,-184.5 299.5557,-184.5 \" stroke=\"#000000\"/>\n",
       "<text fill=\"#000000\" font-family=\"Times,serif\" font-size=\"14.00\" text-anchor=\"middle\" x=\"261.2314\" y=\"-169.3\">(None, 60)</text>\n",
       "</g>\n",
       "<!-- 4594197648 -->\n",
       "<g class=\"node\" id=\"node2\">\n",
       "<title>4594197648</title>\n",
       "<polygon fill=\"none\" points=\"31.4932,-81.5 31.4932,-125.5 268.0625,-125.5 268.0625,-81.5 31.4932,-81.5\" stroke=\"#000000\"/>\n",
       "<text fill=\"#000000\" font-family=\"Times,serif\" font-size=\"14.00\" text-anchor=\"middle\" x=\"83.6191\" y=\"-99.3\">dense_1: Dense</text>\n",
       "<polyline fill=\"none\" points=\"135.7451,-81.5 135.7451,-125.5 \" stroke=\"#000000\"/>\n",
       "<text fill=\"#000000\" font-family=\"Times,serif\" font-size=\"14.00\" text-anchor=\"middle\" x=\"163.5796\" y=\"-110.3\">input:</text>\n",
       "<polyline fill=\"none\" points=\"135.7451,-103.5 191.4141,-103.5 \" stroke=\"#000000\"/>\n",
       "<text fill=\"#000000\" font-family=\"Times,serif\" font-size=\"14.00\" text-anchor=\"middle\" x=\"163.5796\" y=\"-88.3\">output:</text>\n",
       "<polyline fill=\"none\" points=\"191.4141,-81.5 191.4141,-125.5 \" stroke=\"#000000\"/>\n",
       "<text fill=\"#000000\" font-family=\"Times,serif\" font-size=\"14.00\" text-anchor=\"middle\" x=\"229.7383\" y=\"-110.3\">(None, 60)</text>\n",
       "<polyline fill=\"none\" points=\"191.4141,-103.5 268.0625,-103.5 \" stroke=\"#000000\"/>\n",
       "<text fill=\"#000000\" font-family=\"Times,serif\" font-size=\"14.00\" text-anchor=\"middle\" x=\"229.7383\" y=\"-88.3\">(None, 60)</text>\n",
       "</g>\n",
       "<!-- 4594197840&#45;&gt;4594197648 -->\n",
       "<g class=\"edge\" id=\"edge1\">\n",
       "<title>4594197840-&gt;4594197648</title>\n",
       "<path d=\"M149.7778,-162.3664C149.7778,-154.1516 149.7778,-144.6579 149.7778,-135.7252\" fill=\"none\" stroke=\"#000000\"/>\n",
       "<polygon fill=\"#000000\" points=\"153.2779,-135.6068 149.7778,-125.6068 146.2779,-135.6069 153.2779,-135.6068\" stroke=\"#000000\"/>\n",
       "</g>\n",
       "<!-- 4594197776 -->\n",
       "<g class=\"node\" id=\"node3\">\n",
       "<title>4594197776</title>\n",
       "<polygon fill=\"none\" points=\"31.4932,-.5 31.4932,-44.5 268.0625,-44.5 268.0625,-.5 31.4932,-.5\" stroke=\"#000000\"/>\n",
       "<text fill=\"#000000\" font-family=\"Times,serif\" font-size=\"14.00\" text-anchor=\"middle\" x=\"83.6191\" y=\"-18.3\">dense_2: Dense</text>\n",
       "<polyline fill=\"none\" points=\"135.7451,-.5 135.7451,-44.5 \" stroke=\"#000000\"/>\n",
       "<text fill=\"#000000\" font-family=\"Times,serif\" font-size=\"14.00\" text-anchor=\"middle\" x=\"163.5796\" y=\"-29.3\">input:</text>\n",
       "<polyline fill=\"none\" points=\"135.7451,-22.5 191.4141,-22.5 \" stroke=\"#000000\"/>\n",
       "<text fill=\"#000000\" font-family=\"Times,serif\" font-size=\"14.00\" text-anchor=\"middle\" x=\"163.5796\" y=\"-7.3\">output:</text>\n",
       "<polyline fill=\"none\" points=\"191.4141,-.5 191.4141,-44.5 \" stroke=\"#000000\"/>\n",
       "<text fill=\"#000000\" font-family=\"Times,serif\" font-size=\"14.00\" text-anchor=\"middle\" x=\"229.7383\" y=\"-29.3\">(None, 60)</text>\n",
       "<polyline fill=\"none\" points=\"191.4141,-22.5 268.0625,-22.5 \" stroke=\"#000000\"/>\n",
       "<text fill=\"#000000\" font-family=\"Times,serif\" font-size=\"14.00\" text-anchor=\"middle\" x=\"229.7383\" y=\"-7.3\">(None, 1)</text>\n",
       "</g>\n",
       "<!-- 4594197648&#45;&gt;4594197776 -->\n",
       "<g class=\"edge\" id=\"edge2\">\n",
       "<title>4594197648-&gt;4594197776</title>\n",
       "<path d=\"M149.7778,-81.3664C149.7778,-73.1516 149.7778,-63.6579 149.7778,-54.7252\" fill=\"none\" stroke=\"#000000\"/>\n",
       "<polygon fill=\"#000000\" points=\"153.2779,-54.6068 149.7778,-44.6068 146.2779,-54.6069 153.2779,-54.6068\" stroke=\"#000000\"/>\n",
       "</g>\n",
       "</g>\n",
       "</svg>"
      ],
      "text/plain": [
       "<IPython.core.display.SVG object>"
      ]
     },
     "execution_count": 8,
     "metadata": {},
     "output_type": "execute_result"
    }
   ],
   "source": [
    "from IPython.display import SVG\n",
    "from keras.utils.visualize_util import model_to_dot\n",
    "\n",
    "SVG(model_to_dot(model, show_shapes=True).create(prog='dot', format='svg'))"
   ]
  },
  {
   "cell_type": "markdown",
   "metadata": {},
   "source": [
    "![svg]({{ site.baseurl }}/posts_warehouse/2017-2-4-1.svg)"
   ]
  },
  {
   "cell_type": "markdown",
   "metadata": {},
   "source": [
    "---\n",
    "\n",
    "### 모델 엮기\n",
    "\n",
    "컴파일 시에 정의해야하는 것들\n",
    "- 가중치 세트를 평가하는 데 사용할 손실함수(loss function)\n",
    " - binary_crossentropy : 이진 분류를 위한 logarithmic loss\n",
    "- 네트워크의 다른 가중치를 검객하는 데 사용되는 최적화 알고리즘\n",
    " - adam : 효율적인 경사 하강법(gradient descent) 알고리즘\n",
    "- 학습과정에서 수집하기 싶은 측정 기준"
   ]
  },
  {
   "cell_type": "code",
   "execution_count": 9,
   "metadata": {},
   "outputs": [],
   "source": [
    "# Compile model\n",
    "model.compile(loss= 'binary_crossentropy', optimizer='adam' , metrics=['accuracy'])"
   ]
  },
  {
   "cell_type": "markdown",
   "metadata": {},
   "source": [
    "---\n",
    "\n",
    "### 모델 학습시키기\n",
    "\n",
    "- nb_epoch : 데이터셋에 대한 반복 횟수\n",
    "- batch_size : 네트워크에서 가중치 개갱신 전에 평가되는 인스턴스의 수"
   ]
  },
  {
   "cell_type": "code",
   "execution_count": 11,
   "metadata": {},
   "outputs": [
    {
     "name": "stdout",
     "output_type": "stream",
     "text": [
      "Epoch 1/100\n",
      "208/208 [==============================] - 0s - loss: 0.6872 - acc: 0.5337     \n",
      "Epoch 2/100\n",
      "208/208 [==============================] - 0s - loss: 0.6729 - acc: 0.5337     \n",
      "Epoch 3/100\n",
      "208/208 [==============================] - 0s - loss: 0.6579 - acc: 0.6346     \n",
      "Epoch 4/100\n",
      "208/208 [==============================] - 0s - loss: 0.6397 - acc: 0.6779     \n",
      "Epoch 5/100\n",
      "208/208 [==============================] - 0s - loss: 0.6145 - acc: 0.7115     \n",
      "Epoch 6/100\n",
      "208/208 [==============================] - 0s - loss: 0.5971 - acc: 0.6779     \n",
      "Epoch 7/100\n",
      "208/208 [==============================] - 0s - loss: 0.5614 - acc: 0.7548     \n",
      "Epoch 8/100\n",
      "208/208 [==============================] - 0s - loss: 0.5394 - acc: 0.7404     \n",
      "Epoch 9/100\n",
      "208/208 [==============================] - 0s - loss: 0.5266 - acc: 0.7548     \n",
      "Epoch 10/100\n",
      "208/208 [==============================] - 0s - loss: 0.5059 - acc: 0.7692     \n",
      "Epoch 11/100\n",
      "208/208 [==============================] - 0s - loss: 0.4863 - acc: 0.7837     \n",
      "Epoch 12/100\n",
      "208/208 [==============================] - 0s - loss: 0.4724 - acc: 0.8029     \n",
      "Epoch 13/100\n",
      "208/208 [==============================] - 0s - loss: 0.4615 - acc: 0.7933     \n",
      "Epoch 14/100\n",
      "208/208 [==============================] - 0s - loss: 0.4661 - acc: 0.7933     \n",
      "Epoch 15/100\n",
      "208/208 [==============================] - 0s - loss: 0.4560 - acc: 0.7740     \n",
      "Epoch 16/100\n",
      "208/208 [==============================] - 0s - loss: 0.4392 - acc: 0.7933     \n",
      "Epoch 17/100\n",
      "208/208 [==============================] - 0s - loss: 0.4365 - acc: 0.7981     \n",
      "Epoch 18/100\n",
      "208/208 [==============================] - 0s - loss: 0.4285 - acc: 0.8029     \n",
      "Epoch 19/100\n",
      "208/208 [==============================] - 0s - loss: 0.4201 - acc: 0.8125     \n",
      "Epoch 20/100\n",
      "208/208 [==============================] - 0s - loss: 0.4125 - acc: 0.8029     \n",
      "Epoch 21/100\n",
      "208/208 [==============================] - 0s - loss: 0.4175 - acc: 0.7981     \n",
      "Epoch 22/100\n",
      "208/208 [==============================] - 0s - loss: 0.4130 - acc: 0.8029     \n",
      "Epoch 23/100\n",
      "208/208 [==============================] - 0s - loss: 0.4079 - acc: 0.7981     \n",
      "Epoch 24/100\n",
      "208/208 [==============================] - 0s - loss: 0.4135 - acc: 0.8221     \n",
      "Epoch 25/100\n",
      "208/208 [==============================] - 0s - loss: 0.4017 - acc: 0.8077     \n",
      "Epoch 26/100\n",
      "208/208 [==============================] - 0s - loss: 0.3964 - acc: 0.7981     \n",
      "Epoch 27/100\n",
      "208/208 [==============================] - 0s - loss: 0.4149 - acc: 0.7933     \n",
      "Epoch 28/100\n",
      "208/208 [==============================] - 0s - loss: 0.3918 - acc: 0.8125     \n",
      "Epoch 29/100\n",
      "208/208 [==============================] - 0s - loss: 0.3858 - acc: 0.8173     \n",
      "Epoch 30/100\n",
      "208/208 [==============================] - 0s - loss: 0.3829 - acc: 0.8173     \n",
      "Epoch 31/100\n",
      "208/208 [==============================] - 0s - loss: 0.3882 - acc: 0.8221     \n",
      "Epoch 32/100\n",
      "208/208 [==============================] - 0s - loss: 0.3825 - acc: 0.8365     \n",
      "Epoch 33/100\n",
      "208/208 [==============================] - 0s - loss: 0.3702 - acc: 0.8125     \n",
      "Epoch 34/100\n",
      "208/208 [==============================] - 0s - loss: 0.3708 - acc: 0.8173     \n",
      "Epoch 35/100\n",
      "208/208 [==============================] - 0s - loss: 0.3672 - acc: 0.8125     \n",
      "Epoch 36/100\n",
      "208/208 [==============================] - 0s - loss: 0.3708 - acc: 0.8365     \n",
      "Epoch 37/100\n",
      "208/208 [==============================] - 0s - loss: 0.3687 - acc: 0.8510     \n",
      "Epoch 38/100\n",
      "208/208 [==============================] - 0s - loss: 0.3630 - acc: 0.8413     \n",
      "Epoch 39/100\n",
      "208/208 [==============================] - 0s - loss: 0.3560 - acc: 0.8413     \n",
      "Epoch 40/100\n",
      "208/208 [==============================] - 0s - loss: 0.3511 - acc: 0.8413     \n",
      "Epoch 41/100\n",
      "208/208 [==============================] - 0s - loss: 0.3511 - acc: 0.8221     \n",
      "Epoch 42/100\n",
      "208/208 [==============================] - 0s - loss: 0.3503 - acc: 0.8413     \n",
      "Epoch 43/100\n",
      "208/208 [==============================] - 0s - loss: 0.3437 - acc: 0.8462     \n",
      "Epoch 44/100\n",
      "208/208 [==============================] - 0s - loss: 0.3459 - acc: 0.8606     \n",
      "Epoch 45/100\n",
      "208/208 [==============================] - 0s - loss: 0.3355 - acc: 0.8654     \n",
      "Epoch 46/100\n",
      "208/208 [==============================] - 0s - loss: 0.3362 - acc: 0.8510     \n",
      "Epoch 47/100\n",
      "208/208 [==============================] - 0s - loss: 0.3412 - acc: 0.8510     \n",
      "Epoch 48/100\n",
      "208/208 [==============================] - 0s - loss: 0.3239 - acc: 0.8750     \n",
      "Epoch 49/100\n",
      "208/208 [==============================] - 0s - loss: 0.3286 - acc: 0.8654     \n",
      "Epoch 50/100\n",
      "208/208 [==============================] - 0s - loss: 0.3249 - acc: 0.8558     \n",
      "Epoch 51/100\n",
      "208/208 [==============================] - 0s - loss: 0.3321 - acc: 0.8173     \n",
      "Epoch 52/100\n",
      "208/208 [==============================] - 0s - loss: 0.3217 - acc: 0.8798     \n",
      "Epoch 53/100\n",
      "208/208 [==============================] - 0s - loss: 0.3185 - acc: 0.8654     \n",
      "Epoch 54/100\n",
      "208/208 [==============================] - 0s - loss: 0.3145 - acc: 0.8798     \n",
      "Epoch 55/100\n",
      "208/208 [==============================] - 0s - loss: 0.3111 - acc: 0.8702     \n",
      "Epoch 56/100\n",
      "208/208 [==============================] - 0s - loss: 0.3057 - acc: 0.8846     \n",
      "Epoch 57/100\n",
      "208/208 [==============================] - 0s - loss: 0.3107 - acc: 0.8702     \n",
      "Epoch 58/100\n",
      "208/208 [==============================] - 0s - loss: 0.3053 - acc: 0.8798     \n",
      "Epoch 59/100\n",
      "208/208 [==============================] - 0s - loss: 0.3010 - acc: 0.8846     \n",
      "Epoch 60/100\n",
      "208/208 [==============================] - 0s - loss: 0.3156 - acc: 0.8365     \n",
      "Epoch 61/100\n",
      "208/208 [==============================] - 0s - loss: 0.2951 - acc: 0.8894     \n",
      "Epoch 62/100\n",
      "208/208 [==============================] - 0s - loss: 0.3113 - acc: 0.8510     \n",
      "Epoch 63/100\n",
      "208/208 [==============================] - 0s - loss: 0.2893 - acc: 0.8798     \n",
      "Epoch 64/100\n",
      "208/208 [==============================] - 0s - loss: 0.2918 - acc: 0.8798     \n",
      "Epoch 65/100\n",
      "208/208 [==============================] - 0s - loss: 0.2908 - acc: 0.8654     \n",
      "Epoch 66/100\n",
      "208/208 [==============================] - 0s - loss: 0.3090 - acc: 0.8558     \n",
      "Epoch 67/100\n",
      "208/208 [==============================] - 0s - loss: 0.2824 - acc: 0.8942     \n",
      "Epoch 68/100\n",
      "208/208 [==============================] - 0s - loss: 0.2899 - acc: 0.8702     \n",
      "Epoch 69/100\n",
      "208/208 [==============================] - 0s - loss: 0.2775 - acc: 0.8942     \n",
      "Epoch 70/100\n",
      "208/208 [==============================] - 0s - loss: 0.2739 - acc: 0.8846     \n",
      "Epoch 71/100\n",
      "208/208 [==============================] - 0s - loss: 0.2653 - acc: 0.9038     \n",
      "Epoch 72/100\n",
      "208/208 [==============================] - 0s - loss: 0.2743 - acc: 0.8942     \n",
      "Epoch 73/100\n",
      "208/208 [==============================] - 0s - loss: 0.2832 - acc: 0.8750     \n",
      "Epoch 74/100\n",
      "208/208 [==============================] - 0s - loss: 0.2866 - acc: 0.8750     \n",
      "Epoch 75/100\n",
      "208/208 [==============================] - 0s - loss: 0.2659 - acc: 0.8990     \n",
      "Epoch 76/100\n",
      "208/208 [==============================] - 0s - loss: 0.2677 - acc: 0.8942     \n",
      "Epoch 77/100\n",
      "208/208 [==============================] - 0s - loss: 0.2696 - acc: 0.8750     \n",
      "Epoch 78/100\n",
      "208/208 [==============================] - 0s - loss: 0.2580 - acc: 0.8750     \n",
      "Epoch 79/100\n",
      "208/208 [==============================] - 0s - loss: 0.2536 - acc: 0.8990     \n",
      "Epoch 80/100\n",
      "208/208 [==============================] - 0s - loss: 0.2526 - acc: 0.9038     \n",
      "Epoch 81/100\n",
      "208/208 [==============================] - 0s - loss: 0.2534 - acc: 0.8942     \n",
      "Epoch 82/100\n",
      "208/208 [==============================] - 0s - loss: 0.2512 - acc: 0.9038     \n",
      "Epoch 83/100\n",
      "208/208 [==============================] - 0s - loss: 0.2470 - acc: 0.8894     \n",
      "Epoch 84/100\n",
      "208/208 [==============================] - 0s - loss: 0.2385 - acc: 0.8846     \n",
      "Epoch 85/100\n",
      "208/208 [==============================] - 0s - loss: 0.2400 - acc: 0.9038     \n",
      "Epoch 86/100\n",
      "208/208 [==============================] - 0s - loss: 0.2358 - acc: 0.9087     \n",
      "Epoch 87/100\n",
      "208/208 [==============================] - 0s - loss: 0.2412 - acc: 0.9087     \n",
      "Epoch 88/100\n",
      "208/208 [==============================] - 0s - loss: 0.2373 - acc: 0.9038     \n",
      "Epoch 89/100\n",
      "208/208 [==============================] - 0s - loss: 0.2334 - acc: 0.9231     \n",
      "Epoch 90/100\n",
      "208/208 [==============================] - 0s - loss: 0.2288 - acc: 0.9135     \n",
      "Epoch 91/100\n",
      "208/208 [==============================] - 0s - loss: 0.2397 - acc: 0.8894     \n",
      "Epoch 92/100\n",
      "208/208 [==============================] - 0s - loss: 0.2223 - acc: 0.9087     \n",
      "Epoch 93/100\n",
      "208/208 [==============================] - 0s - loss: 0.2267 - acc: 0.9087     \n",
      "Epoch 94/100\n",
      "208/208 [==============================] - 0s - loss: 0.2226 - acc: 0.9135     \n",
      "Epoch 95/100\n",
      "208/208 [==============================] - 0s - loss: 0.2179 - acc: 0.9135     \n",
      "Epoch 96/100\n",
      "208/208 [==============================] - 0s - loss: 0.2130 - acc: 0.9375     \n",
      "Epoch 97/100\n",
      "208/208 [==============================] - 0s - loss: 0.2181 - acc: 0.8990     \n",
      "Epoch 98/100\n",
      "208/208 [==============================] - 0s - loss: 0.2160 - acc: 0.9087     \n",
      "Epoch 99/100\n",
      "208/208 [==============================] - 0s - loss: 0.2220 - acc: 0.9135     \n",
      "Epoch 100/100\n",
      "208/208 [==============================] - 0s - loss: 0.2173 - acc: 0.9038     \n"
     ]
    },
    {
     "data": {
      "text/plain": [
       "<keras.callbacks.History at 0x113019350>"
      ]
     },
     "execution_count": 11,
     "metadata": {},
     "output_type": "execute_result"
    }
   ],
   "source": [
    "# Fit the model\n",
    "model.fit(X, encoded_Y, nb_epoch=100, batch_size=5) # nb_epoch 150"
   ]
  },
  {
   "cell_type": "markdown",
   "metadata": {},
   "source": [
    "---\n",
    "\n",
    "### 모델 사용하기"
   ]
  },
  {
   "cell_type": "code",
   "execution_count": 15,
   "metadata": {},
   "outputs": [
    {
     "name": "stdout",
     "output_type": "stream",
     "text": [
      " 32/208 [===>..........................] - ETA: 0s\n",
      "acc: 94.23%\n"
     ]
    }
   ],
   "source": [
    "# evaliuate\n",
    "scores = model.evaluate(X, encoded_Y)\n",
    "\n",
    "print(\"\")\n",
    "print(\"%s: %.2f%%\" %(model.metrics_names[1], scores[1]*100))"
   ]
  },
  {
   "cell_type": "markdown",
   "metadata": {
    "collapsed": true
   },
   "source": [
    "---\n",
    "\n",
    "### 같이 보기\n",
    "\n",
    "* [강좌 목차](https://tykimos.github.io/2017/01/27/Keras_Lecture_Plan/)\n",
    "* 이전 : [딥러닝 이야기/레이어 이야기](https://tykimos.github.io/2017/01/27/Layer_Talk/)\n",
    "* 다음 : [딥러닝 기본 실습/컨볼루션 신경망 모델 만들어보기](https://tykimos.github.io/2017/02/04/CNN_Getting_Started/)"
   ]
  },
  {
   "cell_type": "code",
   "execution_count": null,
   "metadata": {
    "collapsed": true
   },
   "outputs": [],
   "source": []
  }
 ],
 "metadata": {
  "kernelspec": {
   "display_name": "Python 2",
   "language": "python",
   "name": "python2"
  },
  "language_info": {
   "codemirror_mode": {
    "name": "ipython",
    "version": 2
   },
   "file_extension": ".py",
   "mimetype": "text/x-python",
   "name": "python",
   "nbconvert_exporter": "python",
   "pygments_lexer": "ipython2",
   "version": "2.7.13"
  }
 },
 "nbformat": 4,
 "nbformat_minor": 1
}

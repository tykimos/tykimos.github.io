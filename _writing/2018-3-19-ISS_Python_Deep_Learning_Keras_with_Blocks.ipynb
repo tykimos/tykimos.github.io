{
 "cells": [
  {
   "cell_type": "raw",
   "metadata": {},
   "source": [
    "---\n",
    "layout: post\n",
    "title:  \"[ISS 세미나] 김태영님, 블록과 함께하는 파이썬 딥러닝 케라스\"\n",
    "author: 김태영\n",
    "date:   2018-03-19 14:00:00\n",
    "categories: seminar\n",
    "comments: true\n",
    "image: http://tykimos.github.io/warehouse/2018-3-19-ISS_Python_Deep_Learning_Keras_with_Blocks_title.png\n",
    "---"
   ]
  },
  {
   "cell_type": "markdown",
   "metadata": {},
   "source": [
    "이번 ISS에서는 \"블록과 함께하는 파이썬 딥러닝 케라스\"란 주제로 발표합니다. 딥러닝 기본 개념을 익히고 딥러닝 기반 모델을 쉽게 만들어볼 수 있는 ‘케라스’라는 딥러닝 라이브러리에 대해서 알아봅니다. 케라스 코드를 ‘블록’ 개념과 매칭하여 직관적으로 모델을 이해할 수 있는 방법에 대해 연습한 후 다양한 기초 문제를 살펴봅니다. 생성모델과 딥강화학습에 대해서도 어떤 것인지 대충 알아보겠습니다. 그리고 분야별 라이트닝 톡을 40분간 진행할 예정입니다. 많은 관심 부탁드리겠습니다. \n",
    "\n",
    "    ISS란 Intelligence Space Seminar의 약자로 인공지능 기술과 관련된 인스페이스의 사내 세미나를 말합니다. 어렵게 모신 전문가분들의 주옥같은 내용을 공유하고자 오픈 세미나로 진행하고 있습니다.\n",
    "    \n",
    "![img](http://tykimos.github.io/warehouse/2018-3-19-ISS_Python_Deep_Learning_Keras_with_Blocks_title.png)"
   ]
  },
  {
   "cell_type": "markdown",
   "metadata": {},
   "source": [
    "---\n",
    "### 발표자 및 발표자료\n",
    "\n",
    "|구분|소개|\n",
    "|-|-|\n",
    "|![img](http://tykimos.github.io/warehouse/2018-3-19-ISS_Python_Deep_Learning_Keras_with_Blocks_tykimos.jpg)|김태영, (주)인스페이스 (기초 강좌)<br><br>[블록과 함께하는 파이썬 딥러닝 케라스]<br><br>비전공자분들이 쉽게 딥러닝 모델을 개발할 수 있도록 케라스 라이브러리 소개와 블록 비유를 통해 다양한 모델을 살펴보겠습니다.<br><br>[발표자료보기](https://docs.google.com/presentation/d/1dCyZmxGQgICmUp4t_ora4K3q2J52oxPw5CWFIrC0J-k/edit?usp=sharing)|\n",
    "|![img](http://tykimos.github.io/warehouse/2018-3-19-ISS_Python_Deep_Learning_Keras_with_Blocks_yoyogo96.jpg)|유용균, 한국원자력연구원 (라이트닝 톡)<br><br>[딥러닝을 이용한 최적설계 및 시뮬레이션 소개]<br><br>딥러닝 기술은 물리 화학 기계 등 광범위한 과학 분야에 적용되고 있습니다. 전산 시물레이션  및 최적설계 분야에 대한 적용 사례와 진행 중인 연구를 간단하게 소개드리겠습니다.<br><br>[발표자료보기](http://tykimos.github.io/warehouse/2018-3-19-ISS_Python_Deep_Learning_Keras_with_Blocks_yoyogo96.pdf)|\n",
    "|![img](http://tykimos.github.io/warehouse/2018-3-19-ISS_Python_Deep_Learning_Keras_with_Blocks_ivyheart2.png)|송규예, OrbisAI (라이트닝 톡)<br><br>[딥러닝을 활용한 IHCI 측면에서의 감성분석]<br><br>딥러닝도 결국 인간을 위한 기술이므로, 딥러닝이 적용된 기계와 인간과의 상호작용 측면에 있어 화두가 되는 것이 '감성' 부분입니다. 딥러닝을 활용한 인간의 감성분석 연구사례와 이와 관련한 일을 하고 있는 저희 회사를 소개합니다.<br><br>[발표자료보기](http://tykimos.github.io/warehouse/2018-3-19-ISS_Python_Deep_Learning_Keras_with_Blocks_ivyheart2.pdf)|\n",
    "|![img](http://tykimos.github.io/warehouse/2018-3-19-ISS_Python_Deep_Learning_Keras_with_Blocks_psm.png)|박상민, 대덕소프트웨어마이스터고등학교 (라이트닝 톡)<br><br>[근전도 생체신호 데이터로 손 모양 생성하기]<br><br>인공지능 개발자를 꿈꾸는 한국의 어느 평범한(?) 고등학교 3학년입니다. 임베디드 SW와 딥러닝을 주로 공부하고 있습니다. 근전도 생체신호, 자이로 등의 데이터와 딥러닝의 생성모델(GAN)로 손의 모양을 생성해내는 프로젝트에 대해서 소개드리겠습니다.<br><br>[발표자료보기](http://tykimos.github.io/warehouse/2018-3-19-ISS_Python_Deep_Learning_Keras_with_Blocks_ivyheart2.pdf)|\n",
    "|![img](http://tykimos.github.io/warehouse/2018-3-19-ISS_Python_Deep_Learning_Keras_with_Blocks_jmj.jpg)|전미정, iOS 개발자 (라이트닝 톡)<br><br>[케라스와 함께하는 모바일 딥러닝]<br><br>딥러닝을 모바일에서 어떻게 활용하는지에 대해 소개하고 케라스를 이용해 실제 모바일에서 구동하는 애플리케이션 제작을 공유합니다.<br><br>[발표자료보기](http://tykimos.github.io/warehouse/2018-3-19-ISS_Python_Deep_Learning_Keras_with_Blocks_jmj.pdf)|\n",
    "|![img](http://tykimos.github.io/warehouse/2018-3-19-ISS_Python_Deep_Learning_Keras_with_Blocks_pes.png)|박은수, 경희대학교 우주탐사학과 (라이트닝 톡)<br><br>[우주기상 소개 및 딥러닝 적용 사례]<br><br>우주기상은 천문학 분야에서 우리 일상 생활과 가장 밀접한 분야 중 하나입니다. 우주기상이란 무엇인지, 이 분야에서 수십년간 축적되어온 방대한 양의 데이터, 그리고 최근 딥러닝을 적용하여 수행하고 있는 연구에 대하여 소개합니다.<br><br>[발표자료보기](http://tykimos.github.io/warehouse/2018-3-19-ISS_Python_Deep_Learning_Keras_with_Blocks_pes.pdf)|"
   ]
  },
  {
   "cell_type": "markdown",
   "metadata": {},
   "source": [
    "---\n",
    "### 프로그램\n",
    "\n",
    "* 일시: 2018년 3월 19일 오후 2시 ~ 오후 6시\n",
    "* 장소: 대전 유성구 대학로291 KAIST 나노종합기술원 9F 대전창조경제혁신센터 E19\n",
    "* 인사나누기 (13:40~14:00)\n",
    "* 1부 (14:00~14:50)\n",
    "    * [딥러닝 이야기] '딥러닝'에서 왜 '딥'이고, 무엇을 '러닝(학습)'하는 지에 대한 이야기를 합니다.\n",
    "    * [케라스 이야기] '케라스'에 대한 의미와 케라스의 특징 및 장단점에 대해서 알아봅니다.\n",
    "    * [케라스 개념잡기] 가장 기초적인 케라스 샘플 코드를 살펴보고 학습 방법에 대해서 살펴봅니다.\n",
    "    * [태양에서 세포까지 극한알바] 여러 분야에서 케라스 기반 딥러닝 모델 사례를 살펴봅니다.\n",
    "    * [케라스 코리아] 모두의 손에 딥러닝 툴을 쥐어지게 하자라는 케라스 비전을 공유하기 위한 그룹에 대해서 알아봅니다. 여러 분야에서 적용하고자 하는 노력에 대해서 알아봅니다.\n",
    "* 분야별 라이트닝 톡 (15:00~15:30)\n",
    "    * [딥러닝을 이용한 최적설계 및 시뮬레이션 소개] 유용균님, 한국원자력연구원\n",
    "    * [딥러닝을 활용한 IHCI 측면에서의 감성분석] 송규예님, OrbisAI\n",
    "* 2부 (15:30~16:20)\n",
    "    * [레이어 개념잡기] 가장 기초적인 뉴런부터 다층퍼셉트론 신경망, 컨볼루션 신경망, 순환 신경망을 구성하고 있는 레이어에 대한 개념을 알아봅니다.\n",
    "    * [딥브릭 이야기] 딥러닝 레이어 개념을 손에 잡히는 실체로 단순화 시킨 '블록’에 비유한 딥브릭에 대해서 알아봅니다. \n",
    "    * [딥브릭 레시피 살펴보기] 문제에 따른 딥브릭 레시피를 살펴보면서 문제와 모델을 매칭시키는 연습을 해봅니다.\n",
    "* 분야별 라이트닝 톡 (16:30~17:15)\n",
    "    * [근전도 생체신호 데이터로 손 모양 생성하기] 박상민님, 대덕소프트웨어마이스터고등학교\n",
    "    * [케라스와 함께하는 모바일 딥러닝] 전미정님, iOS 개발자\n",
    "    * [우주기상 소개 및 딥러닝 적용 사례] 박은수님, 경희대학교 우주탐사학과\n",
    "* 3부 (17:15~17:50)\n",
    "    * [생성모델(GAN) 살펴보기] 딥러닝 모델의 네트워크, 학습목표, 최적화기에 대한 기본 개념을 익힙니다.\n",
    "    * [딥강화학습 살펴보기] 딥강화학습이 무엇인지만 간략히 살펴봅니다."
   ]
  },
  {
   "cell_type": "markdown",
   "metadata": {},
   "source": [
    "---\n",
    "\n",
    "### 분야별 라이트닝 톡 신청\n",
    "\n",
    "아래와 같은 주제로 간단하게 발표하실 분을 세미나에 모시고자 합니다. 라이트닝 톡을 하실 분은 저에게 이메일(tykim@inspace.re.kr) 보내주세요. \n",
    "\n",
    "* 해당 분야에서 딥러닝 모델을 적용하신 사례 소개\n",
    "* 아직 딥러닝 모델을 적용하지는 못했으나 보유하고 있는 데이터셋 소개\n",
    "* 기관 내에 전문 인공지능 팀이 있을 경우 팀 소개"
   ]
  },
  {
   "cell_type": "markdown",
   "metadata": {},
   "source": [
    "---\n",
    "\n",
    "### 참가신청\n",
    "\n",
    "스팀잇 가입자분들은 [https://steemit.com/deeplearning/@tykimos/iss](https://steemit.com/deeplearning/@tykimos/iss)에서 신청하시고 그렇지 않으신 분은 아래 댓글로 달아주세요. 이메일만 있으면 비회원으로 쉽게 댓글을 달 수 있습니다. 대관 장소 수용인원이 최대 200명이라 선착순 200분까지만 받겠습니다. 여러 경로로 참가신청을 받기 때문에 등록하시면 제가 순번을 알려드리도록 하겠습니다. 댓글 양식은 아래와 같으며 '한 줄'로 작성 부탁드리겠습니다. \n",
    "\n",
    "* 이름, 기관, 이메일, 분야, 참석계기\n",
    "* 예) 김태영, 인스페이스, tykim@inspace.re.kr, 우주, 위성 운영 효율화를 위해 강화학습을 적용해보고자 합니다.\n",
    "\n",
    "댓글을 달아도 스팸처리되어서 바로 표시 안될 수도 있습니다. 제가 다 스팸아님으로 처리하고 있으니, 크게 신경 안 쓰셔도 됩니다. 그리고 혹시 참석신청하셨으나 부득이한 이유로 참석이 힘드신 분은 미리 알려주세요~ 다른 분들에게 참석 기회를 드리고자 합니다."
   ]
  },
  {
   "cell_type": "markdown",
   "metadata": {},
   "source": [
    "---\n",
    "\n",
    "### 후기\n",
    "\n",
    "시간내기 힘든 월요일 오후에 비까지 오는데도 불구하고 백여명이 넘는 많은 분들이 함께해주셨습니다. 참석해주시면 분들 너무 감사드립니다. 그리고 라이트닝 톡을 준비해주시고 발표해주신 분들도 너무 감사드립니다. 분야별 톡이 점점 활성화가 되었으면 좋겠습니다.\n",
    "\n",
    "![img](http://tykimos.github.io/warehouse/2018-3-19-ISS_Python_Deep_Learning_Keras_with_Blocks_photo.png)"
   ]
  },
  {
   "cell_type": "markdown",
   "metadata": {
    "collapsed": true
   },
   "source": [
    "---\n",
    "\n",
    "### 같이 보기\n",
    "\n",
    "* [다른 세미나 보기](https://tykimos.github.io/seminar/)\n",
    "* [케라스 기초 강좌](https://tykimos.github.io/lecture/)\n",
    "* [케라스 코리아](https://www.facebook.com/groups/KerasKorea/)"
   ]
  }
 ],
 "metadata": {
  "kernelspec": {
   "display_name": "Python 3",
   "language": "python",
   "name": "python3"
  },
  "language_info": {
   "codemirror_mode": {
    "name": "ipython",
    "version": 3
   },
   "file_extension": ".py",
   "mimetype": "text/x-python",
   "name": "python",
   "nbconvert_exporter": "python",
   "pygments_lexer": "ipython3",
   "version": "3.5.0"
  }
 },
 "nbformat": 4,
 "nbformat_minor": 1
}

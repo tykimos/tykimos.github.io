{
 "cells": [
  {
   "cell_type": "raw",
   "metadata": {},
   "source": [
    "---\n",
    "layout: post\n",
    "title:  \"[ISS 세미나] 이지민님, 의료영상 세그멘테이션\"\n",
    "author: 이지민님 발표, 김태영 작성\n",
    "date:   2017-10-30 23:00:00\n",
    "categories: seminar\n",
    "comments: true\n",
    "image: http://tykimos.github.io/warehouse/2017-10-30-ISS_Medical_Image_Segmentation_title.png\n",
    "---"
   ]
  },
  {
   "cell_type": "markdown",
   "metadata": {},
   "source": [
    "이번 ISS에서는 SNU TF 이지민님(서울대학교 방사선의학물리연구실)을 모시고, '의료영상에서의 세그멘테이션\"이란 주제로 세미나를 진행하였습니다. 딥러닝 모델이 분류나 객체검출 문제를 많이 다루긴 하지만 영상처리의 꽃은 역시 세그멘테이션 같습니다. 세그멘테이션에 대한 기본 개념부터 최근 연구되고 있는 딥러닝 모델을 소개합니다.\n",
    "\n",
    "    ISS란 Intelligence Space Semiar의 약자로 인공지능 기술과 관련된 인스페이스의 사내 세미나를 말합니다. 어렵게 모신 전문가분들의 주옥같은 내용을 공유하고자 오픈 세미나로 진행하고 있습니다.\n",
    "\n",
    "![img](http://tykimos.github.io/warehouse/2018-2-7-ISS_Medical_Image_Segmentation_title.png)"
   ]
  },
  {
   "cell_type": "markdown",
   "metadata": {},
   "source": [
    "---\n",
    "### 프로그램\n",
    "\n",
    "* 일시 : 2017년 10월 30일 오후 4시~5시\n",
    "* 장소 : 온라인, 페북 라이브"
   ]
  },
  {
   "cell_type": "markdown",
   "metadata": {},
   "source": [
    "---\n",
    "\n",
    "### 주요 내용\n",
    "\n",
    "[발표자료](https://drive.google.com/open?id=1B72KzNhU0A7CaulRnRuyGHKQpEzJR15w)\n",
    "\n",
    "* Semantic Segmentation 소개\n",
    "* H-DenseUNet: Hybrid Densely Connected UNet for Liver and Liver Tumor Segmentation from CT Volumes 소개 (https://arxiv.org/abs/1709.07330)\n",
    "* Spinal cord gray matter segmentation using deep dilated convolutions 소개 (https://arxiv.org/abs/1710.01269)\n",
    "\n",
    "![img](http://tykimos.github.io/warehouse/2018-2-7-ISS_Medical_Image_Segmentation_1.png)\n",
    "![img](http://tykimos.github.io/warehouse/2018-2-7-ISS_Medical_Image_Segmentation_2.png)\n",
    "\n",
    "[라이브 동영상](https://www.facebook.com/inspace2012/videos/1531818503574270/) (안타깝게도 세그멘테이션 개론부분(12분부터 22분까지)는 녹음이 되지 않았습니다.)\n",
    "\n",
    "![img](http://tykimos.github.io/warehouse/2018-2-7-ISS_Medical_Image_Segmentation_3.png)"
   ]
  },
  {
   "cell_type": "markdown",
   "metadata": {},
   "source": [
    "---\n",
    "\n",
    "### 요약\n",
    "\n",
    "의료분야는 용어부터가 어렵고 리뷰하신 딥러닝 모델도 최신 모델이라 쉽지 않을 것이라 생각했었는데, 비전공자도 알 수 있도록 맞춤형 설명과 주요한 포인트 위주로 설명을 너무 잘해주셔서 큰 도움 되었습니다! 요즘 기본으로 쓰이는 U-Net, DenseNet, Dilated Convolution 설명도 감사합니다. "
   ]
  },
  {
   "cell_type": "markdown",
   "metadata": {
    "collapsed": true
   },
   "source": [
    "---\n",
    "\n",
    "### 같이 보기\n",
    "\n",
    "* [다른 세미나 보기](https://tykimos.github.io/seminar/)\n",
    "* [케라스 기초강좌](https://tykimos.github.io/lecture/)"
   ]
  }
 ],
 "metadata": {
  "kernelspec": {
   "display_name": "Python 2",
   "language": "python",
   "name": "python2"
  },
  "language_info": {
   "codemirror_mode": {
    "name": "ipython",
    "version": 2
   },
   "file_extension": ".py",
   "mimetype": "text/x-python",
   "name": "python",
   "nbconvert_exporter": "python",
   "pygments_lexer": "ipython2",
   "version": "2.7.10"
  }
 },
 "nbformat": 4,
 "nbformat_minor": 1
}

{
 "cells": [
  {
   "cell_type": "raw",
   "metadata": {},
   "source": [
    "---\n",
    "layout: post\n",
    "title:  \"회귀 해보기\"\n",
    "author: Taeyoung, Kim\n",
    "date:   2017-02-04 10:00:00\n",
    "categories: Keras\n",
    "comments: true\n",
    "---"
   ]
  },
  {
   "cell_type": "markdown",
   "metadata": {},
   "source": [
    "본 강좌에서는 회귀(regression)을 다층 퍼셉트론으로 해보겠습니다. 다음과 같은 순서로 진행하겠습니다.\n",
    "\n",
    "1. 데이터셋 준비하기\n",
    "1. 모델 구성하기\n",
    "1. 모델 엮기\n",
    "1. 모델 학습시키기\n",
    "1. 모델 사용하기"
   ]
  },
  {
   "cell_type": "markdown",
   "metadata": {},
   "source": [
    "---\n",
    "\n",
    "### 데이터셋 준비하기\n",
    "\n",
    "The problem that we will look at in this tutorial is the Boston house price dataset. The dataset describes properties of houses in Boston suburbs and is concerned with modeling the price of houses in those suburbs in thousands of dollars. As such, this is a regression predictive modeling problem. There are 13 input variables that describe the properties of a given Boston suburb. The full list of attributes in this dataset are as follows:\n",
    "\n",
    "1. CRIM: per capita crime rate by town.\n",
    "2. ZN: proportion of residential land zoned for lots over 25,000 sq.ft.\n",
    "3. INDUS: proportion of non-retail business acres per town.\n",
    "4. CHAS: Charles River dummy variable (= 1 if tract bounds river; 0 otherwise). 5. NOX: nitric oxides concentration (parts per 10 million).\n",
    "6. RM: average number of rooms per dwelling.\n",
    "7. AGE: proportion of owner-occupied units built prior to 1940. 8. DIS: weighted distances to five Boston employment centers. 9. RAD: index of accessibility to radial highways.\n",
    "10. TAX: full-value property-tax rate per 10,000.\n",
    "11. PTRATIO: pupil-teacher ratio by town.\n",
    "12. B: 1000(Bk   0.63)2 where Bk is the proportion of blacks by town. 13. LSTAT: % lower status of the population.\n",
    "14. MEDV: Median value of owner-occupied homes in   1000s.\n",
    "\n",
    "데이터셋 샘플\n",
    "\n",
    "    0.00632 18.00 2.310 0 0.5380 6.5750 65.20 4.0900 1 296.0 15.30 396.90 4.98 24.00 \n",
    "    0.02731 0.00 7.070 0 0.4690 6.4210 78.90 4.9671 2 242.0 17.80 396.90 9.14 21.60 \n",
    "    0.02729 0.00 7.070 0 0.4690 7.1850 61.10 4.9671 2 242.0 17.80 392.83 4.03 34.70 \n",
    "    0.03237 0.00 2.180 0 0.4580 6.9980 45.80 6.0622 3 222.0 18.70 394.63 2.94 33.40 \n",
    "    0.06905 0.00 2.180 0 0.4580 7.1470 54.20 6.0622 3 222.0 18.70 396.90 5.33 36.20\n",
    "\n",
    "[설명](https://archive.ics.uci.edu/ml/datasets/Housing)\n",
    "[다운](https://archive.ics.uci.edu/ml/machine-learning-databases/housing/housing.data)"
   ]
  },
  {
   "cell_type": "code",
   "execution_count": 3,
   "metadata": {},
   "outputs": [],
   "source": [
    "# Regression Example With Boston Dataset: Baseline\n",
    "import numpy\n",
    "import pandas\n",
    "from keras.models import Sequential\n",
    "from keras.layers import Dense\n",
    "\n",
    "# fix random seed for reproducibility\n",
    "seed = 7\n",
    "numpy.random.seed(seed)"
   ]
  },
  {
   "cell_type": "code",
   "execution_count": 9,
   "metadata": {},
   "outputs": [],
   "source": [
    "# load dataset\n",
    "dataframe = pandas.read_csv(\"warehouse/housing.data\", delim_whitespace=True, header=None)\n",
    "dataset = dataframe.values\n",
    "# split into input (X) and output (Y) variables\n",
    "X = dataset[:,0:13]\n",
    "Y = dataset[:,13]"
   ]
  },
  {
   "cell_type": "markdown",
   "metadata": {},
   "source": [
    "---\n",
    "\n",
    "### 모델 구성하기\n",
    "\n",
    "Dense 클래스를 사용하여 완전 연결 레이어(Fully Connected Layer)를 정의할 수 있다.\n",
    "\n",
    "- 첫번째 인자 : 뉴런의 수\n",
    "- 두번째 인자 : 네트워크 가중치(network weight) 초기화 방법\n",
    " - uniform : 균등분포 (uniform distribution)의 작은 난수들로 초기화 (0~0.05 사이)\n",
    " - normal : 가우시안 분포 (Gaussian distribution)로 생성된 작은 난수들로 초기화 \n",
    "- 세번째 인자 : 활성화 함수(activation function) 지정\n",
    " - relu : rectifier 활성화 함수\n",
    " - sigmoid : sigmoid 활성화 함수\n",
    " - tanh : tanh 활성화 함수\n",
    " \n",
    "마지막 레이어는 sigmoid 할성화 함수를 사용하는데, 이유는 결과가 0과 1사이로 나오는 것을 보장하며, 양성 클래스의 확률로 쉽게 매핑할 수 있기 때문이다. 또한 0.5 임계치(threshold)을 같은 클래스의 범주형 분류(hard classification)를 할 수 있다.\n",
    "\n",
    "- 첫번째 은닉층(hidden layer)는 12개 뉴런을 가지고, 8개 입력을 받아들인다.\n",
    "- 두번째 은닉층은 8개 뉴런을 가진다.\n",
    "- 마지막 레이어는 클래스를 예측하는 1개의 뉴런을 가진다."
   ]
  },
  {
   "cell_type": "code",
   "execution_count": 10,
   "metadata": {},
   "outputs": [],
   "source": [
    "# create model\n",
    "model = Sequential()\n",
    "model.add(Dense(13, input_dim=13, init='normal', activation='relu'))\n",
    "model.add(Dense(1, init='normal'))"
   ]
  },
  {
   "cell_type": "code",
   "execution_count": 11,
   "metadata": {},
   "outputs": [
    {
     "data": {
      "image/svg+xml": [
       "<svg height=\"215pt\" viewBox=\"0.00 0.00 307.56 215.00\" width=\"308pt\" xmlns=\"http://www.w3.org/2000/svg\" xmlns:xlink=\"http://www.w3.org/1999/xlink\">\n",
       "<g class=\"graph\" id=\"graph0\" transform=\"scale(1 1) rotate(0) translate(4 211)\">\n",
       "<title>G</title>\n",
       "<polygon fill=\"#ffffff\" points=\"-4,4 -4,-211 303.5557,-211 303.5557,4 -4,4\" stroke=\"transparent\"/>\n",
       "<!-- 4549842832 -->\n",
       "<g class=\"node\" id=\"node1\">\n",
       "<title>4549842832</title>\n",
       "<polygon fill=\"none\" points=\"0,-162.5 0,-206.5 299.5557,-206.5 299.5557,-162.5 0,-162.5\" stroke=\"#000000\"/>\n",
       "<text fill=\"#000000\" font-family=\"Times,serif\" font-size=\"14.00\" text-anchor=\"middle\" x=\"83.6191\" y=\"-180.3\">dense_input_2: InputLayer</text>\n",
       "<polyline fill=\"none\" points=\"167.2383,-162.5 167.2383,-206.5 \" stroke=\"#000000\"/>\n",
       "<text fill=\"#000000\" font-family=\"Times,serif\" font-size=\"14.00\" text-anchor=\"middle\" x=\"195.0728\" y=\"-191.3\">input:</text>\n",
       "<polyline fill=\"none\" points=\"167.2383,-184.5 222.9072,-184.5 \" stroke=\"#000000\"/>\n",
       "<text fill=\"#000000\" font-family=\"Times,serif\" font-size=\"14.00\" text-anchor=\"middle\" x=\"195.0728\" y=\"-169.3\">output:</text>\n",
       "<polyline fill=\"none\" points=\"222.9072,-162.5 222.9072,-206.5 \" stroke=\"#000000\"/>\n",
       "<text fill=\"#000000\" font-family=\"Times,serif\" font-size=\"14.00\" text-anchor=\"middle\" x=\"261.2314\" y=\"-191.3\">(None, 13)</text>\n",
       "<polyline fill=\"none\" points=\"222.9072,-184.5 299.5557,-184.5 \" stroke=\"#000000\"/>\n",
       "<text fill=\"#000000\" font-family=\"Times,serif\" font-size=\"14.00\" text-anchor=\"middle\" x=\"261.2314\" y=\"-169.3\">(None, 13)</text>\n",
       "</g>\n",
       "<!-- 4549842512 -->\n",
       "<g class=\"node\" id=\"node2\">\n",
       "<title>4549842512</title>\n",
       "<polygon fill=\"none\" points=\"31.4932,-81.5 31.4932,-125.5 268.0625,-125.5 268.0625,-81.5 31.4932,-81.5\" stroke=\"#000000\"/>\n",
       "<text fill=\"#000000\" font-family=\"Times,serif\" font-size=\"14.00\" text-anchor=\"middle\" x=\"83.6191\" y=\"-99.3\">dense_3: Dense</text>\n",
       "<polyline fill=\"none\" points=\"135.7451,-81.5 135.7451,-125.5 \" stroke=\"#000000\"/>\n",
       "<text fill=\"#000000\" font-family=\"Times,serif\" font-size=\"14.00\" text-anchor=\"middle\" x=\"163.5796\" y=\"-110.3\">input:</text>\n",
       "<polyline fill=\"none\" points=\"135.7451,-103.5 191.4141,-103.5 \" stroke=\"#000000\"/>\n",
       "<text fill=\"#000000\" font-family=\"Times,serif\" font-size=\"14.00\" text-anchor=\"middle\" x=\"163.5796\" y=\"-88.3\">output:</text>\n",
       "<polyline fill=\"none\" points=\"191.4141,-81.5 191.4141,-125.5 \" stroke=\"#000000\"/>\n",
       "<text fill=\"#000000\" font-family=\"Times,serif\" font-size=\"14.00\" text-anchor=\"middle\" x=\"229.7383\" y=\"-110.3\">(None, 13)</text>\n",
       "<polyline fill=\"none\" points=\"191.4141,-103.5 268.0625,-103.5 \" stroke=\"#000000\"/>\n",
       "<text fill=\"#000000\" font-family=\"Times,serif\" font-size=\"14.00\" text-anchor=\"middle\" x=\"229.7383\" y=\"-88.3\">(None, 13)</text>\n",
       "</g>\n",
       "<!-- 4549842832&#45;&gt;4549842512 -->\n",
       "<g class=\"edge\" id=\"edge1\">\n",
       "<title>4549842832-&gt;4549842512</title>\n",
       "<path d=\"M149.7778,-162.3664C149.7778,-154.1516 149.7778,-144.6579 149.7778,-135.7252\" fill=\"none\" stroke=\"#000000\"/>\n",
       "<polygon fill=\"#000000\" points=\"153.2779,-135.6068 149.7778,-125.6068 146.2779,-135.6069 153.2779,-135.6068\" stroke=\"#000000\"/>\n",
       "</g>\n",
       "<!-- 4549843024 -->\n",
       "<g class=\"node\" id=\"node3\">\n",
       "<title>4549843024</title>\n",
       "<polygon fill=\"none\" points=\"31.4932,-.5 31.4932,-44.5 268.0625,-44.5 268.0625,-.5 31.4932,-.5\" stroke=\"#000000\"/>\n",
       "<text fill=\"#000000\" font-family=\"Times,serif\" font-size=\"14.00\" text-anchor=\"middle\" x=\"83.6191\" y=\"-18.3\">dense_4: Dense</text>\n",
       "<polyline fill=\"none\" points=\"135.7451,-.5 135.7451,-44.5 \" stroke=\"#000000\"/>\n",
       "<text fill=\"#000000\" font-family=\"Times,serif\" font-size=\"14.00\" text-anchor=\"middle\" x=\"163.5796\" y=\"-29.3\">input:</text>\n",
       "<polyline fill=\"none\" points=\"135.7451,-22.5 191.4141,-22.5 \" stroke=\"#000000\"/>\n",
       "<text fill=\"#000000\" font-family=\"Times,serif\" font-size=\"14.00\" text-anchor=\"middle\" x=\"163.5796\" y=\"-7.3\">output:</text>\n",
       "<polyline fill=\"none\" points=\"191.4141,-.5 191.4141,-44.5 \" stroke=\"#000000\"/>\n",
       "<text fill=\"#000000\" font-family=\"Times,serif\" font-size=\"14.00\" text-anchor=\"middle\" x=\"229.7383\" y=\"-29.3\">(None, 13)</text>\n",
       "<polyline fill=\"none\" points=\"191.4141,-22.5 268.0625,-22.5 \" stroke=\"#000000\"/>\n",
       "<text fill=\"#000000\" font-family=\"Times,serif\" font-size=\"14.00\" text-anchor=\"middle\" x=\"229.7383\" y=\"-7.3\">(None, 1)</text>\n",
       "</g>\n",
       "<!-- 4549842512&#45;&gt;4549843024 -->\n",
       "<g class=\"edge\" id=\"edge2\">\n",
       "<title>4549842512-&gt;4549843024</title>\n",
       "<path d=\"M149.7778,-81.3664C149.7778,-73.1516 149.7778,-63.6579 149.7778,-54.7252\" fill=\"none\" stroke=\"#000000\"/>\n",
       "<polygon fill=\"#000000\" points=\"153.2779,-54.6068 149.7778,-44.6068 146.2779,-54.6069 153.2779,-54.6068\" stroke=\"#000000\"/>\n",
       "</g>\n",
       "</g>\n",
       "</svg>"
      ],
      "text/plain": [
       "<IPython.core.display.SVG object>"
      ]
     },
     "execution_count": 11,
     "metadata": {},
     "output_type": "execute_result"
    }
   ],
   "source": [
    "from IPython.display import SVG\n",
    "from keras.utils.visualize_util import model_to_dot\n",
    "\n",
    "SVG(model_to_dot(model, show_shapes=True).create(prog='dot', format='svg'))"
   ]
  },
  {
   "cell_type": "markdown",
   "metadata": {},
   "source": [
    "![svg]({{ site.baseurl }}/posts_warehouse/2017-2-4-1.svg)"
   ]
  },
  {
   "cell_type": "markdown",
   "metadata": {},
   "source": [
    "---\n",
    "\n",
    "### 모델 엮기\n",
    "\n",
    "컴파일 시에 정의해야하는 것들\n",
    "- 가중치 세트를 평가하는 데 사용할 손실함수(loss function)\n",
    " - binary_crossentropy : 이진 분류를 위한 logarithmic loss\n",
    "- 네트워크의 다른 가중치를 검객하는 데 사용되는 최적화 알고리즘\n",
    " - adam : 효율적인 경사 하강법(gradient descent) 알고리즘\n",
    "- 학습과정에서 수집하기 싶은 측정 기준"
   ]
  },
  {
   "cell_type": "code",
   "execution_count": 12,
   "metadata": {},
   "outputs": [],
   "source": [
    "# Compile model\n",
    "model.compile(loss='mean_squared_error', optimizer='adam')"
   ]
  },
  {
   "cell_type": "markdown",
   "metadata": {},
   "source": [
    "---\n",
    "\n",
    "### 모델 학습시키기\n",
    "\n",
    "- nb_epoch : 데이터셋에 대한 반복 횟수\n",
    "- batch_size : 네트워크에서 가중치 개갱신 전에 평가되는 인스턴스의 수"
   ]
  },
  {
   "cell_type": "code",
   "execution_count": 13,
   "metadata": {},
   "outputs": [
    {
     "name": "stdout",
     "output_type": "stream",
     "text": [
      "Epoch 1/100\n",
      "506/506 [==============================] - 0s - loss: 297.2729     \n",
      "Epoch 2/100\n",
      "506/506 [==============================] - 0s - loss: 97.8218     \n",
      "Epoch 3/100\n",
      "506/506 [==============================] - 0s - loss: 77.4948     \n",
      "Epoch 4/100\n",
      "506/506 [==============================] - 0s - loss: 70.6009     \n",
      "Epoch 5/100\n",
      "506/506 [==============================] - 0s - loss: 64.7141     \n",
      "Epoch 6/100\n",
      "506/506 [==============================] - 0s - loss: 60.3480     \n",
      "Epoch 7/100\n",
      "506/506 [==============================] - 0s - loss: 58.4855     \n",
      "Epoch 8/100\n",
      "506/506 [==============================] - 0s - loss: 56.0351     \n",
      "Epoch 9/100\n",
      "506/506 [==============================] - 0s - loss: 55.3093     \n",
      "Epoch 10/100\n",
      "506/506 [==============================] - 0s - loss: 51.7408     \n",
      "Epoch 11/100\n",
      "506/506 [==============================] - 0s - loss: 49.8788     \n",
      "Epoch 12/100\n",
      "506/506 [==============================] - 0s - loss: 49.0121     \n",
      "Epoch 13/100\n",
      "506/506 [==============================] - 0s - loss: 47.1932     \n",
      "Epoch 14/100\n",
      "506/506 [==============================] - 0s - loss: 46.6073     \n",
      "Epoch 15/100\n",
      "506/506 [==============================] - 0s - loss: 44.7104     \n",
      "Epoch 16/100\n",
      "506/506 [==============================] - 0s - loss: 43.9008     \n",
      "Epoch 17/100\n",
      "506/506 [==============================] - 0s - loss: 42.8778     \n",
      "Epoch 18/100\n",
      "506/506 [==============================] - 0s - loss: 42.3440     \n",
      "Epoch 19/100\n",
      "506/506 [==============================] - 0s - loss: 40.3391     \n",
      "Epoch 20/100\n",
      "506/506 [==============================] - 0s - loss: 40.4568     \n",
      "Epoch 21/100\n",
      "506/506 [==============================] - 0s - loss: 39.9596     \n",
      "Epoch 22/100\n",
      "506/506 [==============================] - 0s - loss: 39.3034     \n",
      "Epoch 23/100\n",
      "506/506 [==============================] - 0s - loss: 39.6309     \n",
      "Epoch 24/100\n",
      "506/506 [==============================] - 0s - loss: 38.6123     \n",
      "Epoch 25/100\n",
      "506/506 [==============================] - 0s - loss: 38.7690     \n",
      "Epoch 26/100\n",
      "506/506 [==============================] - 0s - loss: 37.1025     \n",
      "Epoch 27/100\n",
      "506/506 [==============================] - 0s - loss: 37.7918     \n",
      "Epoch 28/100\n",
      "506/506 [==============================] - 0s - loss: 36.4245     \n",
      "Epoch 29/100\n",
      "506/506 [==============================] - 0s - loss: 37.4883     \n",
      "Epoch 30/100\n",
      "506/506 [==============================] - 0s - loss: 36.5076     \n",
      "Epoch 31/100\n",
      "506/506 [==============================] - 0s - loss: 36.2347     \n",
      "Epoch 32/100\n",
      "506/506 [==============================] - 0s - loss: 35.5838     \n",
      "Epoch 33/100\n",
      "506/506 [==============================] - 0s - loss: 35.7024     \n",
      "Epoch 34/100\n",
      "506/506 [==============================] - 0s - loss: 35.5849     \n",
      "Epoch 35/100\n",
      "506/506 [==============================] - 0s - loss: 37.0540     \n",
      "Epoch 36/100\n",
      "506/506 [==============================] - 0s - loss: 36.2934     \n",
      "Epoch 37/100\n",
      "506/506 [==============================] - 0s - loss: 34.7697     \n",
      "Epoch 38/100\n",
      "506/506 [==============================] - 0s - loss: 36.2192     \n",
      "Epoch 39/100\n",
      "506/506 [==============================] - 0s - loss: 35.4357     \n",
      "Epoch 40/100\n",
      "506/506 [==============================] - 0s - loss: 34.3947     \n",
      "Epoch 41/100\n",
      "506/506 [==============================] - 0s - loss: 33.0494     \n",
      "Epoch 42/100\n",
      "506/506 [==============================] - 0s - loss: 34.7293     \n",
      "Epoch 43/100\n",
      "506/506 [==============================] - 0s - loss: 34.0770     \n",
      "Epoch 44/100\n",
      "506/506 [==============================] - 0s - loss: 36.2987     \n",
      "Epoch 45/100\n",
      "506/506 [==============================] - 0s - loss: 34.3029     \n",
      "Epoch 46/100\n",
      "506/506 [==============================] - 0s - loss: 33.5097     \n",
      "Epoch 47/100\n",
      "506/506 [==============================] - 0s - loss: 33.1462     \n",
      "Epoch 48/100\n",
      "506/506 [==============================] - 0s - loss: 33.8347     \n",
      "Epoch 49/100\n",
      "506/506 [==============================] - 0s - loss: 35.4083     \n",
      "Epoch 50/100\n",
      "506/506 [==============================] - 0s - loss: 33.3579     \n",
      "Epoch 51/100\n",
      "506/506 [==============================] - 0s - loss: 33.5489     \n",
      "Epoch 52/100\n",
      "506/506 [==============================] - 0s - loss: 33.9953     \n",
      "Epoch 53/100\n",
      "506/506 [==============================] - 0s - loss: 33.6475     \n",
      "Epoch 54/100\n",
      "506/506 [==============================] - 0s - loss: 32.5811     \n",
      "Epoch 55/100\n",
      "506/506 [==============================] - 0s - loss: 32.7327     \n",
      "Epoch 56/100\n",
      "506/506 [==============================] - 0s - loss: 32.1236     \n",
      "Epoch 57/100\n",
      "506/506 [==============================] - 0s - loss: 33.9975     \n",
      "Epoch 58/100\n",
      "506/506 [==============================] - 0s - loss: 32.3041     \n",
      "Epoch 59/100\n",
      "506/506 [==============================] - 0s - loss: 32.9025     \n",
      "Epoch 60/100\n",
      "506/506 [==============================] - 0s - loss: 32.6332     \n",
      "Epoch 61/100\n",
      "506/506 [==============================] - 0s - loss: 31.7769     \n",
      "Epoch 62/100\n",
      "506/506 [==============================] - 0s - loss: 33.6513     \n",
      "Epoch 63/100\n",
      "506/506 [==============================] - 0s - loss: 32.9209     \n",
      "Epoch 64/100\n",
      "506/506 [==============================] - 0s - loss: 33.5083     \n",
      "Epoch 65/100\n",
      "506/506 [==============================] - 0s - loss: 32.2744     \n",
      "Epoch 66/100\n",
      "506/506 [==============================] - 0s - loss: 32.6836     \n",
      "Epoch 67/100\n",
      "506/506 [==============================] - 0s - loss: 33.7375     \n",
      "Epoch 68/100\n",
      "506/506 [==============================] - 0s - loss: 33.6146     \n",
      "Epoch 69/100\n",
      "506/506 [==============================] - 0s - loss: 32.3107     \n",
      "Epoch 70/100\n",
      "506/506 [==============================] - 0s - loss: 31.4479     \n",
      "Epoch 71/100\n",
      "506/506 [==============================] - 0s - loss: 31.7228     \n",
      "Epoch 72/100\n",
      "506/506 [==============================] - 0s - loss: 31.8465     \n",
      "Epoch 73/100\n",
      "506/506 [==============================] - 0s - loss: 31.6101     \n",
      "Epoch 74/100\n",
      "506/506 [==============================] - 0s - loss: 31.4841     \n",
      "Epoch 75/100\n",
      "506/506 [==============================] - 0s - loss: 31.9231     \n",
      "Epoch 76/100\n",
      "506/506 [==============================] - 0s - loss: 31.9832     \n",
      "Epoch 77/100\n",
      "506/506 [==============================] - 0s - loss: 32.0901     \n",
      "Epoch 78/100\n",
      "506/506 [==============================] - 0s - loss: 31.1993     \n",
      "Epoch 79/100\n",
      "506/506 [==============================] - 0s - loss: 32.4315     \n",
      "Epoch 80/100\n",
      "506/506 [==============================] - 0s - loss: 30.9126     \n",
      "Epoch 81/100\n",
      "506/506 [==============================] - 0s - loss: 31.2947     \n",
      "Epoch 82/100\n",
      "506/506 [==============================] - 0s - loss: 31.1090     \n",
      "Epoch 83/100\n",
      "506/506 [==============================] - 0s - loss: 30.9935     \n",
      "Epoch 84/100\n",
      "506/506 [==============================] - 0s - loss: 31.0955     \n",
      "Epoch 85/100\n",
      "506/506 [==============================] - 0s - loss: 31.6052     \n",
      "Epoch 86/100\n",
      "506/506 [==============================] - 0s - loss: 30.7330     \n",
      "Epoch 87/100\n",
      "506/506 [==============================] - 0s - loss: 30.7177     \n",
      "Epoch 88/100\n",
      "506/506 [==============================] - 0s - loss: 30.5642     \n",
      "Epoch 89/100\n",
      "506/506 [==============================] - 0s - loss: 31.0249     \n",
      "Epoch 90/100\n",
      "506/506 [==============================] - 0s - loss: 30.5697     \n",
      "Epoch 91/100\n",
      "506/506 [==============================] - 0s - loss: 30.2707     \n",
      "Epoch 92/100\n",
      "506/506 [==============================] - 0s - loss: 31.0460     \n",
      "Epoch 93/100\n",
      "506/506 [==============================] - 0s - loss: 31.8573     \n",
      "Epoch 94/100\n",
      "506/506 [==============================] - 0s - loss: 30.2875     \n",
      "Epoch 95/100\n",
      "506/506 [==============================] - 0s - loss: 30.2969     \n",
      "Epoch 96/100\n",
      "506/506 [==============================] - 0s - loss: 30.2739     \n",
      "Epoch 97/100\n",
      "506/506 [==============================] - 0s - loss: 29.6483     \n",
      "Epoch 98/100\n",
      "506/506 [==============================] - 0s - loss: 29.8487     \n",
      "Epoch 99/100\n",
      "506/506 [==============================] - 0s - loss: 30.2368     \n",
      "Epoch 100/100\n",
      "506/506 [==============================] - 0s - loss: 31.5901     \n"
     ]
    },
    {
     "data": {
      "text/plain": [
       "<keras.callbacks.History at 0x110af0690>"
      ]
     },
     "execution_count": 13,
     "metadata": {},
     "output_type": "execute_result"
    }
   ],
   "source": [
    "# Fit the model\n",
    "model.fit(X, Y, nb_epoch=100, batch_size=5) # nb_epoch 150"
   ]
  },
  {
   "cell_type": "markdown",
   "metadata": {},
   "source": [
    "---\n",
    "\n",
    "### 모델 사용하기"
   ]
  },
  {
   "cell_type": "code",
   "execution_count": 16,
   "metadata": {},
   "outputs": [
    {
     "name": "stdout",
     "output_type": "stream",
     "text": [
      " 32/506 [>.............................] - ETA: 0s MSE : 17.42\n"
     ]
    }
   ],
   "source": [
    "# evaliuate\n",
    "scores = model.evaluate(X, Y)\n",
    "\n",
    "print(\" MSE : %.2f\" %(scores))"
   ]
  },
  {
   "cell_type": "code",
   "execution_count": 9,
   "metadata": {},
   "outputs": [
    {
     "data": {
      "text/plain": [
       "17.420470452591363"
      ]
     },
     "execution_count": 9,
     "metadata": {},
     "output_type": "execute_result"
    }
   ],
   "source": [
    "scores"
   ]
  },
  {
   "cell_type": "code",
   "execution_count": 11,
   "metadata": {},
   "outputs": [
    {
     "data": {
      "text/plain": [
       "array([ 24. ,  21.6,  34.7,  33.4,  36.2,  28.7,  22.9,  27.1,  16.5,\n",
       "        18.9,  15. ,  18.9,  21.7,  20.4,  18.2,  19.9,  23.1,  17.5,\n",
       "        20.2,  18.2,  13.6,  19.6,  15.2,  14.5,  15.6,  13.9,  16.6,\n",
       "        14.8,  18.4,  21. ,  12.7,  14.5,  13.2,  13.1,  13.5,  18.9,\n",
       "        20. ,  21. ,  24.7,  30.8,  34.9,  26.6,  25.3,  24.7,  21.2,\n",
       "        19.3,  20. ,  16.6,  14.4,  19.4,  19.7,  20.5,  25. ,  23.4,\n",
       "        18.9,  35.4,  24.7,  31.6,  23.3,  19.6,  18.7,  16. ,  22.2,\n",
       "        25. ,  33. ,  23.5,  19.4,  22. ,  17.4,  20.9,  24.2,  21.7,\n",
       "        22.8,  23.4,  24.1,  21.4,  20. ,  20.8,  21.2,  20.3,  28. ,\n",
       "        23.9,  24.8,  22.9,  23.9,  26.6,  22.5,  22.2,  23.6,  28.7,\n",
       "        22.6,  22. ,  22.9,  25. ,  20.6,  28.4,  21.4,  38.7,  43.8,\n",
       "        33.2,  27.5,  26.5,  18.6,  19.3,  20.1,  19.5,  19.5,  20.4,\n",
       "        19.8,  19.4,  21.7,  22.8,  18.8,  18.7,  18.5,  18.3,  21.2,\n",
       "        19.2,  20.4,  19.3,  22. ,  20.3,  20.5,  17.3,  18.8,  21.4,\n",
       "        15.7,  16.2,  18. ,  14.3,  19.2,  19.6,  23. ,  18.4,  15.6,\n",
       "        18.1,  17.4,  17.1,  13.3,  17.8,  14. ,  14.4,  13.4,  15.6,\n",
       "        11.8,  13.8,  15.6,  14.6,  17.8,  15.4,  21.5,  19.6,  15.3,\n",
       "        19.4,  17. ,  15.6,  13.1,  41.3,  24.3,  23.3,  27. ,  50. ,\n",
       "        50. ,  50. ,  22.7,  25. ,  50. ,  23.8,  23.8,  22.3,  17.4,\n",
       "        19.1,  23.1,  23.6,  22.6,  29.4,  23.2,  24.6,  29.9,  37.2,\n",
       "        39.8,  36.2,  37.9,  32.5,  26.4,  29.6,  50. ,  32. ,  29.8,\n",
       "        34.9,  37. ,  30.5,  36.4,  31.1,  29.1,  50. ,  33.3,  30.3,\n",
       "        34.6,  34.9,  32.9,  24.1,  42.3,  48.5,  50. ,  22.6,  24.4,\n",
       "        22.5,  24.4,  20. ,  21.7,  19.3,  22.4,  28.1,  23.7,  25. ,\n",
       "        23.3,  28.7,  21.5,  23. ,  26.7,  21.7,  27.5,  30.1,  44.8,\n",
       "        50. ,  37.6,  31.6,  46.7,  31.5,  24.3,  31.7,  41.7,  48.3,\n",
       "        29. ,  24. ,  25.1,  31.5,  23.7,  23.3,  22. ,  20.1,  22.2,\n",
       "        23.7,  17.6,  18.5,  24.3,  20.5,  24.5,  26.2,  24.4,  24.8,\n",
       "        29.6,  42.8,  21.9,  20.9,  44. ,  50. ,  36. ,  30.1,  33.8,\n",
       "        43.1,  48.8,  31. ,  36.5,  22.8,  30.7,  50. ,  43.5,  20.7,\n",
       "        21.1,  25.2,  24.4,  35.2,  32.4,  32. ,  33.2,  33.1,  29.1,\n",
       "        35.1,  45.4,  35.4,  46. ,  50. ,  32.2,  22. ,  20.1,  23.2,\n",
       "        22.3,  24.8,  28.5,  37.3,  27.9,  23.9,  21.7,  28.6,  27.1,\n",
       "        20.3,  22.5,  29. ,  24.8,  22. ,  26.4,  33.1,  36.1,  28.4,\n",
       "        33.4,  28.2,  22.8,  20.3,  16.1,  22.1,  19.4,  21.6,  23.8,\n",
       "        16.2,  17.8,  19.8,  23.1,  21. ,  23.8,  23.1,  20.4,  18.5,\n",
       "        25. ,  24.6,  23. ,  22.2,  19.3,  22.6,  19.8,  17.1,  19.4,\n",
       "        22.2,  20.7,  21.1,  19.5,  18.5,  20.6,  19. ,  18.7,  32.7,\n",
       "        16.5,  23.9,  31.2,  17.5,  17.2,  23.1,  24.5,  26.6,  22.9,\n",
       "        24.1,  18.6,  30.1,  18.2,  20.6,  17.8,  21.7,  22.7,  22.6,\n",
       "        25. ,  19.9,  20.8,  16.8,  21.9,  27.5,  21.9,  23.1,  50. ,\n",
       "        50. ,  50. ,  50. ,  50. ,  13.8,  13.8,  15. ,  13.9,  13.3,\n",
       "        13.1,  10.2,  10.4,  10.9,  11.3,  12.3,   8.8,   7.2,  10.5,\n",
       "         7.4,  10.2,  11.5,  15.1,  23.2,   9.7,  13.8,  12.7,  13.1,\n",
       "        12.5,   8.5,   5. ,   6.3,   5.6,   7.2,  12.1,   8.3,   8.5,\n",
       "         5. ,  11.9,  27.9,  17.2,  27.5,  15. ,  17.2,  17.9,  16.3,\n",
       "         7. ,   7.2,   7.5,  10.4,   8.8,   8.4,  16.7,  14.2,  20.8,\n",
       "        13.4,  11.7,   8.3,  10.2,  10.9,  11. ,   9.5,  14.5,  14.1,\n",
       "        16.1,  14.3,  11.7,  13.4,   9.6,   8.7,   8.4,  12.8,  10.5,\n",
       "        17.1,  18.4,  15.4,  10.8,  11.8,  14.9,  12.6,  14.1,  13. ,\n",
       "        13.4,  15.2,  16.1,  17.8,  14.9,  14.1,  12.7,  13.5,  14.9,\n",
       "        20. ,  16.4,  17.7,  19.5,  20.2,  21.4,  19.9,  19. ,  19.1,\n",
       "        19.1,  20.1,  19.9,  19.6,  23.2,  29.8,  13.8,  13.3,  16.7,\n",
       "        12. ,  14.6,  21.4,  23. ,  23.7,  25. ,  21.8,  20.6,  21.2,\n",
       "        19.1,  20.6,  15.2,   7. ,   8.1,  13.6,  20.1,  21.8,  24.5,\n",
       "        23.1,  19.7,  18.3,  21.2,  17.5,  16.8,  22.4,  20.6,  23.9,\n",
       "        22. ,  11.9])"
      ]
     },
     "execution_count": 11,
     "metadata": {},
     "output_type": "execute_result"
    }
   ],
   "source": [
    "Y"
   ]
  },
  {
   "cell_type": "markdown",
   "metadata": {
    "collapsed": true
   },
   "source": [
    "---\n",
    "\n",
    "### 같이 보기\n",
    "\n",
    "* [강좌 목차](https://tykimos.github.io/lecture/)\n",
    "* 이전 : [딥러닝 이야기/레이어 이야기](https://tykimos.github.io/2017/01/27/Layer_Talk/)\n",
    "* 다음 : [딥러닝 기본 실습/컨볼루션 신경망 모델 만들어보기](https://tykimos.github.io/2017/02/04/CNN_Getting_Started/)"
   ]
  },
  {
   "cell_type": "code",
   "execution_count": null,
   "metadata": {
    "collapsed": true
   },
   "outputs": [],
   "source": []
  }
 ],
 "metadata": {
  "kernelspec": {
   "display_name": "Python 2",
   "language": "python",
   "name": "python2"
  },
  "language_info": {
   "codemirror_mode": {
    "name": "ipython",
    "version": 2
   },
   "file_extension": ".py",
   "mimetype": "text/x-python",
   "name": "python",
   "nbconvert_exporter": "python",
   "pygments_lexer": "ipython2",
   "version": "2.7.13"
  }
 },
 "nbformat": 4,
 "nbformat_minor": 1
}
